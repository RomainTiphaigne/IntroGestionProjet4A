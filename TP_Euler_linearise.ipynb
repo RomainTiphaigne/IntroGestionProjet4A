{
 "cells": [
  {
   "cell_type": "markdown",
   "metadata": {},
   "source": [
    "# Schémas Upwind et de Godunov pour les sytèmes linéaires hyperboliques - Application aux équations d'Euler linéarisées"
   ]
  },
  {
   "cell_type": "markdown",
   "metadata": {},
   "source": [
    "_Consignes:_\n",
    "* _Ce TP est noté et à rendre (au plus tard) pour le 21/12/2023._\n",
    "* _Le TP peut être fait en binôme_\n",
    "* _La partie 1.1 (Théorie) est facultative, elle permet à ceux qui le souhaitent de travailler le cours_\n",
    "* _Toute la partie 1.2 est à compléter, sauf la partie 1.2.2 qui donne lieu à un bonus_\n",
    "* _Une fois terminé, le TP est à envoyer à maxime.bouyges@onera.fr avec le nom suivant : TP1-NOM1\\_PRENOM1-NOM2\\_PRENOM2.ipynb_"
   ]
  },
  {
   "cell_type": "markdown",
   "metadata": {},
   "source": [
    "## Théorie : Schémas Upwind et Godunov pour les systèmes linéaires\n",
    "Dans toute la suite, on considère un système d'équations de transport linéaires écrit sous la forme\n",
    "$$\n",
    "\\partial_t U + A\\partial_x U = 0\n",
    "$$\n",
    "où $A$ est une matrice à coefficients constants et $U$ est un vecteur de taille $n$.\n",
    "\n",
    "La suite de ce paragraphe a été traité en cours. Le système étant hyperbolique, la matrice $A$ est diagonalisable dans $\\mathbb{R}$ : $A = RDR^{-1}$. Le système peut alors être exprimé avec le vecteur des variables caractéristiques et la matrice diagonale $D$\n",
    "$$\n",
    "\\partial_t V + D \\partial_x V = 0,\n",
    "$$\n",
    "avec $V=R^{-1}U =(v^1,v^2,...,v^n)$. Ce système représente en fait $n$ équations indépendantes:\n",
    "$$\n",
    "\\partial_t v^j + \\lambda^j \\partial_x v^j = 0,~~~\\forall j \\leq n.\n",
    "$$\n"
   ]
  },
  {
   "cell_type": "markdown",
   "metadata": {},
   "source": [
    "### Schéma Upwind\n",
    "Dans cette partie, on détermine l'expression du flux Upwind pour le système linéaire hyperbolique. On rappelle que le flux Upwind pour une équation scalaire s'écrit\n",
    "$$\n",
    "f_{i+1/2}(v_i,v_{i+1}) = \\left\\{\n",
    "        \\begin{aligned}\n",
    "        v_i~\\text{si}~\\lambda > 0 \\\\\n",
    "        v_{i+1}~\\text{sinon}\n",
    "        \\end{aligned}\n",
    "    \\right.\n",
    "$$\n",
    "ce qui revient à écrire\n",
    "$$\n",
    "f_{i+1/2}(v_i,v_{i+1}) = \\max(\\lambda,0) v_i + \\min(\\lambda, 0) v_{i+1}.\n",
    "$$"
   ]
  },
  {
   "cell_type": "markdown",
   "metadata": {},
   "source": [
    "#### Question 1\n",
    "On commence par appliquer le flux Upwind à chacune des $n$ équations scalaires indépendantes portant sur les variables caractéristiques $v^j$. On omet désormais l'exposant sur les variables scalaires $v^j \\rightarrow v$. En introduisant les notations\n",
    "$$\n",
    "\\begin{aligned}\n",
    "& \\lambda^+ = \\max(\\lambda,0) = \\dfrac{1}{2}(\\lambda + |\\lambda|), \\\\\n",
    "& \\lambda^- = \\min(\\lambda,0) = \\dfrac{1}{2}(\\lambda - |\\lambda|), \\\\\n",
    "\\end{aligned}\n",
    "$$\n",
    "**montrez** que le schéma Upwind l'expression du flux Upwind appliqué à l'équation scalaire\n",
    "$$\n",
    "\\partial_t v + \\lambda \\partial_x v = 0\n",
    "$$\n",
    "s'écrit (ici $i$ ne désigne plus la composante de $v$ mais l'indice d'une cellule)\n",
    "$$\n",
    "v_i^{n+1} = v_i^n - \\dfrac{\\Delta t}{\\Delta x}\\lambda_i^+(v_i^n - v_{i-1}^n) - \\dfrac{\\Delta t}{\\Delta x}\\lambda_i^-(v_{i+1}^n - v_i^n).\n",
    "$$"
   ]
  },
  {
   "cell_type": "markdown",
   "metadata": {},
   "source": [
    "#### Réponse 1\n",
    "\n",
    "Remarquons d'abord que $\\lambda^+ + \\lambda^- = \\lambda$\n",
    "\n",
    "Ainsi,\n",
    "\n",
    "$$\n",
    "\\partial_t v + \\lambda \\partial_x v = 0 \\\\\n",
    "\\Leftrightarrow \\frac{v^{n+1}_i - v^{n}_i}{\\Delta t} + \\lambda^+ \\partial_x v + \\lambda^- \\partial_x v = 0\n",
    "$$\n",
    "\n",
    "Si  $\\lambda^+ > 0$ et donc  $\\lambda^- = 0$ alors le flux vient de la (droite ?) et donc on discrétise $\\partial_x v$ en $\\frac{(v_i^n - v_{i-1}^n)}{\\Delta x}$ \\\n",
    "Si  $\\lambda^- > 0$ et donc  $\\lambda^+ = 0$ alors le flux vient de la (gauche ?) et donc on discrétise $\\partial_x v$ en $\\frac{(v_{i+1}^n - v_i^n)}{\\Delta x}$\n",
    "\n",
    "On a donc \n",
    "\n",
    "$$\n",
    "\\frac{v^{n+1}_i - v^{n}_i}{\\Delta t} + \\lambda^+ \\frac{(v_i^n - v_{i-1}^n)}{\\Delta x} + \\lambda^- \\frac{(v_{i+1}^n - v_i^n)}{\\Delta x} = 0 \\\\\n",
    "\\Leftrightarrow v_i^{n+1} = v_i^n - \\dfrac{\\Delta t}{\\Delta x}\\lambda_i^+(v_i^n - v_{i-1}^n) - \\dfrac{\\Delta t}{\\Delta x}\\lambda_i^-(v_{i+1}^n - v_i^n).\n",
    "$$"
   ]
  },
  {
   "cell_type": "markdown",
   "metadata": {},
   "source": [
    "#### Question 2\n",
    "On pose $D^+ = \\mathrm{diag}(\\lambda_1^+,...,\\lambda_n^+)$ et $D^- = \\mathrm{diag}(\\lambda_1^-,...,\\lambda_n^-)$; puis $A^+=RD^+R^{-1}$ et $A^-=RD^-R^{-1}$. Montrez que le schéma Upwind appliqué au système de départ s'écrit:\n",
    "$$\n",
    "U_i^{n+1}=U_i^n - \\dfrac{\\Delta t}{\\Delta x}A^+(U_i^n-U_{i-1}^n) - \\dfrac{\\Delta t}{\\Delta x}A^-(U_{i+1}^n-U_i^n).\n",
    "$$"
   ]
  },
  {
   "cell_type": "markdown",
   "metadata": {},
   "source": [
    "#### Réponse 2\n",
    "\n",
    "\n"
   ]
  },
  {
   "cell_type": "markdown",
   "metadata": {},
   "source": [
    "### Schéma de Godunov\n",
    "Dans cette partie, on détermine l'expression du flux de Godunov pour le système linéaire hyperbolique. Rappelons que la méthode de Godunov consiste d'abord à résoudre de manière exacte le problème de Riemann à l'interface entre les deux cellules à partir d'états de part et d'autre dans la cellule (à l'ordre 1, ce sont simplement les valeurs $U_i$ et $U_{i+1}$. Puis la solution dans chaque cellule est formée à partir de la moyenne, dans la cellule, de la solution du problème de Riemann."
   ]
  },
  {
   "cell_type": "markdown",
   "metadata": {},
   "source": [
    "#### Schéma de Godunov appliqué à l'équation de transport linéaire scalaire\n",
    "On commence par s'intéresser au cas linéaire scalaire:\n",
    "$$\n",
    "\\partial_t u + \\partial_x c u = 0,\n",
    "$$\n",
    "avec $c$ constant."
   ]
  },
  {
   "cell_type": "markdown",
   "metadata": {},
   "source": [
    "##### Question 1\n",
    "En intégrant l'équation sur le domaine spatio-temporel $[x_1,x_2] \\times [t_1, t_2]$, montrez qu'une solution de l'équation de transport linéaire scalaire vérifie la relation\n",
    "$$\n",
    "\\int_{x_1}^{x_2}u(x,t_2) \\mathrm{d}x = \\int_{x_1}^{x_2}u(x,t_1) \\mathrm{d}x + \\int_{t_1}^{t_2} cu(x_1,t) \\mathrm{d} t - \\int_{t_1}^{t_2} c u(x_2,t) \\mathrm{d} t.\n",
    "$$"
   ]
  },
  {
   "cell_type": "markdown",
   "metadata": {},
   "source": [
    "#### Réponse 1\n",
    "à compléter"
   ]
  },
  {
   "cell_type": "markdown",
   "metadata": {},
   "source": [
    "#####  Question 2\n",
    "Rappeler la solution générale autosimilaire du problème de Riemann suivant\n",
    "$$\n",
    "\\left\\{\n",
    "\\begin{aligned}\n",
    "    & \\partial_t u + \\partial_x c u = 0 \\\\\n",
    "    & u_0(x) = \\left\\{\n",
    "        \\begin{aligned}\n",
    "        & u_L~\\forall x < 0 \\\\\n",
    "        & u_R~\\forall x > 0\n",
    "        \\end{aligned}\n",
    "        \\right.\n",
    "\\end{aligned}\n",
    "\\right.\n",
    "$$"
   ]
  },
  {
   "cell_type": "markdown",
   "metadata": {},
   "source": [
    "#### Réponse 2\n",
    "à compléter"
   ]
  },
  {
   "cell_type": "markdown",
   "metadata": {},
   "source": [
    "##### Question 3\n",
    "On note $PR(u_{i-1}^n,u_i^n)$ le problème de Riemann qui s'applique à l'interface $i-1/2$. On a alors $u_L = u_{i-1}^n$ et $u_R = u_i^n$.\n",
    "\n",
    "Soit $\\hat{u}$ la combinaison des solutions des problèmes de Riemann $PR(u_{i-1}^n,u_i^n)$ et $PR(u_i^n,u_{i+1}^n)$ (c'est-à-dire aux deux faces de la cellule $i$). $\\hat{u}$ est donc une solution exacte de l'équation de transport linéaire scalaire dans la cellule $i$. En utilisant la réponse de la première question, montrez que\n",
    "$$\n",
    "\\int_{x_{i-\\frac{1}{2}}}^{x_{i+\\frac{1}{2}}}\\hat{u}(x, \\Delta t) \\mathrm{d}x = \\int_{x_{i-\\frac{1}{2}}}^{x_{i+\\frac{1}{2}}}\\hat{u}(x, 0) \\mathrm{d}x + \\int_0^{\\Delta t} c\\hat{u}(x_{i-\\frac{1}{2}},t) \\mathrm{d} t - \\int_0^{\\Delta t} c \\hat{u}(x_{i+\\frac{1}{2}},t) \\mathrm{d} t.\n",
    "$$"
   ]
  },
  {
   "cell_type": "markdown",
   "metadata": {},
   "source": [
    "#### Réponse 3\n",
    "à compléter"
   ]
  },
  {
   "cell_type": "markdown",
   "metadata": {},
   "source": [
    "##### Question 4\n",
    "En appliquant l'approche volumes finis, montrez que l'expression établie à la question précédente peut se réécrire\n",
    "$$\n",
    "u_i^{n+1}=u_i - \\dfrac{\\Delta t}{\\Delta x} \\left( f_{i+1/2} - f_{i-1/2} \\right).\n",
    "$$\n",
    "\n",
    "Explicitez $f_{i\\pm1/2}$."
   ]
  },
  {
   "cell_type": "markdown",
   "metadata": {},
   "source": [
    "#### Réponse 4\n",
    "à compléter"
   ]
  },
  {
   "cell_type": "markdown",
   "metadata": {},
   "source": [
    "##### Question 5\n",
    "En justifiant le fait que $\\hat{u}(x_{i\\pm1/2},t) = u^{Rie}_{i\\pm1/2}(0)$, montrez que le flux de Godunov s'écrit\n",
    "$$\n",
    "f_{i-1/2} = cu_{i-1}^n,~~~f_{i+1/2} = cu_i^n\n",
    "$$\n",
    "\n",
    "Pour une équation de transport non nécessairement linéaire, on retiendra que le flux de Godunov s'écrit\n",
    "$$\n",
    "f^{god}_{i+1/2} = f\\left(u^{Rie}_{i+1/2}(0) \\right),\n",
    "$$\n",
    "où $u^R_{i+1/2}$ est la solution exacte du problème de Riemann associé à la face $i+1/2$."
   ]
  },
  {
   "cell_type": "markdown",
   "metadata": {},
   "source": [
    "#### Réponse 5\n",
    "à compléter"
   ]
  },
  {
   "cell_type": "markdown",
   "metadata": {},
   "source": [
    "##### Question 6\n",
    "Comparez le flux de Godunov avec le flux upwind pour une équation de transport linéaire scalaire."
   ]
  },
  {
   "cell_type": "markdown",
   "metadata": {},
   "source": [
    "#### Réponse 6\n",
    "à compléter"
   ]
  },
  {
   "cell_type": "markdown",
   "metadata": {},
   "source": [
    "#### Schéma de Godunov appliqué à un système d'équations de transport linéaires\n",
    "Puisque\n",
    "* le schéma upwind appliqué à un système d'équations de transport linéaires est obtenu à partir du schéma upwind appliqué aux équations scalaire;\n",
    "* dans le cas scalaire, les schémas upwind et Godunov sont identiques;\n",
    "on en déduit que le schéma de Godunov appliqué à un système d'équations de transport linéaire est identique au schéma upwind."
   ]
  },
  {
   "cell_type": "markdown",
   "metadata": {},
   "source": [
    "## Application : coup de bélier dans une conduite unidimensionnelle\n",
    "Nous allons étudier le phénomène dit du \"coup de bélier\" rencontré lorsque qu'un fluide en mouvement est brutalement interrompu, généralement par une paroi / vanne. C'est par exemple ce qui se passe lorsque qu'on ferme rapidement un robinet d'eau. On entend dans certains cas un bruit (voire une vibration) provoqué par une onde de pression dans le fluide qui vient frapper les parois des canalisations.\n",
    "\n",
    "On se place dans un cadre unidimensionnel : un écoulement, avançant à la vitesse $u_0$, est stoppé à $t=0$ par un mur en $x=0$. Le domaine d'étude s'étend de $x=-l$ à $x=0$. Cet écoulement est supposé être régi par les équations d'Euler isothermes. Celles-ci s'écrivent\n",
    "$$\n",
    "∂_t Q + ∂_x F(Q) = 0\n",
    "$$\n",
    "avec\n",
    "$$\n",
    "Q =\n",
    "\\begin{pmatrix} \\rho \\\\ \\rho u \\end{pmatrix}\n",
    "~~~\\mathrm{et}~~~\n",
    "F(Q)=\n",
    "\\begin{pmatrix} \\rho u \\\\ \\rho u^2 + p \\end{pmatrix}\n",
    "$$\n",
    "auxquelles on ajoute une équation d'état (thermodynamique) permettant de déterminer la pression : $p = c^2 \\rho$, où $c$ est la vitesse du son. Ce système d'équation est non-linéaire.\n",
    "\n",
    "Pour étudier les ondes de pression générées par cet arrêt, on ajoute une petite perturbation de masse volumique et de vitesse à l'écoulement initial (supposé uniforme et constant dans le temps). Plus précisément, on pose:\n",
    "$$\n",
    "\\rho = \\rho_0 + \\tilde{\\rho} ~~~\\mathrm{et}~~~ u = u_0 + \\tilde{u}.\n",
    "$$\n",
    "\n",
    "Remarque : l'état $(\\rho_0, u_0)$ est appelé \"écoulement de base\" ou parfois \"écoulement moyen\". Cette dernière dénomination peut-être trompeuse car cet écoulement n'est pas nécessairement constant comme ici. L'état $(\\tilde{\\rho}, \\tilde{u})$ est appelé la \"perturbation\" ou la \"partie fluctuante\".\n",
    "\n",
    "**Conditions initiales**\n",
    "À $t=0$ l'écoulement vient d'être arrêté en $x=0$. À cette position, on écrit donc $u(0,0)=0$. Or comme $u=u_0+\\tilde{u}$, on a $\\tilde{u}(x=0,t=0) = -u_0$. Ailleurs, pour $x < 0$, l'écoulement n'a pas encore \"ressenti\" l'arrêt et on a donc $u(x<0, t=0)=u_0$ et ainsi $\\tilde{u}(x<0,t=0) = 0$. Quant à la masse volumique, on a toujours $\\tilde{\\rho}(x, t=0) = 0$.\n",
    "\n",
    "**Hypothèse importante**: dans toute la suite, on suppose l'écoulement de base subsonique, c'est-à-dire $u_0 < c$."
   ]
  },
  {
   "cell_type": "markdown",
   "metadata": {},
   "source": [
    "### Questions théoriques"
   ]
  },
  {
   "cell_type": "markdown",
   "metadata": {},
   "source": [
    "#### Question 1\n",
    "Sachant que\n",
    "* $(\\rho, u)$ vérifient les équations d'Euler isothermes;\n",
    "* $(\\rho_0, u_0)$ vérifient aussi les équations d'Euler isothermes (et sont uniformes et constant dans le temps);\n",
    "* les perturbations sont de faible amplitude comparées à l'écoulement de base : $\\tilde{\\rho}, \\tilde{u} << \\rho_0, u_0$;\n",
    "\n",
    "montrez que $(\\tilde{\\rho},\\tilde{u})$ vérifie le système d'équations ci-dessous. Si nécessaire, on pourra rendre l'hypothèse de petite perturbation plus évidente en écrivant $\\rho = \\rho_0 + \\varepsilon \\tilde{\\rho}$ et $u = u_0 + \\varepsilon \\tilde{u}$ avec $\\varepsilon << 1$.\n",
    "$$\n",
    "\\left\\{\n",
    "    \\begin{aligned}\n",
    "        & \\partial_t \\tilde{\\rho} + \\partial_x \\left( \\tilde{\\rho} u_0 + \\rho_0 \\tilde{u} \\right) = 0, \\\\\n",
    "        & \\partial_t \\left(\\tilde{\\rho} u_0  + \\rho_0 \\tilde{u} \\right) + \\partial_x \\left(\\tilde{\\rho}u_0^2 + 2 \\rho_0 u_0 \\tilde{u} + c^2 \\tilde{\\rho} \\right) = 0.\n",
    "    \\end{aligned}\n",
    "\\right.\n",
    "$$"
   ]
  },
  {
   "cell_type": "markdown",
   "metadata": {},
   "source": [
    "#### Réponse 1\n",
    "\n",
    "Le système complet s'écrit\n",
    "$$\n",
    "\\left\\{\n",
    "    \\begin{aligned}\n",
    "        & \\partial_t \\rho + \\partial_x \\left(\\rho u \\right) = 0, \\\\\n",
    "        & \\partial_t \\left(\\rho u \\right) + \\partial_x \\left(\\rho u^2 + c^2 \\rho \\right) = 0.\n",
    "    \\end{aligned}\n",
    "\\right.\n",
    "$$\n",
    "\n",
    "A l'ordre 1, nous pouvons approximer \n",
    "$\\rho u = \\rho_0 u_0 + \\tilde{\\rho} u_0 + \\tilde{u} \\rho_0$  et \n",
    "$\\rho u^2 = \\rho_0 u_0^2 + \\tilde{\\rho} u_0^2 + 2 \\tilde{u}u_0\\rho_0$.\n",
    "\n",
    "On peut réecrire le système\n",
    "$$\n",
    "\\left\\{\n",
    "    \\begin{aligned}\n",
    "        & \\partial_t \\left( \\rho_0 + \\tilde{\\rho} \\right) + \\partial_x \\left(\\rho_0 u_0 + \\tilde{\\rho} u_0 + \\tilde{u} \\rho_0 \\right) = 0, \\\\\n",
    "        & \\partial_t \\left(\\rho_0 u_0 + \\tilde{\\rho} u_0 + \\tilde{u} \\rho_0 \\right) + \\partial_x \\left(\\rho_0 u_0^2 + \\tilde{\\rho} u_0^2 + 2 \\tilde{u}u_0\\rho_0 + c^2 \\left( \\rho_0 + \\tilde{\\rho} \\right) \\right) = 0.\n",
    "    \\end{aligned}\n",
    "\\right.\n",
    "$$\n",
    "\n",
    "On a de plus $\\partial_t \\rho_0 = \\partial_t u_0 = \\partial_x \\rho_0 = \\partial_x u_0 = 0$. D'où\n",
    "$$\n",
    "\\left\\{\n",
    "    \\begin{aligned}\n",
    "        & \\partial_t \\tilde{\\rho}  + \\partial_x \\left(\\tilde{\\rho} u_0 + \\tilde{u} \\rho_0 \\right) = 0, \\\\\n",
    "        & \\partial_t \\left(\\tilde{\\rho} u_0 + \\tilde{u} \\rho_0 \\right) + \\partial_x \\left(\\tilde{\\rho} u_0^2 + 2 \\tilde{u}u_0\\rho_0 + c^2  \\tilde{\\rho} \\right) = 0.\n",
    "    \\end{aligned}\n",
    "\\right.\n",
    "$$"
   ]
  },
  {
   "cell_type": "markdown",
   "metadata": {},
   "source": [
    "#### Question 2\n",
    "En rappelant que l'écoulement de base $(\\rho_0, u_0)$ est uniforme et constant (dans le temps), montrer que le système précédemment établi peut se réécrire\n",
    "$$\n",
    "\\left\\{\n",
    "    \\begin{aligned}\n",
    "        & \\partial_t \\tilde{\\rho} + \\partial_x \\left( \\tilde{\\rho} u_0 + \\rho_0 \\tilde{u} \\right) = 0, \\\\\n",
    "        & \\partial_t \\tilde{u} + \\partial_x \\left( u_0 \\tilde{u} + c^2 / \\rho_0 \\tilde{\\rho} \\right) = 0.\n",
    "    \\end{aligned}\n",
    "\\right.\n",
    "$$\n",
    "Ce système correspond aux **équations d'Euler isothermes linéarisées**."
   ]
  },
  {
   "cell_type": "markdown",
   "metadata": {},
   "source": [
    "#### Réponse 2\n",
    "\n",
    "Comme  $\\partial_t \\rho_0 = \\partial_t u_0 = \\partial_x \\rho_0 = \\partial_x u_0 = 0$, la deuxième équation peut s'écrire\n",
    "$$\n",
    "u_0 \\partial_t \\tilde{\\rho} + \\rho_0 \\partial_t \\tilde{u} + u_0 \\partial_x \\left( \\tilde{\\rho} u_0 \\right) + u_0 \\partial_x \\left( \\rho_0 \\tilde{u} \\right) + \\rho_0 \\partial_x \\left( u_0 \\tilde{u} \\right) + \\partial_x \\left( c^2 \\tilde{\\rho} \\right) = 0 \\; \\; ,\n",
    "$$\n",
    "ou encore\n",
    "$$\n",
    "u_0 \\left( \\partial_t \\tilde{\\rho} + \\partial_x \\left( \\tilde{\\rho} u_0 \\right) + \\partial_x \\left( \\rho_0 \\tilde{u} \\right) \\right) + \\rho_0 \\left( \\partial_t \\tilde{u}  + \\partial_x \\left( u_0 \\tilde{u} \\right) + \\partial_x \\left( c^2 \\tilde{\\rho} \\right)  \\right)= 0 \\; \\; .\n",
    "$$\n",
    "\n",
    "\n",
    "En utilisant la première équation du système, la deuxième peut ainsi s'écrire\n",
    "$$\n",
    "\\partial_t \\tilde{u} + \\partial_x \\left( u_0 \\tilde{u} + \\left( c^2 / \\rho_0 \\right ) \\tilde{\\rho} \\right) = 0 \\; \\; .\n",
    "$$\n",
    "\n",
    "\n",
    "On retrouve bien le système des équations d'Euler isothermes linéarisées. "
   ]
  },
  {
   "cell_type": "markdown",
   "metadata": {},
   "source": [
    "#### Question 3\n",
    "Ce système est légèrement différent du système établi en cours, pour lequel on avait considéré $u_0$ nul. Après avoir rappelé l'expression du flux $F$ correspondant à ce sytème, montrer que la matrice jacobienne du système s'écrit:\n",
    "$$\n",
    "A = \\dfrac{\\partial F}{\\partial U} = \\begin{pmatrix} u_0 & \\rho_0 \\\\ \\dfrac{c^2}{\\rho_0} & u_0 \\end{pmatrix}.\n",
    "$$"
   ]
  },
  {
   "cell_type": "markdown",
   "metadata": {},
   "source": [
    "#### Réponse 3\n",
    "\n",
    "Pour ce système, on a\n",
    "$$\n",
    "U = \\begin{pmatrix} \\tilde{\\rho}  \\\\ \\tilde{u} \\end{pmatrix} \\; \\text{et} \\; F = \\begin{pmatrix} u_0 \\tilde{\\rho} + \\rho_0 \\tilde{u}  \\\\ \\left( c^2/\\rho_0 \\right) \\tilde{\\rho} + u_0 \\tilde{u} \\end{pmatrix} \\; .\n",
    "$$\n",
    "La matrice jacobienne $A$ du système vérifiant $F = AU$ est donc bien \n",
    "$$\n",
    "A =  \\begin{pmatrix} u_0 & \\rho_0 \\\\ \\left( c^2/\\rho_0 \\right) & u_0 \\end{pmatrix} \\; .\n",
    "$$"
   ]
  },
  {
   "cell_type": "markdown",
   "metadata": {},
   "source": [
    "#### Question 4\n",
    "Montrer que les valeurs propres de la matrice jacobienne sont $\\lambda_1 = u_0 - c$ et $\\lambda_2 = u_0 + c$."
   ]
  },
  {
   "cell_type": "markdown",
   "metadata": {},
   "source": [
    "#### Réponse 4\n",
    "\n",
    "$$\n",
    "\\forall \\lambda \\in \\mathbb{R}, \\; P_{\\lambda}(A) = det(A-\\lambda I) = \\begin{vmatrix} u_0-\\lambda & \\rho_0 \\\\ \\left( c^2/\\rho_0 \\right) & u_0-\\lambda \\end{vmatrix} = \\left( u_0 - \\lambda \\right)^2 - c^2 = \\left( u_0 - \\lambda - c \\right)\\left( u_0 - \\lambda + c \\right).\n",
    "$$\n",
    "\n",
    "$$\n",
    "\\forall \\lambda \\in \\mathbb{R}, \\; P_{\\lambda}(A) = 0 \\Leftrightarrow \\lambda = u_0 - c \\; \\text{ou} _; \\lambda = u_0 + c \\; .\n",
    "$$\n",
    "\n",
    "Les deux valeurs propres de $A$ sont donc $\\lambda_1 = u_0 - c$ et $\\lambda_2 = u_0 + c$."
   ]
  },
  {
   "cell_type": "markdown",
   "metadata": {},
   "source": [
    "#### Question 5\n",
    "Montrer que les vecteurs propres associés aux valeurs propres déterminées précédemment peuvent s'écrire:\n",
    "$$\n",
    "R^{(1)} = \\begin{pmatrix} 1 \\\\ -c / \\rho_0 \\end{pmatrix} ~~~\\mathrm{et}~~~ R^{(2)} = \\begin{pmatrix} 1 \\\\ c / \\rho_0 \\end{pmatrix}\n",
    "$$"
   ]
  },
  {
   "cell_type": "markdown",
   "metadata": {},
   "source": [
    "#### Réponse 5\n",
    "\n",
    "$$\n",
    "\\forall x \\in \\mathbb{R}^2, Ax=\\lambda_1 x \\Leftrightarrow \n",
    "\\left\\{\n",
    "    \\begin{aligned}\n",
    "        & u_0 x_1 + \\rho_0 x_2 = (u_0 - c) x_1, \\\\\n",
    "        & \\left(c^2/\\rho_0 \\right) x_1 + u_0 x_2 = (u_0 - c) x_2\n",
    "    \\end{aligned}\n",
    "\\right.\n",
    "$$\n",
    "\n",
    "En choisissant $x_1 = 1$, on trouve $x_2 = -c/\\rho_0$.\n",
    "Avec le même raisonnement pour la valeur propre $\\lambda_2$, on obtient $x_1 = 1$ et $x_2 = c/\\rho_0$.\n",
    "\n",
    "\n",
    "On a ainsi deux vecteurs propres de $A$ associés à $\\lambda_1$ et $\\lambda_2$ :\n",
    "$$\n",
    "R^{(1)} = \\begin{pmatrix} 1 \\\\ -c / \\rho_0 \\end{pmatrix} ~~~\\mathrm{et}~~~ R^{(2)} = \\begin{pmatrix} 1 \\\\ c / \\rho_0 \\end{pmatrix}\n",
    "$$"
   ]
  },
  {
   "cell_type": "markdown",
   "metadata": {},
   "source": [
    "#### Question 6\n",
    "Formez la matrice de changement de base $R = (R^{(1)},R^{(2)})$ et calculez $R^{-1}$."
   ]
  },
  {
   "cell_type": "markdown",
   "metadata": {},
   "source": [
    "#### Réponse 6\n",
    "\n",
    "$R = \\begin{pmatrix} 1 & 1 \\\\ -\\frac{c}{\\rho_0} & \\frac{c}{\\rho_0} \\end{pmatrix}$\n",
    "\n",
    "$R^{-1} = \\frac{\\rho_0}{2c} \\begin{pmatrix} \\frac{c}{\\rho_0} & - 1 \\\\ \\frac{c}{\\rho_0} & 1 \\end{pmatrix} = \\begin{pmatrix} \\frac{1}{2} & - \\frac{\\rho_0}{2c}  \\\\ \\frac{1}{2} & \\frac{\\rho_0}{2c} \\end{pmatrix}$"
   ]
  },
  {
   "cell_type": "markdown",
   "metadata": {},
   "source": [
    "#### Question 7\n",
    "Rappelez les définitions de $D$, $D^+$ et $D^-$. À l'aide de ces définitions, de $R$ et de $R^{-1}$, montrer que\n",
    "$$\n",
    "A^- = \\dfrac{u_0 - c}{2} \\begin{pmatrix}\n",
    "1 & -\\rho_0 / c \\\\\n",
    "- c / \\rho_0 & 1\n",
    "\\end{pmatrix}\n",
    "$$\n",
    "et\n",
    "$$\n",
    "A^+ = \\dfrac{u_0 + c}{2} \\begin{pmatrix}\n",
    "1 & \\rho_0 / c \\\\\n",
    "c / \\rho_0 & 1\n",
    "\\end{pmatrix}.\n",
    "$$"
   ]
  },
  {
   "cell_type": "markdown",
   "metadata": {},
   "source": [
    "#### Réponse 7\n",
    "Soit $ A = RDR^-1 $ avec $R$ des matrices de changement de base, on pose alors $D^+ = \\mathrm{diag}(\\lambda_1^+,...,\\lambda_n^+)$ et $D^- = \\mathrm{diag}(\\lambda_1^-,...,\\lambda_n^-)$ avec lambda les valeurs propres de A et D.\n",
    "\n",
    "$$\n",
    "\n",
    "A^- = R D^- R^{-1} = R \\begin{pmatrix} u_0 - c & 0 \\\\ 0 & 0 \\end{pmatrix} R^{-1} = \\frac{u_0 - c}{2} \\begin{pmatrix} 1 & 0 \\\\ \\frac{-c}{\\rho_0} & 0 \\end{pmatrix} \\begin{pmatrix} 1 & \\frac{-\\rho_0}{c} \\\\ 1 & \\frac{\\rho_0}{c} \\end{pmatrix} = \\dfrac{u_0 - c}{2} \\begin{pmatrix}1 & -\\rho_0 / c \\\\- c / \\rho_0 & 1\\end{pmatrix}\n",
    "\n",
    "$$\n",
    "\n",
    "$$\n",
    "\n",
    "A^+ = R D^+ R^{-1} = R \\begin{pmatrix} u_0 + c & 0 \\\\ 0 & 0 \\end{pmatrix} R^{-1} = \\frac{u_0 + c}{2} \\begin{pmatrix} 1 & 0 \\\\ \\frac{-c}{\\rho_0} & 0 \\end{pmatrix} \\begin{pmatrix} 1 & \\frac{-\\rho_0}{c} \\\\ 1 & \\frac{\\rho_0}{c} \\end{pmatrix} = \\dfrac{u_0 + c}{2} \\begin{pmatrix}1 & -\\rho_0 / c \\\\- c / \\rho_0 & 1\\end{pmatrix}\n",
    "\n",
    "\n",
    "$$"
   ]
  },
  {
   "cell_type": "markdown",
   "metadata": {},
   "source": [
    "#### Question 8\n",
    "Rappelez l'expression du schéma Upwind appliqué à un système d'équation linéaires dont la matrice jacobienne est notée $A$. On utilisera une discrétisation temporelle explicite."
   ]
  },
  {
   "cell_type": "markdown",
   "metadata": {},
   "source": [
    "#### Réponse 8\n",
    "\n",
    "$$\n",
    "U_i^{n+1}=U_i^n - \\dfrac{\\Delta t}{\\Delta x}A^+(U_i^n-U_{i-1}^n) - \\dfrac{\\Delta t}{\\Delta x}A^-(U_{i+1}^n-U_i^n).\n",
    "$$"
   ]
  },
  {
   "cell_type": "markdown",
   "metadata": {},
   "source": [
    "### Bonus : vérification avec du calcul symbolique\n",
    "<font color='red'>Cette partie est facultative mais donne lieu à un bonus</font>\n",
    "\n",
    "Dans cette partie, on se propose de vérifier les résultats des questions précédentes à l'aide de calcul symbolique. Faire du calcul symbolique (avec un ordinateur) signifie \"faire des calculs à la main\" avec un ordinateur. Les différents symboles manipulés $c$, $\\rho_0$ etc n'ont pas de valeur numérique.\n",
    "\n",
    "Avec python, il est possible de faire du calcul symbolique avec **sympy**. On commence par importer le module et définir les symboles dont nous allons nous servir."
   ]
  },
  {
   "cell_type": "code",
   "execution_count": null,
   "metadata": {},
   "outputs": [
    {
     "ename": "",
     "evalue": "",
     "output_type": "error",
     "traceback": [
      "\u001b[1;31mThe kernel failed to start as a dll could not be loaded.\n",
      "\u001b[1;31mClick <a href='https://aka.ms/kernelFailuresDllLoad'>here</a> for more info."
     ]
    }
   ],
   "source": [
    "from sympy import *\n",
    "rho_0, u_0, rho, u, c, x = symbols(\"rho_0 u_0 rho u c x\")"
   ]
  },
  {
   "cell_type": "markdown",
   "metadata": {},
   "source": [
    "Note : pour afficher une grandeur que l'on vient de calculer, il suffit d'écrire son symbole sur la dernière ligne d'une cellule. Exemple:"
   ]
  },
  {
   "cell_type": "code",
   "execution_count": null,
   "metadata": {},
   "outputs": [
    {
     "ename": "",
     "evalue": "",
     "output_type": "error",
     "traceback": [
      "\u001b[1;31mThe kernel failed to start as a dll could not be loaded.\n",
      "\u001b[1;31mClick <a href='https://aka.ms/kernelFailuresDllLoad'>here</a> for more info."
     ]
    }
   ],
   "source": [
    "x = rho_0 * u_0\n",
    "x"
   ]
  },
  {
   "cell_type": "markdown",
   "metadata": {},
   "source": [
    "Il est également possible d'utiliser la méthode ``display``:"
   ]
  },
  {
   "cell_type": "code",
   "execution_count": null,
   "metadata": {},
   "outputs": [
    {
     "ename": "",
     "evalue": "",
     "output_type": "error",
     "traceback": [
      "\u001b[1;31mThe kernel failed to start as a dll could not be loaded.\n",
      "\u001b[1;31mClick <a href='https://aka.ms/kernelFailuresDllLoad'>here</a> for more info."
     ]
    }
   ],
   "source": [
    "x = c**2\n",
    "display(x)"
   ]
  },
  {
   "cell_type": "markdown",
   "metadata": {},
   "source": [
    "#### Question 1\n",
    "On suppose le système d'équations établi (on aurait également pu l'établir avec sympy).\n",
    "\n",
    "Regardez dans la documentation (https://docs.sympy.org/latest/modules/matrices/matrices.html) comment définir des vecteurs / matrices avec **sympy**. Définissez le vecteur des inconnues $U=(\\rho, u)$ et le vecteur flux $F$."
   ]
  },
  {
   "cell_type": "markdown",
   "metadata": {},
   "source": [
    "#### Question 2\n",
    "Toujours dans la même page de documentation, trouvez comment calculer la matrice jacobienne $A = \\partial F / \\partial U$. Calculer $A$."
   ]
  },
  {
   "cell_type": "markdown",
   "metadata": {},
   "source": [
    "#### Question 3\n",
    "Toujours dans la même page de documentation, trouvez comment déterminer les valeurs propres de $A$. Attention, la fonction de **sympy** renvoie un dictionnaire dont les clés sont les valeurs propres et les valeurs sont les multiplicités associées. L'option ``multiple = True`` permet de retourner une liste."
   ]
  },
  {
   "cell_type": "markdown",
   "metadata": {},
   "source": [
    "Réordonnez (si nécessaire), les valeurs propres dans l'ordre croissant ($\\lambda_1 < \\lambda_2$).\n",
    "\n",
    "Note : vous devez réaliser cette opération \"manuellement\" car sympy ne sait rien du signe $c$. Toutefois, il serait possible de spécifier à sympy que $c$ est positive et on pourrait alors lui demander de ranger par ordre croissant."
   ]
  },
  {
   "cell_type": "markdown",
   "metadata": {},
   "source": [
    "#### Question 5\n",
    "Toujours dans la même page de documentation, trouvez comment calculer les vecteurs propres de $A$.\n",
    "\n",
    "Notez que puisque cette fonction retourne également les valeurs propres de la matrice, on aurait finalement pu se passer de la question précédente."
   ]
  },
  {
   "cell_type": "markdown",
   "metadata": {},
   "source": [
    "Réordonnez les si nécessaire. De plus, les vecteurs étant définis à une constante multiplicative près, on fera en sorte que $r_1 = 1$."
   ]
  },
  {
   "cell_type": "markdown",
   "metadata": {},
   "source": [
    "#### Question 6\n",
    "Formez la matrice $R$ à partir de $R_1$ et $R_2$. On pourra d'abord calculer sa transposée pour simplifier. \n",
    "\n",
    "Note : sympy propose également la fonction ``diagonalize`` qui renvoie directement $R$ et $D$. On aurait donc pu se passer de la question précédente."
   ]
  },
  {
   "cell_type": "markdown",
   "metadata": {},
   "source": [
    "La matrice $R$ déterminée avec sympy est-elle identique à celle déterminée dans la partie théorique précédente? Pourquoi?"
   ]
  },
  {
   "cell_type": "markdown",
   "metadata": {},
   "source": [
    "#### Question 7\n",
    "Calculez $R^{-1}$."
   ]
  },
  {
   "cell_type": "markdown",
   "metadata": {},
   "source": [
    "#### Question 8\n",
    "Formez $D^+$ et $D^-$ puis calculez $A^+$ et $A^-$."
   ]
  },
  {
   "cell_type": "markdown",
   "metadata": {},
   "source": [
    "### Implémentation en python\n",
    "Dans cette partie, on se propose de simuler le phénomène du coup de bélier avec un code python. Après avoir proposé une trame pour ce code, complétez le code python à trous. Le maillage, 1D, sera uniforme. Ci-dessous, on importe les modules nécessaires, on définit des constantes et on construit le maillage. **Le code de la prochaine cellule n'est pas à modifier**, sauf éventuellement pour modifier les réglages."
   ]
  },
  {
   "cell_type": "code",
   "execution_count": null,
   "metadata": {},
   "outputs": [
    {
     "ename": "",
     "evalue": "",
     "output_type": "error",
     "traceback": [
      "\u001b[1;31mThe kernel failed to start as a dll could not be loaded.\n",
      "\u001b[1;31mClick <a href='https://aka.ms/kernelFailuresDllLoad'>here</a> for more info."
     ]
    }
   ],
   "source": [
    "import numpy as np\n",
    "import matplotlib.pyplot as plt\n",
    "from math import sqrt\n",
    "\n",
    "# Physical settings\n",
    "xmin = 1 # domain width\n",
    "c = sqrt(1.4 * 287 * 293) # sound velocity for a temperature of 293K\n",
    "u_0 = 1\n",
    "rho_0 = 1\n",
    "\n",
    "# Numerical settings\n",
    "ncells = 100 # Number of mesh cells\n",
    "\n",
    "# Uniform mesh\n",
    "nnodes = ncells + 1\n",
    "xnodes = np.linspace(-xmin, 0, nnodes)\n",
    "dx = xnodes[1] - xnodes[0]\n",
    "xcenters = np.zeros(ncells)\n",
    "for i in range(ncells):\n",
    "    xcenters[i] = 0.5*(xnodes[i] + xnodes[i+1])"
   ]
  },
  {
   "cell_type": "markdown",
   "metadata": {},
   "source": [
    "#### Question 1\n",
    "Proposer une squelette de code permettant d'intégrer le système des équations d'Euler isothermes linéarisées avec une intégration temporelle explicite et un schéma upwind. Votre réponse contiendra notamment le nom des différentes fonctions. Par exemple:\n",
    "```\n",
    "executer\n",
    "  calcul_jacobienne\n",
    "  calcul_flux\n",
    "  increment_solution    \n",
    "```"
   ]
  },
  {
   "cell_type": "markdown",
   "metadata": {},
   "source": [
    "#### Réponse 1\n",
    "à compléter"
   ]
  },
  {
   "cell_type": "markdown",
   "metadata": {},
   "source": [
    "#### Question 2 : calcul des matrices \"jacobiennes\"\n",
    "Commençons par définir une fonction calculant les deux matrices $A^-$ et $A^+$ à partir des données du problème. **Complétez** la fonction suivante renvoyant ces deux matrices."
   ]
  },
  {
   "cell_type": "code",
   "execution_count": null,
   "metadata": {},
   "outputs": [],
   "source": [
    "def jacobian_pm(rho_0, u_0, c):\n",
    "  \n",
    "    A_m = (u_0 - c)/2 * np.array([[1,-rho_0/c],[-c/rho_0,1]])\n",
    "    A_p = (u_0 + c)/2 * np.array([[1,rho_0/c],[c/rho_0,1]])\n",
    "    \n",
    "    return A_p, A_m"
   ]
  },
  {
   "cell_type": "markdown",
   "metadata": {},
   "source": [
    "#### Question 3 : calcul du flux Upwind\n",
    "Une fois ces matrices à disposition, on peut facilement calculer le flux upwind sur une face. **Complétez** la fonction suivante."
   ]
  },
  {
   "cell_type": "code",
   "execution_count": null,
   "metadata": {},
   "outputs": [
    {
     "ename": "",
     "evalue": "",
     "output_type": "error",
     "traceback": [
      "\u001b[1;31mThe kernel failed to start as a dll could not be loaded.\n",
      "\u001b[1;31mClick <a href='https://aka.ms/kernelFailuresDllLoad'>here</a> for more info."
     ]
    }
   ],
   "source": [
    "def F_upwind(U_L, U_R, A_p, A_m):\n",
    "    \n",
    "    f = A_p@U_L + A_m@U_R\n",
    "    \n",
    "    return f.T"
   ]
  },
  {
   "cell_type": "markdown",
   "metadata": {},
   "source": [
    "#### Question 4 : intégration explicite\n",
    "Rappeler l'expression du schéma d'intégration temporelle explicite en 1D."
   ]
  },
  {
   "cell_type": "markdown",
   "metadata": {},
   "source": [
    "#### Question 5 : boucle sur les faces\n",
    "Pour calculer $U^{n+1}$ à partir de $U^n$, il est possible de faire une boucle sur les cellules et, dans chaque cellule, calculer $F_{i+\\frac{1}{2}}$ et $F_{i-\\frac{1}{2}}$ pour déterminer $U^{n+1}_i$ à partir de $U^n_i$. \n",
    "\n",
    "Toutefois, cette stratégie nécessite de calculer deux fois le flux sur chaque face. Par exemple la cellule $i=1$ va \"calculer\" le flux $F_{i+\\frac{1}{2}} = F_\\frac{3}{2}$ et la cellule $j=2$ va \"calculer\" le flux $-F_{j-\\frac{1}{2}} = -F_\\frac{3}{2}$.\n",
    "\n",
    "Il est donc plus judicieux de calculer au préalable le flux sur chaque face, puis de faire la boucle sur les cellules et d'utiliser ces flux précalculés en les multipliant par la normale à la face.\n",
    "\n",
    "La fonction suivante, à **compléter**, réalise cette opération."
   ]
  },
  {
   "cell_type": "code",
   "execution_count": null,
   "metadata": {},
   "outputs": [],
   "source": [
    "def compute_flux(rho, u, u_0, A_p, A_m):\n",
    "    \n",
    "    flux = np.zeros((len(u)+1,2))\n",
    "    for i in range(1,len(u)):\n",
    "        Ul = np.array([rho[i-1],u[i-1]])\n",
    "        Ur = np.array([rho[i],u[i]])\n",
    "        flux[i] = F_upwind(Ul, Ur, A_p, A_m)\n",
    "    \n",
    "    # Cd limites d'extrapolation en x=-l\n",
    "    U_xl = np.array([rho[0],u[0]])\n",
    "    Ur_xl = np.array([rho[0],u[0]])\n",
    "\n",
    "    # Cd limites en x=0 pour assurer rho=u=0\n",
    "    U_x0 = np.array([-rho[-1], -2*u_0 - u[-1]])\n",
    "    Ul_x0 = np.array([rho[-1],u[-1]])\n",
    "    \n",
    "    flux[0] = F_upwind(U_xl, Ur_xl, A_p, A_m)\n",
    "    flux[-1] = F_upwind(Ul_x0,U_x0, A_p, A_m)\n",
    "    \n",
    "    return flux"
   ]
  },
  {
   "cell_type": "markdown",
   "metadata": {},
   "source": [
    "#### Question 6 : itérations temporelles\n",
    "**Complétez** la fonction suivante qui met bout à bout le travail effectué jusqu'à présent pour effectuer les itérations temporelles. Afin de voir la progression de l'onde et pas seulement la dernière itération, on enregistrera la solution à chaque pas de temps dans deux tableaux `rho_saved` et `u_saved`."
   ]
  },
  {
   "cell_type": "code",
   "execution_count": null,
   "metadata": {},
   "outputs": [
    {
     "ename": "",
     "evalue": "",
     "output_type": "error",
     "traceback": [
      "\u001b[1;31mThe kernel failed to start as a dll could not be loaded.\n",
      "\u001b[1;31mClick <a href='https://aka.ms/kernelFailuresDllLoad'>here</a> for more info."
     ]
    }
   ],
   "source": [
    "def solve(rho_0, u_0, c, nite, ncells, dx, dt):\n",
    "    \n",
    "    rho_saved = np.zeros((ncells,nite))\n",
    "    u_saved = np.zeros((ncells,nite))\n",
    "    \n",
    "    # Cd initiales à t=0\n",
    "    rho_saved[:,0] = 0 \n",
    "    u_saved[:,0] = 0\n",
    "    \n",
    "    Ap,Am = jacobian_pm(rho_0, u_0, c)\n",
    "    \n",
    "    for t in range(1,nite):\n",
    "        Ft = compute_flux(rho_saved[:,t-1], u_saved[:,t-1], u_0, Ap, Am)\n",
    "        for i in range(ncells):\n",
    "            rho_saved[i,t] = rho_saved[i,t-1] - (dt/dx)*(-Ft[i,0]+Ft[i+1,0])\n",
    "            u_saved[i,t] = u_saved[i,t-1] - (dt/dx)*(-Ft[i,1]+Ft[i+1,1])\n",
    "      \n",
    "    return rho_saved, u_saved"
   ]
  },
  {
   "cell_type": "markdown",
   "metadata": {},
   "source": [
    "#### Question 7 : le pas de temps\n",
    "Comment choisir le pas de temps `dt` de la simulation? Justifiez."
   ]
  },
  {
   "cell_type": "markdown",
   "metadata": {},
   "source": [
    "#### Question 8 : c'est parti\n",
    "Utiliser la fonction ```solve``` définie ci-dessus et tracez trois figures pour représenter l'évolution temporelle de la masse volumique, de la vitesse et de la pression dans la canalisation. On affichera au choix les valeurs des perturbations ou des grandeurs totales.\n",
    "\n",
    "**Commentez** cette évolution (d'un point de vue physique)."
   ]
  },
  {
   "cell_type": "code",
   "execution_count": null,
   "metadata": {},
   "outputs": [
    {
     "data": {
      "application/javascript": "/* Put everything inside the global mpl namespace */\n/* global mpl */\nwindow.mpl = {};\n\nmpl.get_websocket_type = function () {\n    if (typeof WebSocket !== 'undefined') {\n        return WebSocket;\n    } else if (typeof MozWebSocket !== 'undefined') {\n        return MozWebSocket;\n    } else {\n        alert(\n            'Your browser does not have WebSocket support. ' +\n                'Please try Chrome, Safari or Firefox ≥ 6. ' +\n                'Firefox 4 and 5 are also supported but you ' +\n                'have to enable WebSockets in about:config.'\n        );\n    }\n};\n\nmpl.figure = function (figure_id, websocket, ondownload, parent_element) {\n    this.id = figure_id;\n\n    this.ws = websocket;\n\n    this.supports_binary = this.ws.binaryType !== undefined;\n\n    if (!this.supports_binary) {\n        var warnings = document.getElementById('mpl-warnings');\n        if (warnings) {\n            warnings.style.display = 'block';\n            warnings.textContent =\n                'This browser does not support binary websocket messages. ' +\n                'Performance may be slow.';\n        }\n    }\n\n    this.imageObj = new Image();\n\n    this.context = undefined;\n    this.message = undefined;\n    this.canvas = undefined;\n    this.rubberband_canvas = undefined;\n    this.rubberband_context = undefined;\n    this.format_dropdown = undefined;\n\n    this.image_mode = 'full';\n\n    this.root = document.createElement('div');\n    this.root.setAttribute('style', 'display: inline-block');\n    this._root_extra_style(this.root);\n\n    parent_element.appendChild(this.root);\n\n    this._init_header(this);\n    this._init_canvas(this);\n    this._init_toolbar(this);\n\n    var fig = this;\n\n    this.waiting = false;\n\n    this.ws.onopen = function () {\n        fig.send_message('supports_binary', { value: fig.supports_binary });\n        fig.send_message('send_image_mode', {});\n        if (fig.ratio !== 1) {\n            fig.send_message('set_device_pixel_ratio', {\n                device_pixel_ratio: fig.ratio,\n            });\n        }\n        fig.send_message('refresh', {});\n    };\n\n    this.imageObj.onload = function () {\n        if (fig.image_mode === 'full') {\n            // Full images could contain transparency (where diff images\n            // almost always do), so we need to clear the canvas so that\n            // there is no ghosting.\n            fig.context.clearRect(0, 0, fig.canvas.width, fig.canvas.height);\n        }\n        fig.context.drawImage(fig.imageObj, 0, 0);\n    };\n\n    this.imageObj.onunload = function () {\n        fig.ws.close();\n    };\n\n    this.ws.onmessage = this._make_on_message_function(this);\n\n    this.ondownload = ondownload;\n};\n\nmpl.figure.prototype._init_header = function () {\n    var titlebar = document.createElement('div');\n    titlebar.classList =\n        'ui-dialog-titlebar ui-widget-header ui-corner-all ui-helper-clearfix';\n    var titletext = document.createElement('div');\n    titletext.classList = 'ui-dialog-title';\n    titletext.setAttribute(\n        'style',\n        'width: 100%; text-align: center; padding: 3px;'\n    );\n    titlebar.appendChild(titletext);\n    this.root.appendChild(titlebar);\n    this.header = titletext;\n};\n\nmpl.figure.prototype._canvas_extra_style = function (_canvas_div) {};\n\nmpl.figure.prototype._root_extra_style = function (_canvas_div) {};\n\nmpl.figure.prototype._init_canvas = function () {\n    var fig = this;\n\n    var canvas_div = (this.canvas_div = document.createElement('div'));\n    canvas_div.setAttribute(\n        'style',\n        'border: 1px solid #ddd;' +\n            'box-sizing: content-box;' +\n            'clear: both;' +\n            'min-height: 1px;' +\n            'min-width: 1px;' +\n            'outline: 0;' +\n            'overflow: hidden;' +\n            'position: relative;' +\n            'resize: both;'\n    );\n\n    function on_keyboard_event_closure(name) {\n        return function (event) {\n            return fig.key_event(event, name);\n        };\n    }\n\n    canvas_div.addEventListener(\n        'keydown',\n        on_keyboard_event_closure('key_press')\n    );\n    canvas_div.addEventListener(\n        'keyup',\n        on_keyboard_event_closure('key_release')\n    );\n\n    this._canvas_extra_style(canvas_div);\n    this.root.appendChild(canvas_div);\n\n    var canvas = (this.canvas = document.createElement('canvas'));\n    canvas.classList.add('mpl-canvas');\n    canvas.setAttribute('style', 'box-sizing: content-box;');\n\n    this.context = canvas.getContext('2d');\n\n    var backingStore =\n        this.context.backingStorePixelRatio ||\n        this.context.webkitBackingStorePixelRatio ||\n        this.context.mozBackingStorePixelRatio ||\n        this.context.msBackingStorePixelRatio ||\n        this.context.oBackingStorePixelRatio ||\n        this.context.backingStorePixelRatio ||\n        1;\n\n    this.ratio = (window.devicePixelRatio || 1) / backingStore;\n\n    var rubberband_canvas = (this.rubberband_canvas = document.createElement(\n        'canvas'\n    ));\n    rubberband_canvas.setAttribute(\n        'style',\n        'box-sizing: content-box; position: absolute; left: 0; top: 0; z-index: 1;'\n    );\n\n    // Apply a ponyfill if ResizeObserver is not implemented by browser.\n    if (this.ResizeObserver === undefined) {\n        if (window.ResizeObserver !== undefined) {\n            this.ResizeObserver = window.ResizeObserver;\n        } else {\n            var obs = _JSXTOOLS_RESIZE_OBSERVER({});\n            this.ResizeObserver = obs.ResizeObserver;\n        }\n    }\n\n    this.resizeObserverInstance = new this.ResizeObserver(function (entries) {\n        var nentries = entries.length;\n        for (var i = 0; i < nentries; i++) {\n            var entry = entries[i];\n            var width, height;\n            if (entry.contentBoxSize) {\n                if (entry.contentBoxSize instanceof Array) {\n                    // Chrome 84 implements new version of spec.\n                    width = entry.contentBoxSize[0].inlineSize;\n                    height = entry.contentBoxSize[0].blockSize;\n                } else {\n                    // Firefox implements old version of spec.\n                    width = entry.contentBoxSize.inlineSize;\n                    height = entry.contentBoxSize.blockSize;\n                }\n            } else {\n                // Chrome <84 implements even older version of spec.\n                width = entry.contentRect.width;\n                height = entry.contentRect.height;\n            }\n\n            // Keep the size of the canvas and rubber band canvas in sync with\n            // the canvas container.\n            if (entry.devicePixelContentBoxSize) {\n                // Chrome 84 implements new version of spec.\n                canvas.setAttribute(\n                    'width',\n                    entry.devicePixelContentBoxSize[0].inlineSize\n                );\n                canvas.setAttribute(\n                    'height',\n                    entry.devicePixelContentBoxSize[0].blockSize\n                );\n            } else {\n                canvas.setAttribute('width', width * fig.ratio);\n                canvas.setAttribute('height', height * fig.ratio);\n            }\n            canvas.setAttribute(\n                'style',\n                'width: ' + width + 'px; height: ' + height + 'px;'\n            );\n\n            rubberband_canvas.setAttribute('width', width);\n            rubberband_canvas.setAttribute('height', height);\n\n            // And update the size in Python. We ignore the initial 0/0 size\n            // that occurs as the element is placed into the DOM, which should\n            // otherwise not happen due to the minimum size styling.\n            if (fig.ws.readyState == 1 && width != 0 && height != 0) {\n                fig.request_resize(width, height);\n            }\n        }\n    });\n    this.resizeObserverInstance.observe(canvas_div);\n\n    function on_mouse_event_closure(name) {\n        return function (event) {\n            return fig.mouse_event(event, name);\n        };\n    }\n\n    rubberband_canvas.addEventListener(\n        'mousedown',\n        on_mouse_event_closure('button_press')\n    );\n    rubberband_canvas.addEventListener(\n        'mouseup',\n        on_mouse_event_closure('button_release')\n    );\n    rubberband_canvas.addEventListener(\n        'dblclick',\n        on_mouse_event_closure('dblclick')\n    );\n    // Throttle sequential mouse events to 1 every 20ms.\n    rubberband_canvas.addEventListener(\n        'mousemove',\n        on_mouse_event_closure('motion_notify')\n    );\n\n    rubberband_canvas.addEventListener(\n        'mouseenter',\n        on_mouse_event_closure('figure_enter')\n    );\n    rubberband_canvas.addEventListener(\n        'mouseleave',\n        on_mouse_event_closure('figure_leave')\n    );\n\n    canvas_div.addEventListener('wheel', function (event) {\n        if (event.deltaY < 0) {\n            event.step = 1;\n        } else {\n            event.step = -1;\n        }\n        on_mouse_event_closure('scroll')(event);\n    });\n\n    canvas_div.appendChild(canvas);\n    canvas_div.appendChild(rubberband_canvas);\n\n    this.rubberband_context = rubberband_canvas.getContext('2d');\n    this.rubberband_context.strokeStyle = '#000000';\n\n    this._resize_canvas = function (width, height, forward) {\n        if (forward) {\n            canvas_div.style.width = width + 'px';\n            canvas_div.style.height = height + 'px';\n        }\n    };\n\n    // Disable right mouse context menu.\n    this.rubberband_canvas.addEventListener('contextmenu', function (_e) {\n        event.preventDefault();\n        return false;\n    });\n\n    function set_focus() {\n        canvas.focus();\n        canvas_div.focus();\n    }\n\n    window.setTimeout(set_focus, 100);\n};\n\nmpl.figure.prototype._init_toolbar = function () {\n    var fig = this;\n\n    var toolbar = document.createElement('div');\n    toolbar.classList = 'mpl-toolbar';\n    this.root.appendChild(toolbar);\n\n    function on_click_closure(name) {\n        return function (_event) {\n            return fig.toolbar_button_onclick(name);\n        };\n    }\n\n    function on_mouseover_closure(tooltip) {\n        return function (event) {\n            if (!event.currentTarget.disabled) {\n                return fig.toolbar_button_onmouseover(tooltip);\n            }\n        };\n    }\n\n    fig.buttons = {};\n    var buttonGroup = document.createElement('div');\n    buttonGroup.classList = 'mpl-button-group';\n    for (var toolbar_ind in mpl.toolbar_items) {\n        var name = mpl.toolbar_items[toolbar_ind][0];\n        var tooltip = mpl.toolbar_items[toolbar_ind][1];\n        var image = mpl.toolbar_items[toolbar_ind][2];\n        var method_name = mpl.toolbar_items[toolbar_ind][3];\n\n        if (!name) {\n            /* Instead of a spacer, we start a new button group. */\n            if (buttonGroup.hasChildNodes()) {\n                toolbar.appendChild(buttonGroup);\n            }\n            buttonGroup = document.createElement('div');\n            buttonGroup.classList = 'mpl-button-group';\n            continue;\n        }\n\n        var button = (fig.buttons[name] = document.createElement('button'));\n        button.classList = 'mpl-widget';\n        button.setAttribute('role', 'button');\n        button.setAttribute('aria-disabled', 'false');\n        button.addEventListener('click', on_click_closure(method_name));\n        button.addEventListener('mouseover', on_mouseover_closure(tooltip));\n\n        var icon_img = document.createElement('img');\n        icon_img.src = '_images/' + image + '.png';\n        icon_img.srcset = '_images/' + image + '_large.png 2x';\n        icon_img.alt = tooltip;\n        button.appendChild(icon_img);\n\n        buttonGroup.appendChild(button);\n    }\n\n    if (buttonGroup.hasChildNodes()) {\n        toolbar.appendChild(buttonGroup);\n    }\n\n    var fmt_picker = document.createElement('select');\n    fmt_picker.classList = 'mpl-widget';\n    toolbar.appendChild(fmt_picker);\n    this.format_dropdown = fmt_picker;\n\n    for (var ind in mpl.extensions) {\n        var fmt = mpl.extensions[ind];\n        var option = document.createElement('option');\n        option.selected = fmt === mpl.default_extension;\n        option.innerHTML = fmt;\n        fmt_picker.appendChild(option);\n    }\n\n    var status_bar = document.createElement('span');\n    status_bar.classList = 'mpl-message';\n    toolbar.appendChild(status_bar);\n    this.message = status_bar;\n};\n\nmpl.figure.prototype.request_resize = function (x_pixels, y_pixels) {\n    // Request matplotlib to resize the figure. Matplotlib will then trigger a resize in the client,\n    // which will in turn request a refresh of the image.\n    this.send_message('resize', { width: x_pixels, height: y_pixels });\n};\n\nmpl.figure.prototype.send_message = function (type, properties) {\n    properties['type'] = type;\n    properties['figure_id'] = this.id;\n    this.ws.send(JSON.stringify(properties));\n};\n\nmpl.figure.prototype.send_draw_message = function () {\n    if (!this.waiting) {\n        this.waiting = true;\n        this.ws.send(JSON.stringify({ type: 'draw', figure_id: this.id }));\n    }\n};\n\nmpl.figure.prototype.handle_save = function (fig, _msg) {\n    var format_dropdown = fig.format_dropdown;\n    var format = format_dropdown.options[format_dropdown.selectedIndex].value;\n    fig.ondownload(fig, format);\n};\n\nmpl.figure.prototype.handle_resize = function (fig, msg) {\n    var size = msg['size'];\n    if (size[0] !== fig.canvas.width || size[1] !== fig.canvas.height) {\n        fig._resize_canvas(size[0], size[1], msg['forward']);\n        fig.send_message('refresh', {});\n    }\n};\n\nmpl.figure.prototype.handle_rubberband = function (fig, msg) {\n    var x0 = msg['x0'] / fig.ratio;\n    var y0 = (fig.canvas.height - msg['y0']) / fig.ratio;\n    var x1 = msg['x1'] / fig.ratio;\n    var y1 = (fig.canvas.height - msg['y1']) / fig.ratio;\n    x0 = Math.floor(x0) + 0.5;\n    y0 = Math.floor(y0) + 0.5;\n    x1 = Math.floor(x1) + 0.5;\n    y1 = Math.floor(y1) + 0.5;\n    var min_x = Math.min(x0, x1);\n    var min_y = Math.min(y0, y1);\n    var width = Math.abs(x1 - x0);\n    var height = Math.abs(y1 - y0);\n\n    fig.rubberband_context.clearRect(\n        0,\n        0,\n        fig.canvas.width / fig.ratio,\n        fig.canvas.height / fig.ratio\n    );\n\n    fig.rubberband_context.strokeRect(min_x, min_y, width, height);\n};\n\nmpl.figure.prototype.handle_figure_label = function (fig, msg) {\n    // Updates the figure title.\n    fig.header.textContent = msg['label'];\n};\n\nmpl.figure.prototype.handle_cursor = function (fig, msg) {\n    fig.rubberband_canvas.style.cursor = msg['cursor'];\n};\n\nmpl.figure.prototype.handle_message = function (fig, msg) {\n    fig.message.textContent = msg['message'];\n};\n\nmpl.figure.prototype.handle_draw = function (fig, _msg) {\n    // Request the server to send over a new figure.\n    fig.send_draw_message();\n};\n\nmpl.figure.prototype.handle_image_mode = function (fig, msg) {\n    fig.image_mode = msg['mode'];\n};\n\nmpl.figure.prototype.handle_history_buttons = function (fig, msg) {\n    for (var key in msg) {\n        if (!(key in fig.buttons)) {\n            continue;\n        }\n        fig.buttons[key].disabled = !msg[key];\n        fig.buttons[key].setAttribute('aria-disabled', !msg[key]);\n    }\n};\n\nmpl.figure.prototype.handle_navigate_mode = function (fig, msg) {\n    if (msg['mode'] === 'PAN') {\n        fig.buttons['Pan'].classList.add('active');\n        fig.buttons['Zoom'].classList.remove('active');\n    } else if (msg['mode'] === 'ZOOM') {\n        fig.buttons['Pan'].classList.remove('active');\n        fig.buttons['Zoom'].classList.add('active');\n    } else {\n        fig.buttons['Pan'].classList.remove('active');\n        fig.buttons['Zoom'].classList.remove('active');\n    }\n};\n\nmpl.figure.prototype.updated_canvas_event = function () {\n    // Called whenever the canvas gets updated.\n    this.send_message('ack', {});\n};\n\n// A function to construct a web socket function for onmessage handling.\n// Called in the figure constructor.\nmpl.figure.prototype._make_on_message_function = function (fig) {\n    return function socket_on_message(evt) {\n        if (evt.data instanceof Blob) {\n            var img = evt.data;\n            if (img.type !== 'image/png') {\n                /* FIXME: We get \"Resource interpreted as Image but\n                 * transferred with MIME type text/plain:\" errors on\n                 * Chrome.  But how to set the MIME type?  It doesn't seem\n                 * to be part of the websocket stream */\n                img.type = 'image/png';\n            }\n\n            /* Free the memory for the previous frames */\n            if (fig.imageObj.src) {\n                (window.URL || window.webkitURL).revokeObjectURL(\n                    fig.imageObj.src\n                );\n            }\n\n            fig.imageObj.src = (window.URL || window.webkitURL).createObjectURL(\n                img\n            );\n            fig.updated_canvas_event();\n            fig.waiting = false;\n            return;\n        } else if (\n            typeof evt.data === 'string' &&\n            evt.data.slice(0, 21) === 'data:image/png;base64'\n        ) {\n            fig.imageObj.src = evt.data;\n            fig.updated_canvas_event();\n            fig.waiting = false;\n            return;\n        }\n\n        var msg = JSON.parse(evt.data);\n        var msg_type = msg['type'];\n\n        // Call the  \"handle_{type}\" callback, which takes\n        // the figure and JSON message as its only arguments.\n        try {\n            var callback = fig['handle_' + msg_type];\n        } catch (e) {\n            console.log(\n                \"No handler for the '\" + msg_type + \"' message type: \",\n                msg\n            );\n            return;\n        }\n\n        if (callback) {\n            try {\n                // console.log(\"Handling '\" + msg_type + \"' message: \", msg);\n                callback(fig, msg);\n            } catch (e) {\n                console.log(\n                    \"Exception inside the 'handler_\" + msg_type + \"' callback:\",\n                    e,\n                    e.stack,\n                    msg\n                );\n            }\n        }\n    };\n};\n\n// from https://stackoverflow.com/questions/1114465/getting-mouse-location-in-canvas\nmpl.findpos = function (e) {\n    //this section is from http://www.quirksmode.org/js/events_properties.html\n    var targ;\n    if (!e) {\n        e = window.event;\n    }\n    if (e.target) {\n        targ = e.target;\n    } else if (e.srcElement) {\n        targ = e.srcElement;\n    }\n    if (targ.nodeType === 3) {\n        // defeat Safari bug\n        targ = targ.parentNode;\n    }\n\n    // pageX,Y are the mouse positions relative to the document\n    var boundingRect = targ.getBoundingClientRect();\n    var x = e.pageX - (boundingRect.left + document.body.scrollLeft);\n    var y = e.pageY - (boundingRect.top + document.body.scrollTop);\n\n    return { x: x, y: y };\n};\n\n/*\n * return a copy of an object with only non-object keys\n * we need this to avoid circular references\n * https://stackoverflow.com/a/24161582/3208463\n */\nfunction simpleKeys(original) {\n    return Object.keys(original).reduce(function (obj, key) {\n        if (typeof original[key] !== 'object') {\n            obj[key] = original[key];\n        }\n        return obj;\n    }, {});\n}\n\nmpl.figure.prototype.mouse_event = function (event, name) {\n    var canvas_pos = mpl.findpos(event);\n\n    if (name === 'button_press') {\n        this.canvas.focus();\n        this.canvas_div.focus();\n    }\n\n    var x = canvas_pos.x * this.ratio;\n    var y = canvas_pos.y * this.ratio;\n\n    this.send_message(name, {\n        x: x,\n        y: y,\n        button: event.button,\n        step: event.step,\n        guiEvent: simpleKeys(event),\n    });\n\n    /* This prevents the web browser from automatically changing to\n     * the text insertion cursor when the button is pressed.  We want\n     * to control all of the cursor setting manually through the\n     * 'cursor' event from matplotlib */\n    event.preventDefault();\n    return false;\n};\n\nmpl.figure.prototype._key_event_extra = function (_event, _name) {\n    // Handle any extra behaviour associated with a key event\n};\n\nmpl.figure.prototype.key_event = function (event, name) {\n    // Prevent repeat events\n    if (name === 'key_press') {\n        if (event.key === this._key) {\n            return;\n        } else {\n            this._key = event.key;\n        }\n    }\n    if (name === 'key_release') {\n        this._key = null;\n    }\n\n    var value = '';\n    if (event.ctrlKey && event.key !== 'Control') {\n        value += 'ctrl+';\n    }\n    else if (event.altKey && event.key !== 'Alt') {\n        value += 'alt+';\n    }\n    else if (event.shiftKey && event.key !== 'Shift') {\n        value += 'shift+';\n    }\n\n    value += 'k' + event.key;\n\n    this._key_event_extra(event, name);\n\n    this.send_message(name, { key: value, guiEvent: simpleKeys(event) });\n    return false;\n};\n\nmpl.figure.prototype.toolbar_button_onclick = function (name) {\n    if (name === 'download') {\n        this.handle_save(this, null);\n    } else {\n        this.send_message('toolbar_button', { name: name });\n    }\n};\n\nmpl.figure.prototype.toolbar_button_onmouseover = function (tooltip) {\n    this.message.textContent = tooltip;\n};\n\n///////////////// REMAINING CONTENT GENERATED BY embed_js.py /////////////////\n// prettier-ignore\nvar _JSXTOOLS_RESIZE_OBSERVER=function(A){var t,i=new WeakMap,n=new WeakMap,a=new WeakMap,r=new WeakMap,o=new Set;function s(e){if(!(this instanceof s))throw new TypeError(\"Constructor requires 'new' operator\");i.set(this,e)}function h(){throw new TypeError(\"Function is not a constructor\")}function c(e,t,i,n){e=0 in arguments?Number(arguments[0]):0,t=1 in arguments?Number(arguments[1]):0,i=2 in arguments?Number(arguments[2]):0,n=3 in arguments?Number(arguments[3]):0,this.right=(this.x=this.left=e)+(this.width=i),this.bottom=(this.y=this.top=t)+(this.height=n),Object.freeze(this)}function d(){t=requestAnimationFrame(d);var s=new WeakMap,p=new Set;o.forEach((function(t){r.get(t).forEach((function(i){var r=t instanceof window.SVGElement,o=a.get(t),d=r?0:parseFloat(o.paddingTop),f=r?0:parseFloat(o.paddingRight),l=r?0:parseFloat(o.paddingBottom),u=r?0:parseFloat(o.paddingLeft),g=r?0:parseFloat(o.borderTopWidth),m=r?0:parseFloat(o.borderRightWidth),w=r?0:parseFloat(o.borderBottomWidth),b=u+f,F=d+l,v=(r?0:parseFloat(o.borderLeftWidth))+m,W=g+w,y=r?0:t.offsetHeight-W-t.clientHeight,E=r?0:t.offsetWidth-v-t.clientWidth,R=b+v,z=F+W,M=r?t.width:parseFloat(o.width)-R-E,O=r?t.height:parseFloat(o.height)-z-y;if(n.has(t)){var k=n.get(t);if(k[0]===M&&k[1]===O)return}n.set(t,[M,O]);var S=Object.create(h.prototype);S.target=t,S.contentRect=new c(u,d,M,O),s.has(i)||(s.set(i,[]),p.add(i)),s.get(i).push(S)}))})),p.forEach((function(e){i.get(e).call(e,s.get(e),e)}))}return s.prototype.observe=function(i){if(i instanceof window.Element){r.has(i)||(r.set(i,new Set),o.add(i),a.set(i,window.getComputedStyle(i)));var n=r.get(i);n.has(this)||n.add(this),cancelAnimationFrame(t),t=requestAnimationFrame(d)}},s.prototype.unobserve=function(i){if(i instanceof window.Element&&r.has(i)){var n=r.get(i);n.has(this)&&(n.delete(this),n.size||(r.delete(i),o.delete(i))),n.size||r.delete(i),o.size||cancelAnimationFrame(t)}},A.DOMRectReadOnly=c,A.ResizeObserver=s,A.ResizeObserverEntry=h,A}; // eslint-disable-line\nmpl.toolbar_items = [[\"Home\", \"Reset original view\", \"fa fa-home icon-home\", \"home\"], [\"Back\", \"Back to previous view\", \"fa fa-arrow-left icon-arrow-left\", \"back\"], [\"Forward\", \"Forward to next view\", \"fa fa-arrow-right icon-arrow-right\", \"forward\"], [\"\", \"\", \"\", \"\"], [\"Pan\", \"Left button pans, Right button zooms\\nx/y fixes axis, CTRL fixes aspect\", \"fa fa-arrows icon-move\", \"pan\"], [\"Zoom\", \"Zoom to rectangle\\nx/y fixes axis\", \"fa fa-square-o icon-check-empty\", \"zoom\"], [\"\", \"\", \"\", \"\"], [\"Download\", \"Download plot\", \"fa fa-floppy-o icon-save\", \"download\"]];\n\nmpl.extensions = [\"eps\", \"jpeg\", \"pgf\", \"pdf\", \"png\", \"ps\", \"raw\", \"svg\", \"tif\"];\n\nmpl.default_extension = \"png\";/* global mpl */\n\nvar comm_websocket_adapter = function (comm) {\n    // Create a \"websocket\"-like object which calls the given IPython comm\n    // object with the appropriate methods. Currently this is a non binary\n    // socket, so there is still some room for performance tuning.\n    var ws = {};\n\n    ws.binaryType = comm.kernel.ws.binaryType;\n    ws.readyState = comm.kernel.ws.readyState;\n    function updateReadyState(_event) {\n        if (comm.kernel.ws) {\n            ws.readyState = comm.kernel.ws.readyState;\n        } else {\n            ws.readyState = 3; // Closed state.\n        }\n    }\n    comm.kernel.ws.addEventListener('open', updateReadyState);\n    comm.kernel.ws.addEventListener('close', updateReadyState);\n    comm.kernel.ws.addEventListener('error', updateReadyState);\n\n    ws.close = function () {\n        comm.close();\n    };\n    ws.send = function (m) {\n        //console.log('sending', m);\n        comm.send(m);\n    };\n    // Register the callback with on_msg.\n    comm.on_msg(function (msg) {\n        //console.log('receiving', msg['content']['data'], msg);\n        var data = msg['content']['data'];\n        if (data['blob'] !== undefined) {\n            data = {\n                data: new Blob(msg['buffers'], { type: data['blob'] }),\n            };\n        }\n        // Pass the mpl event to the overridden (by mpl) onmessage function.\n        ws.onmessage(data);\n    });\n    return ws;\n};\n\nmpl.mpl_figure_comm = function (comm, msg) {\n    // This is the function which gets called when the mpl process\n    // starts-up an IPython Comm through the \"matplotlib\" channel.\n\n    var id = msg.content.data.id;\n    // Get hold of the div created by the display call when the Comm\n    // socket was opened in Python.\n    var element = document.getElementById(id);\n    var ws_proxy = comm_websocket_adapter(comm);\n\n    function ondownload(figure, _format) {\n        window.open(figure.canvas.toDataURL());\n    }\n\n    var fig = new mpl.figure(id, ws_proxy, ondownload, element);\n\n    // Call onopen now - mpl needs it, as it is assuming we've passed it a real\n    // web socket which is closed, not our websocket->open comm proxy.\n    ws_proxy.onopen();\n\n    fig.parent_element = element;\n    fig.cell_info = mpl.find_output_cell(\"<div id='\" + id + \"'></div>\");\n    if (!fig.cell_info) {\n        console.error('Failed to find cell for figure', id, fig);\n        return;\n    }\n    fig.cell_info[0].output_area.element.on(\n        'cleared',\n        { fig: fig },\n        fig._remove_fig_handler\n    );\n};\n\nmpl.figure.prototype.handle_close = function (fig, msg) {\n    var width = fig.canvas.width / fig.ratio;\n    fig.cell_info[0].output_area.element.off(\n        'cleared',\n        fig._remove_fig_handler\n    );\n    fig.resizeObserverInstance.unobserve(fig.canvas_div);\n\n    // Update the output cell to use the data from the current canvas.\n    fig.push_to_output();\n    var dataURL = fig.canvas.toDataURL();\n    // Re-enable the keyboard manager in IPython - without this line, in FF,\n    // the notebook keyboard shortcuts fail.\n    IPython.keyboard_manager.enable();\n    fig.parent_element.innerHTML =\n        '<img src=\"' + dataURL + '\" width=\"' + width + '\">';\n    fig.close_ws(fig, msg);\n};\n\nmpl.figure.prototype.close_ws = function (fig, msg) {\n    fig.send_message('closing', msg);\n    // fig.ws.close()\n};\n\nmpl.figure.prototype.push_to_output = function (_remove_interactive) {\n    // Turn the data on the canvas into data in the output cell.\n    var width = this.canvas.width / this.ratio;\n    var dataURL = this.canvas.toDataURL();\n    this.cell_info[1]['text/html'] =\n        '<img src=\"' + dataURL + '\" width=\"' + width + '\">';\n};\n\nmpl.figure.prototype.updated_canvas_event = function () {\n    // Tell IPython that the notebook contents must change.\n    IPython.notebook.set_dirty(true);\n    this.send_message('ack', {});\n    var fig = this;\n    // Wait a second, then push the new image to the DOM so\n    // that it is saved nicely (might be nice to debounce this).\n    setTimeout(function () {\n        fig.push_to_output();\n    }, 1000);\n};\n\nmpl.figure.prototype._init_toolbar = function () {\n    var fig = this;\n\n    var toolbar = document.createElement('div');\n    toolbar.classList = 'btn-toolbar';\n    this.root.appendChild(toolbar);\n\n    function on_click_closure(name) {\n        return function (_event) {\n            return fig.toolbar_button_onclick(name);\n        };\n    }\n\n    function on_mouseover_closure(tooltip) {\n        return function (event) {\n            if (!event.currentTarget.disabled) {\n                return fig.toolbar_button_onmouseover(tooltip);\n            }\n        };\n    }\n\n    fig.buttons = {};\n    var buttonGroup = document.createElement('div');\n    buttonGroup.classList = 'btn-group';\n    var button;\n    for (var toolbar_ind in mpl.toolbar_items) {\n        var name = mpl.toolbar_items[toolbar_ind][0];\n        var tooltip = mpl.toolbar_items[toolbar_ind][1];\n        var image = mpl.toolbar_items[toolbar_ind][2];\n        var method_name = mpl.toolbar_items[toolbar_ind][3];\n\n        if (!name) {\n            /* Instead of a spacer, we start a new button group. */\n            if (buttonGroup.hasChildNodes()) {\n                toolbar.appendChild(buttonGroup);\n            }\n            buttonGroup = document.createElement('div');\n            buttonGroup.classList = 'btn-group';\n            continue;\n        }\n\n        button = fig.buttons[name] = document.createElement('button');\n        button.classList = 'btn btn-default';\n        button.href = '#';\n        button.title = name;\n        button.innerHTML = '<i class=\"fa ' + image + ' fa-lg\"></i>';\n        button.addEventListener('click', on_click_closure(method_name));\n        button.addEventListener('mouseover', on_mouseover_closure(tooltip));\n        buttonGroup.appendChild(button);\n    }\n\n    if (buttonGroup.hasChildNodes()) {\n        toolbar.appendChild(buttonGroup);\n    }\n\n    // Add the status bar.\n    var status_bar = document.createElement('span');\n    status_bar.classList = 'mpl-message pull-right';\n    toolbar.appendChild(status_bar);\n    this.message = status_bar;\n\n    // Add the close button to the window.\n    var buttongrp = document.createElement('div');\n    buttongrp.classList = 'btn-group inline pull-right';\n    button = document.createElement('button');\n    button.classList = 'btn btn-mini btn-primary';\n    button.href = '#';\n    button.title = 'Stop Interaction';\n    button.innerHTML = '<i class=\"fa fa-power-off icon-remove icon-large\"></i>';\n    button.addEventListener('click', function (_evt) {\n        fig.handle_close(fig, {});\n    });\n    button.addEventListener(\n        'mouseover',\n        on_mouseover_closure('Stop Interaction')\n    );\n    buttongrp.appendChild(button);\n    var titlebar = this.root.querySelector('.ui-dialog-titlebar');\n    titlebar.insertBefore(buttongrp, titlebar.firstChild);\n};\n\nmpl.figure.prototype._remove_fig_handler = function (event) {\n    var fig = event.data.fig;\n    if (event.target !== this) {\n        // Ignore bubbled events from children.\n        return;\n    }\n    fig.close_ws(fig, {});\n};\n\nmpl.figure.prototype._root_extra_style = function (el) {\n    el.style.boxSizing = 'content-box'; // override notebook setting of border-box.\n};\n\nmpl.figure.prototype._canvas_extra_style = function (el) {\n    // this is important to make the div 'focusable\n    el.setAttribute('tabindex', 0);\n    // reach out to IPython and tell the keyboard manager to turn it's self\n    // off when our div gets focus\n\n    // location in version 3\n    if (IPython.notebook.keyboard_manager) {\n        IPython.notebook.keyboard_manager.register_events(el);\n    } else {\n        // location in version 2\n        IPython.keyboard_manager.register_events(el);\n    }\n};\n\nmpl.figure.prototype._key_event_extra = function (event, _name) {\n    // Check for shift+enter\n    if (event.shiftKey && event.which === 13) {\n        this.canvas_div.blur();\n        // select the cell after this one\n        var index = IPython.notebook.find_cell_index(this.cell_info[0]);\n        IPython.notebook.select(index + 1);\n    }\n};\n\nmpl.figure.prototype.handle_save = function (fig, _msg) {\n    fig.ondownload(fig, null);\n};\n\nmpl.find_output_cell = function (html_output) {\n    // Return the cell and output element which can be found *uniquely* in the notebook.\n    // Note - this is a bit hacky, but it is done because the \"notebook_saving.Notebook\"\n    // IPython event is triggered only after the cells have been serialised, which for\n    // our purposes (turning an active figure into a static one), is too late.\n    var cells = IPython.notebook.get_cells();\n    var ncells = cells.length;\n    for (var i = 0; i < ncells; i++) {\n        var cell = cells[i];\n        if (cell.cell_type === 'code') {\n            for (var j = 0; j < cell.output_area.outputs.length; j++) {\n                var data = cell.output_area.outputs[j];\n                if (data.data) {\n                    // IPython >= 3 moved mimebundle to data attribute of output\n                    data = data.data;\n                }\n                if (data['text/html'] === html_output) {\n                    return [cell, data, j];\n                }\n            }\n        }\n    }\n};\n\n// Register the function which deals with the matplotlib target/channel.\n// The kernel may be null if the page has been refreshed.\nif (IPython.notebook.kernel !== null) {\n    IPython.notebook.kernel.comm_manager.register_target(\n        'matplotlib',\n        mpl.mpl_figure_comm\n    );\n}\n",
      "text/plain": [
       "<IPython.core.display.Javascript object>"
      ]
     },
     "metadata": {},
     "output_type": "display_data"
    },
    {
     "data": {
      "text/html": [
       "<img src=\"data:image/png;base64,iVBORw0KGgoAAAANSUhEUgAAA94AAAG4CAYAAACzXz9FAAAAAXNSR0IArs4c6QAAIABJREFUeF7snQeUFMUWhu8uOWcByUjOIkGCkmRBCYoKiKKSRCToEwVBJCMZlKQ+wQeKKAISxIcrSJCccw6ySI6SM8s7f2Hvmx1ndnu2Z3p6tv46hwPsdoX+6vat+iuG3b9//74wkAAJkAAJkAAJkAAJkAAJkAAJkAAJBIRAGIV3QLgyURIgARIgARIgARIgARIgARIgARJQBCi8aQgkQAIkQAIkQAIkQAIkQAIkQAIkEEACFN4BhMukSYAESIAESIAESIAESIAESIAESIDCmzZAAiRAAiRAAiRAAiRAAiRAAiRAAgEkQOEdQLhMmgRIgARIgARIgARIgARIgARIgAQovGkDJEACJEACJEACJEACJEACJEACJBBAAhTeAYTLpEmABEiABEiABEiABEiABEiABEiAwps2QAIkQAIkQAIkQAIkQAIkQAIkQAIBJEDhHUC4TJoESIAESIAESIAESIAESIAESIAEKLxpAyRAAiRAAiRAAiRAAiRAAiRAAiQQQAIU3gGEy6RJgARIgARIgARIgARIgARIgARIgMKbNkACJEACJEACJEACJEACJEACJEACASRA4R1AuEyaBEiABEiABEiABEiABEiABEiABCi8aQMkQAIkQAIkQAIkQAIkQAIkQAIkEEACFN4BhMukSYAESIAESIAESIAESIAESIAESIDCmzZAAiRAAiRAAiRAAiRAAiRAAiRAAgEkQOEdQLhMmgRIgARIgARIgARIgARIgARIgAQovGkDJEACJEACJEACJEACJEACJEACJBBAAhTeAYTLpEmABEiABEiABEiABEiABEiABEiAwps2QAIkQAIkQAIkQAIkQAIkQAIkQAIBJEDhHUC4TJoESIAESIAESIAESIAESIAESIAEKLxpAyRAAiRAAiRAAiRAAiRAAiRAAiQQQAIU3gGEy6RJgARIgARIgARIgARIgARIgARIgMKbNkACJEACJEACJEACJEACJEACJEACASRA4R1AuEyaBEiABEiABEiABEiABEiABEiABCi8aQMkQAIkQAIkQAIkQAIkQAIkQAIkEEACFN4BhMukSYAESIAESIAESIAESIAESIAESIDCmzZAAiQQsgQuXrwo48aNk1KlSkmTJk1C9j1YcBIgARIgARLwlcBPP/0kW7ZskS5dukjmzJl9jc7nSYAEbCZA4W0zcGYXP4Hr169Ljx49ZO7cuXL8+HHJkyePREVFSc2aNdXf+GOEVq1ayddffy3379+PP+E4nggLC5PXX39dpkyZYikdK5GdUAYr5Q9W3P/85z/SoUMHmTdvnjz99NPBKgbzJQESIAHHE3BKO+OvttspwNEvKVCggPTt21f69etnW7H++usvqVOnjqRPn14WLVokyZIl8ynvZcuWSa1atWTy5MmCOvEWgvV+Pr0MHyaBECBA4R0ClRSsIhoO2TX/1KlTS6FChaR58+by3nvvSYoUKfxePDRcAwYMkPfff1/KlCkj6dKlk+eee05L4f3pp59KxowZ42wQ/V4BIZjgxIkTlb2sWLFC2YwvAYMtmDn/17/+5Uu0gD07e/ZsGT58uOzYsUOSJ08u1atXl48//tin9zp//rx89NFHajAC/86fP7+0adNGfbNJkyb9R9mXL1+uOosbN25Ug1gVK1ZU/3/yySdjPXvy5EmZMGGCbN68Wc2ynDp1SnX6fvvtt4DxYMJ6EnBtf1577TU1wOoeYKsQO0eOHJEkSZLI3bt39YTlw1tTePsAy4dHgylM4eNr164tjz76qM+TB56Et/EurmLczvdD21OuXDnV77MzJCRfp/XR0BcaP3687N+/X9KmTSt169aVIUOGSL58+UyjhD/t2bOnGsi5evWqFClSRDp37ixvvPGGxzTM9ln27dsnkyZNUn0H/Llw4YK0bdtW/UynQOGtU237+K6GQ37xxRfl2WefVbFPnz4t06dPVx30Z555Rv773//6mGr8j1etWlV97Nu3b4/18O3bt5UocBX7/ho1d0Jn5ObNm6rz6DpiDcGEP6gLhrgJ/Pjjj3Lp0iUlMH0JnlZS+BLfn89+9dVX0q5dO7V0/s0335Rbt26pRvTcuXOycuVKKVu2bLzZXblyRR5//HFBI9exY0cl2DEg8c0330jLli1l6tSpsdL49ddfpWHDhpIrVy7VuKZMmVK+/PJL2bNnj/z8889Sr169mOcNn4Bny5cvL/Pnz6fwjrdG+EBCCBi2BnsMDw8XDPpgVs81LFy4UNknnrlz5w6FtwnQTmjrUEzU171791TdJYZgpzD1xAttxGeffaZ8fMGCBU0jNSu80fdCe4SBW0+Dt6YzNPFgsGw0Ifk6qY/Wu3dvGTRokFSrVk1effVVOXv2rIwZM0b1KdevXy+5c+eOl/6xY8fUwDv6UpiMwMAm2nn8wWD+wIEDY6XhS58FkxytW7dWaULMo+9B4R1vlfABnQgYDhkfGj44I6DBrFSpkmzdulU2bNggFSpU8IgFThpC0lcnjUYjb968psRmYhLeniA6yaknVtt3ivDGkkHUN8TFrl27YkQGGsISJUqoGQDMTMcX+vTpoxrHUaNGSdeuXWMef/fddwWj84sXL1azIwjo+GIFCxro3bt3q+8OAeId4h+C5+DBg+o7Nn5+48YNeeihh9T/0VHhjHd8NcLfJ4SA0f68/PLL8t1338kXX3yhBqNcQ7NmzWTdunVqNmf16tUU3iZAJ0RcmEhW20cgSOETz5w5E5Sl5lbBmxXeVvPxJX6wbDQh+Tqlj4YZbvQTMDgPn2j0uzGzjD76K6+8ogbf4wtYXYTBeUxkPP/88zGP4984TwAD8oULF1Y/97XPgpUZ6FNkypRJbRmFAKfwjq9G+HutCHgT3oCAZb3o2KND1KJFi5hl4L///rt88MEHaukpPrLDhw8rMYG92lhC/ssvv6hOPjrumDHv37+/5MyZU3HFMh/83z0Ye6b8sccbS2cwKrht2za1DKdRo0ZqWW+2bNk87vGG8xk7dqxaFoMBh2LFikmnTp3UrGRcITo6Wr03RvPhEN2DwRbvjPczRIyxz9xwSp7yMJjid4cOHVIiCzM/GPEG18aNG6ul+lmzZo2JDgc5ePBgtW8eQg7lwuhnRESEqkcjREZGKh47d+6Uy5cvqzQwY4qBF6xEMAKE2dChQ2XWrFnKgaZJk0YtS0a+ZpZ6G3Xt+i5G2r4I4R9++EG+//57VT9YjYGtEJUrV1Z17Fpeb3WFhtZTWLp0qbJpO4MxGuxqE0b+sDeMLHvi5V5G2B06gfj+UqVKFfNr1DvOS3A9y8CwQwxgYVmha8DIOTjGxYLC204L0Ssv1/YH7Qb8L2ZtjAB/h5UXWBKJZ7EixHWp+d69e9XBi2iTjh49KlgxhUEmzLhgJgcdQCNgkBh+D77EWLb+8MMPq5kjzCIaq6zWrl2rtn1s2rRJfV84zKp48eKCQS20JUZAXhjk+vbbb+XAgQNqxgmD1RgUc9++4V6reB6zQfjmsWzUPRi+E+9co0YN9WtslYHvnTNnjpw4cUJtT8LgGn5mdJKNdNzFRVwztYZPcvUBRv4YqINPAjO0LxgYxDvjPVetWiW9evVSK+PggzD7Br6ug/DeBs3BFn2INWvWqK02eA+0UfDHrqu/fC033t9qu2XwQD8Ckw7wmSjHhx9+qLaDGXu80QahL4N+BrbKQbSMHj1atU+uATYKnuCLOoQ941nYifvqDk9fP+oa6S5ZskSV49q1a4oRBqTA38xqArPC2xNv15+ZeWe0QbBJ8MMKFvTBMGiG8qLOPW1vNN7bOMcHfR1why/A++PbwhL77t27S4MGDWJhMmwMs7fggf4KbLVkyZJq+TX6Pwhm8nXnb7aPZpfXNr5L2CjaeNfw1FNPqYFJ9z6Be9lwvhL6fDly5JA//vgj1q/hX5944olYZxhY6bNQeNtlGcwnpAjEJbwh7rD0BA4UHzUaRYg1NCxoeHFYBxo5dB7QqcHSFYgB7BGBMEODhE4FGho0YNmzZ1dLy/EHnRh8/HCUCHgef6wKbyyLx5J5iGzMnGDUDR0VLGtHY+9+uJrhyPAucOjoQGBpDEb90EhAeMYVIFbRSUMnxF0EokHA6COcGxpKBNcOERpQlM2dBZ7D6d0QulhxACZgjuXVaMDQafv8888FnUY0TBkyZFBpY58PGvf27durRgp1AtGOnyEdBMymopODUVN0lLJkyaL28KL8eH8sW0aAIMe+Y8yEghlGWNGYoT4hfrGsGcuQ4wr+Et5oCFCPsC8M4KCDjc4gbA0d7ipVqsRZDnSMUUfoxH/yyScxz4IXbNJbAD/Yt9mADrprR99TvLfeekvN6qFjgfxdAw6Qw8gwBhrQSfEWwB+NJuwN9eYeMKONzg46zQjDhg1TBxliabn7/i105jCbjWfQqfEUKLzNWgCf85WAa/uDdgI+Du1D6dKlVVIQHN26dVM+FH7IXXjjW8KgKbZRQBBhK8+CBQvUoDAGT7GFwwiwfewzxKwQfBsCBrnQxqHDCiGLAVT4NbQfaNfgbzCIjPMOHnnkETWwiQDxX79+feV/MCiNbR/o0MLXoI3E4CfKFFdAGXDGA/yv6+AZxAfyQoD/xvdnbC3BN43y49vH7zBgAOEFPwCfbgR/CW/4XKT/wgsvqDYU4hgraNCuYXADjLB6DYMmaDPBB4MkRvAkvMESPh0rbFBHGByGP0R/AW0iBJOx7cpX4e2PdssQGhhkwCw32knYAwY0MQADO0P/B/zRx8DPscIIgg//h00aAe0uBmHADL4frGDDGMhAmwq7cxfq7jaDgXIcLIq90IZdgA/6DpjYwFah+II/hLeZd8Z3gW8XbTTeF5MYsF1sicI3jL4V2i/0KcEVdoD+ihGwhB4BK2DwXeD3sA98gzj/Ad/nzJkzBVsj3W0M3yC+YRy+im8RA0Tos6C/hDbRTL7uHM300byxRxnwx2xwnUTxFgfvBnsAB/fBNmMVHGbCUVfeAn4PVmA8bdq0WI9h4BO+CIMV8KMIVvosFN5ma5/PaUXAcMhoLI0lqxA0aFjRGUcjg2UnmA2AAERHAyO/EDKuwVi64i4akA46TO5LTbwt3bEivDEDjYYJAgsdFDSICGj0MIgAR+IqvNEoopOFKzqwR8Y1YB8sxC2cdlx7qSBM4QDRqYOwMQIcNsQROi4QN0bwtMwprmVMENAYycWsgus1InCe6HzB2WI2Hc9AnKLhR7m9BdQxxCcatbhEJwYDcMAWBDZGuY2AEXs0rJhVgqCPK/hLeIMlBiFcA8qPZdJoQMx0PHyZYTfyMTpgZh2CmZlqzJihvLBPdOJcg7GX1X35uHv+GEDCsjKIc3xv7gF2YaxmwO9g3xAgsH/3E+HRgBctWlQ9AwHjKVB4m7UAPucrAVfhDZ8DoQvxjU4zAkQYOt7osOMbdhfennwD4qEDj3NKMPsGP4wA/wlfBpHoLeAbeOeddwSz3q5+z/15tBeYUceBQ65XHKLjinjwk+6zSe5pGPsm0flFJ9gIBhPMpsK/IxidavcBMrTH4OK+FcRfwhv+Av7KGFDEgALeF6IZdQH/awS0VRA3mKE0gifhDSGKgQIMxrsO3kJc/vvf/1Yz/AkV3v5otwy/j3Ydq6xc2x5DSECcwMe69g0wEIO2HmLPiIN3BScIbFdWmBFGu+2+xc+TXUL8o//lPqhrDPrHtRXQ3aYScqq5L++MQTMMKGDCAhMXcYW4lnx7+q4hYmFjmP0Ge3cbg4CH/RgB3zAG5dG3NQbM8Du7lpp7W93pjYmZW3vQ98K7g4XrYB3SRP8T/T/35ePu+eH3GLjAQDv8iXvAhA4GAYzzl6z0WSi8fW0R+bwWBOJafoNZYHzMEFkIhvBGw4KRRSNA8OL/mLGASHcNcCZowHCyIZbAGMt+AyG80QBhpA+zthCNrgENPWYYXIW3sZQeI+1wNq4BDS5G/eDIXUdkPRkFRmWNmQtj2ZfReGOUFoMSRvBFeMPBwtG6Doq45o/3QWcSjTqWPWLmG2IOI+/eBguMBh/LM9HR8bQ3H3WG5eyYQYGTdg9oUPFeGMl2d/6uz/pLeLumiTyNA/hQlxiAwEBLfCEhwhvL5LAP22xAfcS37A8dZHTOMFviXkdYjYBOZ3ydMQyGoEOHGQNP+7mwogFpGUtyMeiF2XTXfd/GO/35559qFUVce7AovM1aAJ/zlYD7iiv4WohZiDcMNmIZ+IwZM6Rp06Yehbdrflihgg472iPMCuH7wGy2MfOM7w3fBISkt60yxkAxVohA7Hrzbxj4QnuGNsc9YJALohmzfFhO7i3Al2FQAH4DAwtGMFZKYSDPOKUYAxDYygVh637LCL53cER5MPiK4C/h7b4yB20/2hxPq20wYIGBC7wXVtwguAtv1y1o7oe24v0wyJJQ4e2vdstouzFA7X4LhiEkPM0WYsAUfQr0BTAobLwrBLn7YA+EE9pYQ9yb/W4wsAO+sHG0TWjX0JZjoiCu4GnG29PzcS01N/PO2MKBvh0OQ0QfIa7BfbMCGN80VrKgfrEtCisKsLIBy/tdbczTLDCeQVnQJ4qrDxYf/4Ts8cbAW3yDb675YlVpfAETS0gTk0nuAzGG78LebWPlgKf08Hv0ScES/UH3AD9pnPuC31nps1B4x1ej/L2WBFz3f2IJG5whOhtoELC8yjXAyWOmDjPirsFY+orlaK4OzngGS7+xDM3YL4efB0J4Y4YDy/7Q8cESNteAGQh0SlyFN5ZWG8tpvFU+HBMcVFzBmLnA8rGXXnpJPQpWWFIH8eY6Yu6L8MaSqriWHCMfOEmIOAQsA8fMJTqgEODoHGEpGvgbB2dhAAQNETq1aJQwIgwRh0YVqxsQjA5DfB8ERJuxqsDTs/4S3hh5RScYgtV96Td4ohMSX0iI8I4vzYT83srosZEfZ7wTQp5xnEjAXXgbyyCxkgPiGcIZggz7gD3NeEPAYKAKvh+dPPfgOvCJtCDGsToIvg6iHoOrEPXGgBkG9eAvkTd+htlrCGP4dYgpI8Cnx7eMFINfGJSNK6A8OEMFvhQD18ZKKQwgY6DMCGiTIb7ht92DIXjhF4wZZH8Jb6zoMpY3G/kibU83Jxj+HvVgDBi4C29jFhICdcSIEf94FwzgY4l3Qma8/dVuGcIbAwNoP12DISQ8nfxsxDP25Ru2jOsdR44c+Y93xcwwBlcgIuMKEFmIj/QhLt3bO9eVEd7S8YfwNvPOyB92YJyKjXdEHwPflLHX2tWO3Lf+Gb8DZ/S70D9Dn8U9QOAbh4QaNoZBNaOfYzyPfia+ddfVeWYFv2ueCRHegfC3nPEOBNXApMnrxALDNVGkGtceb/cX9CZesOwXSwSxfAVi0T04VXgb+2UwA+LtrnII2/iu7YAYxPujg4YOGxoNxMEeOIhy1+CL8EbnEx0+iGkslfcU0CFDB9IIGARBY4VZUXTc0KFDJw5LEo3OJRpurADAPkgsg8OzCNifCKFvDKRAkMc16BDfDC86BGiEPS3BRlwsA/XUWXZ9T+wVQ4cTMyjggD1j6PRiRBYHp0CMm1milRDhjSV+6KSbDRiocm/43eNa2S/lWsfc4222Vvickwl4an/QucTqHWwFwgw49nkjeBLeWPaMe+yx1xj+CksksYoHIhSz1u5LazEACx8Nf4jOOGalISwhCF33WCI+ZnvhH1FG+AKIH2M7FvwuxKXrHnJ3zo899ljMDLS3OjDOWIAvQ3kxUGDMeEOUGwH5Qfh7mmE3I7yNmUjjEFPX8mDfO7ZKeTpczZPv9iZcPA20WhXevpTbX+2Wp8PmDF6+7DmPb5DBrPA2bqpA/wqTBZgpx0AUBqTA11OdutubP4S3p3y8sUK9oR+C7wf9DEzWoB+IfenGqkdvdoSzBDBxgAEJ2DZWp+AQOrT5WLmFCQ5Xu4zr1htPgtku4Y33wB+zwdgSE9fz3ONtlmbwn6PwDn4dOLYE/hDeobrU3FOHJaEVhaU7xswFZp7RCfE04+HJ6WNEFp04Y5TfKAOWuxt70L3tv42rvBCk2MeDDmNcy4/QSCIfrAjADAfqE4euYTbb/Z51X/hgCdzbb7+tOsHuB7FhaT86D/EJb2PPpadl0piNwuFyZoQ3tk2gsY4vP9f3C8QebwgB7GH1NEthnGqOpWTG6gNvvGEvWGKPP/Gdao4ONZajYiAIHRfXwFPNfbFoPutvAp7aH+zvhthAwHYbDLx5Et4Q0Vj2jNlX9y0XOOcCW47i29MK4YwBvbi2d2DGDftzMYiJjjSEPUQTBgUhKHy9StOVIXwXvnV8w9imBT8Ff4nBbNdDt+Jaao6loPjG41pqjnJjhZOnsxxwZguEvx3C29el5r6U21/tlr+Ed1xLzY3rGjHoYxx86u3bgo1j0MX9mkksX8eMvBOFt+u7YCYa3ygmEjDIbxxs6E0AY3UkRDomLdBWuobmzZurrSd2C29vfbS4/GEg9nijrrEK030LI8phnGqOPkFcB/b5eqq5lT4Ll5r7u8VkeomCgD+EN0BgdB4zpu4nTuJn+B0cqOvsbyCWmmNJFhoydEBcD1dDg4wlvu6Hq2HZHg4/wxIozHrj0A7XgNlOzBJ7mw13fdYQNzhUBPviMTqLg9ncg6fGBjM8+Lm7yEWnDB08LCVHWd0P48Lv4WQx02ose3R3uBgdxjJydGYx0IDOgPsWAqSDtDFjgD18CMaBXJ6urcDv8Wxc+7fwjHFYmPuBQIZNQDzGJ4Rxai+2DWDUHB1MI2DWyjgozIzwRv2j44LOurfrxdzrKhB7vMEX740ZPU/3eKO+jRUIKA9sEOXAbJzrjJxxsI77QWzG4XmuvIzvAraCzr2xPcC4xxs8YGPeZuu5xztRuHpHvoSn9gdCFwNuWHbsusfWfcYbogwzYdgihYFFI8CuMdCHQURDeOMbwAyasQfaeBbXWWFLDvLBnl58I55OF8b2HPgz43wTYz+vp2sBzfpHowxGZ9pY4YS2ErPQrgErjzBIhuXZWKZtBOP6HwysuS5N99TOYLATIg57kA0fiLYSoh7+3A7hjXJj+T3OJXE/XM1YDeS6xxvP+1Juf7Rb/hLexrtidRlmv11PmjYGPM1sZcMMN1Z6uQpv7PVGe4i2wknCG+0V+iDufSkM7GCAB4fzQVQjYCAIA00Q2q4B/TTM7OMbwNkjRkD/CP01bAexIry95RuXg/TWR4srTiD2eGOFDr5Xb/d4o6/n6guNwXmsyDRuv0GZMRCCQx293eONvgkOXUXwtc/iyoTC25HNLgsVbAL+Et5YNoyGBcIOywPhqIzrxNBwGteJGe8bCOGNtOHEsfwQotC4TgyH9Xi7Tgyns0PE4BAc7A/H4S6YxYCTR1oQ8MZVYHHVFcQflpej04gOnrcZFE8dIizzw6AErlaDAIZoh1DEkmqUA50q7P3DkipwRaOLhgeNGH6Gzp9xbQmuHMHoODqPEFM4iAQjzuhsYU8U2GDmBh1JCED8Du+JTqXR+cR74h3QKGKfOtJEZwkNKuKig4d/x3eqOQY8UF50gNEhwrkBGEBAfugw4z3iE954T6SB5yHA8V4oExoN8MZ7mRHeRj1jFgwdbYhMcEWnxu5gnD6KeoKNoiOB1QH4dtCRwsmtRjA6ge6dK9QPvjewxTsZgh0j4bBjrL5w78xguwLsG6sQsNoA5YB9oz7c9zKiY2gEdPoxoAVbQ4DduC6DtZsf80s8BHxtf9xPNYfdYhAOYhUrYDBIBV8K/2/cwQy7xYAblnLCr+L7wr+xVBerk4zrFNGphw9EejiQzThkCGWEKIYfxFJZBPhNfE+YdYQfweAtRC1mwSG04LfMHqyE53CAKQQBvmvXWUGjpl2vE0On2fU6MXzLELJxXSeGdDAojIM6cY0h2gF0yuED4BMgDO0S3mgDsC0AKwVcrxNDG4YBZNfrxHwttz/aLX8Kb6NdRlvoep0Y/LPZ68Tg37GCA2fowM7Qx0D7h1USsHEnCW/0SdCfwT3lEG7GADP6IWi7IeiMQ9Fgh/hWUH70TdA3wtY6iHf0g2ALsA/0vzBgjG8VaWJFiBXh7S3fuLxqXH00u72xsUIFWwzRDuM7xsQK+jSwB9dzd4xZd/eVP8YWRPgV+DzM6KMfgHMw3E+Bx/v50mdB/aE/gwC/i0FKbLuB/0SA3cMPJ/bApeaJvYYtvJ+vHR8IJW9iCeIbHzpGLI1lVhi5xLJajLi5hkAJb+SBE2JxGBeEP5w8OlGYKcBMr6fDPPA8ZlhwGAoabjwHB494aPTiO6naeC/DyUE4o2EwDv9wfW9PwhtCH40yOj5wVBCSrg0LuKLThE4e/g3RC+eKDh8GOdDhwswFxCXqE/WDRgvMIZ6xd9A4XReDEFiWicYLdYS0IIixzBmjy64nZWI5HBw6Op041AVlxyAKOrhYWu9+WIonM4T4h9DDnkrER4cLjhgnqsdlS65poXFGY4NODNigg4yZAjTEEJpmhDcGLlAOrGxAQ4WOkGtH08InlKCoOIQQNomBA3ScsfwO9YdGyTV4E954BvWHQSM0mOiMQRBjOTlmxNxnHPA83hfcjH2i4IjvBDbiHuJaFeA+I5UgAIxEAiLKX8H+4jvJH7A87fGG3cM3GN812hX4Mcx4Y+ml0eHE4Bb8M/ZUY7AKHU4MumEJOW5pwCnlCCgPRALaAswC4ztCpxSz6hg8dG0LMIuODil8EAQFxDgEPfLGktj4DsZ0NQDjxhAIcE8rpfAsZp7w/UL849R3iBq8I9pX99PTPbUzKC++d/gU+ED4fWP2HH7DLuGNd4EPAndwBmPM3qJdAAfUoeu2K1/KjbSttlv+FN4oD0SjYXsQJWhDIaJRF66zkN4cAt4HdYwDBDGwhPgYXEUbDIHqJOGNfsvw4cPV7Dz6Khhcx6GBGCBDfbveHgM7h7DGoI9xaKrRluN7wjY5rEjBYbHY5w1BiEF3sLAivOPK11sdxNdHs9OZgxH8Dm7uQb8M599gMAFXprlvUfP1l5NxAAAgAElEQVQmvFFeMITvxJ3qmJiCD0F9oE/pqf0322cxZrm9MfF2oJ6dDO3Ii8LbDsrMgwRIgARIgARIgARIIEEEnHJ6dIIKz0gkQAIk8DcBCm+aAgmQAAmQAAmQAAmQgGMJUHg7tmpYMBIgAR8IUHj7AIuPkgAJkAAJkAAJkAAJ2EuAwtte3syNBEggMAQovAPDlamSAAmQAAmQAAmQAAn4gQCFtx8gMgkSIIGgE6DwDnoVsAAkQAIkQAIkQAIkQAIkQAIkQAKJmQCFd2KuXb4bCZAACZAACZAACZAACZAACZBA0AlQeAe9ClgAEiABEiABEiABEiABEiABEiCBxEyAwjsx1y7fjQRIgARIgARIgARIgARIgARIIOgEKLwtVsHNmzdlx44dki1bNkmaNKnF1BidBEiABEjAiQTu3r0rZ8+eldKlS0vKlCmdWMREVya2r4muSvlCJEACJPAPAjq1rxTeFj+ADRs2SKVKlSymwugkQAIkQAKhQGD9+vVSsWLFUChqyJeR7WvIVyFfgARIgARME9ChfaXwNm0Onh+MioqSAgUKCIwlZ86cFlNjdBIgARIgAScSOHnypBpkPXz4sOBqI4bAE2D7GnjGzIEESIAEgk1Ap/aVwtuitR07dkzy5MkjR48eldy5c1tMjdFJgARIgAScSIC+3v5aIXP7mTNHEiABErCbgE6+nsLbonXpZCwWUTE6CZAACYQsAfp6+6uOzO1nzhxJgARIwG4COvl6Cm+L1qWTsVhExegkQAIkELIE6Ovtrzoyt585cyQBEiABuwno5OspvC1al07GYhEVo5MACZBAyBKgr7e/6sjcfubMkQRIgATsJqCTr6fwtmhdOhmLRVSMTgIkQAIhS4C+3v6qI3P7mTNHEiABErCbgE6+nsLbonXpZCwWUTE6CZAACYQsAfp6+6uOzO1nzhxJgARIwG4COvn6kBbeBw8elJEjR8ratWtl586dUqxYMfW3mfD111/LkCFDBNeVFCpUSPr27StNmzY1EzXWMzoZi89wGIEESIAEEgkB+nr7K5LM7WfOHEmABEjAbgI6+fqQFt7z5s2Tzp07S+XKlWX//v0SHR1tSnjPmjVLiewePXpIRESEzJ07V8aNGyeRkZHq/74EnYzFFy58lgRIgAQSEwH6evtrk8ztZ84cSYAESMBuAjr5+pAW3hDa4eHhyj5atWolGzduNCW8ixcvLqVLl5YZM2bE2Fa9evXk0qVLavbcl6CTsfjChc+SAAmQQGIiQF9vf22Suf3MmSMJkAAJ2E1AJ18f0sLb1TDMCu/Dhw9LwYIFZfbs2dKkSZOYJLD0vHXr1nLmzBnJmjWraZvTyVhMQ+GDJEACJJDICNDX21+hZG4/c+ZIAiRAAnYT0MnXaye8FyxYIA0aNJA9e/aoPeFG2LBhg1SqVElWrFgh1atXN21zOhmLaSh8kARIgAQSGQH6evsrlMztZ84cSYAESMBuAjr5eu2E97Rp06Rly5Zy8uRJyZEjR4xt4aC2woULC/aNN27c2KvNXb58WfDHCEgHgv3o0aOSO3duu22V+ZFAwAhcvXVXos5dk2N/3ZAL127L+au35Py123Lt1l25fvueXLt9V27euSd37t2XO/ei5fbdaLkXfV+i7+OP/P33fbl/X9QfhPt//+Pv//79s4C9AhMmgRgCBbKmke/bP55gIjp1DBIMyc8R/cH8yeFLlW9KbCEs7P9vZPwz7O8fYgdeeFjY339EkiUJlyThYervVMmSSKrkD/6kT5lMsqRJLpnTJJds6VJIwWxppGDWtOp3DCRAAiRgFwF/+Hq7ymo1H22F96lTpyR79uwx/A4cOCBFihSRn376SRo1auSVa79+/aR///7/+D2Ft1VTZPxgEoBw3nb0oqw+dF7WH74gB85ckdOXbwWzSMybBPxKoPBDaWVR1xoJTlOnjkGCIfk5oj+YF/nol0QpvP2MOiY5aPdcGVNJ+byZpFaxbPJk4WySJW2KQGXHdEmABEhA/OHrQwWjdsLb6lJzzniHimmznPERwOzzpiN/yZTVUbJk7xk1i+0pYKYEMyKYGcmSNrmkTZFU0iRPKqlTJJGUSZNI8qThaiYlWZIwSRIeLuFhomZXMPuCf2PmBZ05NSuDf/+dieuMTXxl5e9JwCqBDKmSScMyDyc4GZ06BgmG5OeI/mA+ff2fcs9YcuPn8jkhuZjVRCjM36uN4NuNVUdYhXQXf+7dl9v37snNO9Fy4849uXn7nly8cUetYsJqpjOXb8nte/9cGQA//VjeTPLGkwUlokR25dcZSIAESMCfBPzh6/1ZnkCmpZ3w5uFqgTQnph0KBNARm7PluExedVh2nfj/tgmUHTMdVR7JIqVzZRAszcXSw4czpJJwKGgGEtCYgE4dA6dUM5nbVxNoF479dV0Onb0qe09dkZUHzqnVTxDtRiiRM73866nCUpcC3L6KYU4koAEBnXy9dsIb9ovrxMqWLSvTp0+PMef69evLxYsXeZ2YBh+4zq/4x9mr8v7MbbL5z4sxGAo9lFZaVs4rtYo9JHkzp+aMhs4Gwnf3SkCnjoFTzIDMg1sTV27eUQJ88uooJcKNUPWRLDL+5fJqJRQDCZAACVgloJOvD2nhff36dcHScYQJEybIoUOHZPTo0er/NWrUkGzZsknbtm0FV4XdvXs3xi5mzpwpzZs3l549e0rdunXVgWpjxoyRyMhIiYiI8Ml+dDIWn8DwYUcRiI6+L1+viZJhkXvVUkOEOsUekjbVCwg6UVw+6KjqYmEcSIC+3v5KIXP7mXvLcc2h8/LJb/tjBHjuTKlk0usVpFiO9M4pJEtCAiQQkgR08vUhLbyjoqKkQIECHo1s6dKlUrNmTcH93hDexmnKxsP42eDBgwVpFCpUSHBoWtOmTX02WJ2MxWc4jOAIAjh5vNO0zbJ47xlVnqxpk8vgJqUlouT/T/V3REFZCBJwMAH6evsrh8ztZx5fjjM2HJVec3eo2yxSJ08io5uVlfqlcsYXjb8nARIgAa8EdPL1IS28nWDDOhmLE3izDL4RwDU6b327KUZ0NyidUwY+V4pLBH3DyKdJIKinruK6y5EjR6qtUDt37pRixYqpv80EDDIPGTIkZpC5b9++/xhkvnPnjvTp00emTJkily5dksqVK6tVYGXKlInJ4uzZszJo0CBVhq1bt0qyZMnk6tWrcRYB7SPKeu3aNUH8rFmzmilyzDNsX33CZdvDm45ckDenbpZzVx/cfPH5K+Xl6dIU37ZVADMigURGQCdfT+Ft0Xh1MhaLqBjdZgK4IqzLd1skctcplfPbtQtJ14iiNpeC2ZFA4iAQTF+P7VCdO3dWgnj//v0SHR1tSnjPmjVLiewePXqobVRz586VcePG/WNbFdL+5ptvZNSoUZI/f34ZPny4Etc7duyQHDkerIzB/+vVqyeVKlWSCxcuyLZt2+IV3tjS9fvvv8vp06cpvBPHZxDzFicu3pA2Uzaog9jSJE8icztVk8LZ0yWyt+TrkAAJ2EEgmO2rHe/nmgeFt0XiOhmLRVSMbiMBnFD7rx+2yvxtJ1Sub9YoKD3qF+NebhvrgFklLgLB9PUQ2uHh4Qootk9t3LjRlPDGQaKlS5eWGTNmxFQGxDNmtTFzjXD8+HHJly+fjB07Vjp27Kh+duXKFbWNq127djJ06FD1M9cyYGsWZuDjmvFesmSJEv0ffvihvP/++xTeietzUG9z8tINaTRupZy7elsKZk0jcztXk/QpkyXCN+UrkQAJBJJAMNvXQL6Xp7QpvC0S18lYLKJidBsJTFh6UEb8uk/l2LpafunTsARFt438mVXiI+AUX29WeJu9OnPy5MnSpk0bOX/+vGTOnDmm4lq3bq0EPma93UN8whtL13FzCIR82rRpBWlxqXni+ybwRmv/OC+vTFonGOx9qnh2+fLVx3j9ZOKsar4VCQSMgFPa14C9oEvCFN4WKetkLBZRMbpNBPaduiINx61Qh980eTSXOvyGp5bbBJ/ZJFoCTvH1ZoU3bvxo0KCB7NmzR+2zNsKGDRvUcvEVK1ZI9erVpXv37mqZ+alTD7akGGHEiBHSq1cvuXnzZsxsu/G7+IQ3ZsOxtxzL06dOnUrhnWi/igcv9tXKwzLw593q393qFZVOtQol8jfm65EACfiTgFPaV3++k7e0KLwtUtbJWCyiYnQbCNy9Fy3Pf75ath+7JDkzpJRf332SS/9s4M4sEj8Bp/h6s8J72rRp0rJlSzl58mTMPm3UEg5qK1y4sLpGs3HjxvLGG28oEb53795YlThp0iT1OyxLT58+9pVRcQnvEydOKKE/Z84cqVOnjjqwzeyM9+XLlwV/jICyY5Dg6NGjkjt37sRvZCH6hrg1Blub5m09ISmShsuybjUlZ4ZUIfo2LDYJkIDdBJzSvtrx3hTeFinrZCwWUTG6DQRcl5hPbl1RahV9yIZcmQUJJH4CTvH1vgpvzGRnz549poIOHDggRYoUkZ9++kkaNWqkxPXKlSvVzLhrmDhxorRv314J4XTpYh+aFZfwfvnll+XWrVvy448/quR8Ed5It3///v8wJgpv539fl67fkSdHLJVLN+5I8wp5ZNiL/z8R3/mlZwlJgASCScAp7asdDCi8LVLWyVgsomL0ABPAEnMcdHP7XrQ0q5Bbhr9YNsA5MnkS0IeAU3y9WeEdjKXma9askRo1asi6devU4WwI3333nXTq1EkOHTqkZt5Tp07t1Wg44x3a39OXyw/J4AV7JTxM5Nd/PclTzkO7Oll6ErCNgFPaVztemMLbImWdjMUiKkYPIAEs9XvxizWy6chfkiP9gyXmGVLxdNkAImfSmhFwiq83K7x9OVytbdu2cu7cOcuHqxmz295MA9eLTZ8+3bTlOIW56QJr/uDNO/ek1shlcvLSTalbIrtMfK2C5kT4+iRAAmYI6OTrKbzNWEQcz+hkLBZRMXoACaw+eE5enrRO5YBTZSNKPrh7l4EESMA/BJzi680Kb7w1rhPD6eKuYrd+/fpy8eLFf1wnNn78eOnQoYOChWvCcJ+363VirhS9LTXHsnb3veKRkZEybNgwdYc49paXKFHCdIU4hbnpAvNBmbHxqHSftV2RmNWhilTI//+T8omHBEiABDwR0MnXU3hb/AZ0MhaLqBg9gARaTlonKw+ek5IPp5efu1TnKeYBZM2k9SQQTF9//fp1wdJxhAkTJqhl26NHj1b/x9LubNmyCWatcZL43bt3Yypo5syZglnmnj17St26ddWBamPGjBGI4YiIiJjnOnfurE4fHzVqlLrTG6eSb9q0Sd0VjuXhRpg1a5b6J+4Fnz9/voqDULFiRRXPU/Blj7d7/GAy19PKrb81rhV7esxy2X/6qlTIl0lmdqjC9sg6VqZAAomagE6+nsLboinrZCwWUTF6gAhsPXpRnpuw6kGn/OXy0qBMzgDlxGRJQF8CwfT1UVFRMXum3Wtg6dKlUrNmTcFMOIQ3tp24Bvxs8ODBgjQKFSokmK1u2rRprGdu374tffr0UQeh4RTzypUrK4GO2XLX4O1aQtwFjvwpvPX9Plzf/Lfdp6XdNxvVj6a2rSRPFM5GMCRAAiTglUAw21e7q4XC2yJxnYzFIipGDxCB9t9slIW7T0vBrGlkUdcakgQn2zCQAAn4lQB9vV9xmkqMzE1hctxDGPxpOG6l7DpxWQ0EY0CYgQRIgAS8EdDJ11N4W/wOdDIWi6gYPQAEDpy+InU/Wa5SHv5iGWlWIU8AcmGSJEAC9PX22wCZ28/cXzlOXRMlveftkuRJwmXdh3UkU5rk/kqa6ZAACSQyAjr5egpvi8ark7FYRMXoASDQ9YetMnvLccmZIaX83q2WJE8aHoBcmCQJkAB9vf02QOb2M/dXjrjPu9LHv8mtu9HSp2EJaVP9wfVyDCRAAiTgTkAnX0/hbdH+dTIWi6gY3c8Ejl64LjVHLhMcZtO3UQlpXY0dGz8jZnIkEEOAvt5+YyBz+5n7M8d/Td8ic7eekGI50skv7zzBQ9b8CZdpkUAiIqCTr6fwtmi4OhmLRVSM7mcCnyzaL2MWH5BMqZPJ6h51JFXyJH7OgcmRAAkYBOjr7bcFMrefuT9zdL3mcl6nalI2T0Z/Js+0SIAEEgkBnXw9hbdFo9XJWCyiYnQ/EsDhNbVH/S6Hz12T16rkkwHPlvJj6kyKBEjAnQB9vf02Qeb2M/dnjtHR96XGyKVy9MINeblyXhncpLQ/k2daJEACiYSATr6ewtui0epkLBZRMbofCWw7elGe/fsKsR/fqiKP5cvsx9SZFAmQAIV38G2A7Wvw68BqCcYtPiCjFu2XdCmSyvpeT3FlllWgjE8CiZCATr6ewtuiAetkLBZRMbofCQyYv1v+s+qw5M6USlZ0r8W9c35ky6RIwBMB+nr77YLM7Wfu7xxPXroh1YYukej7IqOblZXny+f2dxZMjwRIIMQJ6OTrKbwtGqtOxmIRFaP7iQAOU3t8yGI5e+WWdKr1iHSrV8xPKTMZEiABbwTo6+23DTK3n3kgcmw1eb0s23dWqhXKItPaPR6ILJgmCZBACBPQyddTeFs0VJ2MxSIqRvcTgZUHzknLr9ap1Ba9+6QUzp7OTykzGRIgAQpv59gA21fn1IWVkszZckze/WGbJA0Pk8196kr6lMmsJMe4JEACiYyATr6ewtui8epkLBZRMbqfCHSbuU1mbjomxXOmV1e0MJAACQSeAH194Bm750Dm9jMPRI4Xrt2WxwYtkvv3RT5/pbw8XTpnILJhmiRAAiFKQCdfT+Ft0Uh1MhaLqBjdDwRu3rknFQf9Jldu3ZUeTxeTDjUe8UOqTIIESCA+AvT18RHy/+/J3P9Mg5Xi85+tks1/XpRmFXLL8BfLBqsYzJcESMCBBHTy9RTeFg1QJ2OxiIrR/UDglx0n5a1pm1VKq3vUloczpvJDqkyCBEggPgL09fER8v/vydz/TIOVonG6ebZ0KWRdzzoSHh4WrKIwXxIgAYcR0MnXU3hbND6djMUiKkb3A4EOUzdJ5K5TUqlAZpnxZhU/pMgkSIAEzBCgrzdDyb/PkLl/eQYztZ3HL0nDcStVEX7uUl1K5coQzOIwbxIgAQcR0MnXU3hbNDydjMUiKka3SOD23WgpN2ChXL99TwY+W1JerZLfYoqMTgIkYJYAfb1ZUv57jsz9xzLYKd2/f18qD14sZ67ckvfqFpEudQoHu0jMnwRIwCEEdPL1FN4WjU4nY7GIitEtElj7x3l56cu1KhXc3Z0nc2qLKTI6CZCAWQL09WZJ+e85MvcfSyek1H3WNpmx8Zg8mjejzOlYzQlFYhlIgAQcQEAnX0/hbdHgdDIWi6gY3SKBEb/ulQlLD0n+LKllWbdaFlNjdBIgAV8I0Nf7Qss/z5K5fzg6JZXInSelw7ebJSxMZNNHdSVzmuROKRrLQQIkEEQCOvl6Cm+LhqaTsVhExegWCTQev1K2H7skrz6eTwY+V8piaoxOAiTgCwH6el9o+edZMvcPR6ekcuXmHXl0wCK5G31fPm1eTp57NJdTisZykAAJBJGATr6ewtuioelkLBZRMboFAq73oH756mMSUTKHhdQYlQRIwFcC9PW+ErP+PJlbZ+i0FFp8uVbW/HFeGpd9WMa2eNRpxWN5SIAEgkBAJ19P4W3RwHQyFouoGN0CgfnbTkiX77dIkvAw2dqnrqRLmcxCaoxKAiTgKwH6el+JWX+ezK0zdFoKE5f/IR8v2CMZUiWTzb3rqjaNgQRIQG8COvl6Cm+Ltq6TsVhExegWCBiH0lTMn0lmdqhqISVGJQESSAgB+vqEULMWh8yt8XNi7INnrshTo5erov34VlV5LF8mJxaTZSIBErCRgE6+nsLbomHpZCwWUTF6AgngGpaqQ5fIyUs3pWvdIvI2r2FJIElGI4GEE6CvTzi7hMYk84SSc248tGePD1kspy/fkh5PF5MONR5xbmFZMhIgAVsI6OTrKbwtmpROxmIRFaMnkIDrDMGcjlXl0bycIUggSkYjgQQToK9PMLoERyTzBKNzdMSO0zbJgh2n5Kni2WXS6xUcXVYWjgRIIPAEdPL1FN4W7UknY7GIitETSOA/Kw/LgJ93S/qUSWVLnwjuiUsgR0YjASsE6Out0EtYXDJPGDenx/pq5WEZ+PNudZ3Ypo+ekjDcL8ZAAiSgLQGdfD2Ft0Uz18lYLKJi9AQSaD15vSzdd1aeKZ1DPnvlsQSmwmgkQAJWCNDXW6GXsLhknjBuTo+17ehFeXbCKlXMJe/VkILZ0jq9yCwfCZBAAAno5OspvC0akk7GYhEVoyeAwK2796Rc/0Vy4849GfJ8aWlRKW8CUmEUEiABqwTo660S9D0+mfvOLBRi3LkXLWX6LVTt2vAXy0izCnlCodgsIwmQQIAI6OTrKbwtGpFOxmIRFaMngMCaQ+elxcS1KuaK7rUkT+bUCUiFUUiABKwSoK+3StD3+GTuO7NQifHSl2tk7R8XpHmFPDLsxTKhUmyWkwRIIAAEdPL1FN4WDUgnY7GIitETQGD8kgMycuF+yZ0plaz8oHYCUmAUEiABfxAIpq8/ePCgjBw5UtauXSs7d+6UYsWKqb/NhK+//lqGDBkiUVFRUqhQIenbt680bdo0VtQ7d+5Inz59ZMqUKXLp0iWpXLmyjBkzRsqU+b8gOnv2rAwaNEiVYevWrZIsWTK5evXqP4rw73//W2bPni3bt2+Xa9euSdGiRaVbt27SrFkzM8WN9UwwmftcWEbwicDIX/fJ+KUH5ZFsaWTxezV9isuHSYAEEhcBnXw9hbdF29XJWCyiYvQEEGgzZYMs2XtGGpd9WMa2eDQBKTAKCZCAPwgE09fPmzdPOnfurATx/v37JTo62pTwnjVrlhLZPXr0kIiICJk7d66MGzdOIiMj1f+NgLS/+eYbGTVqlOTPn1+GDx+uxPWOHTskR44c6jH8v169elKpUiW5cOGCbNu2zaPwzpMnj0q7YcOGki5dOvnpp59UnuPHj5dOnTr5VBXBZO5TQfmwzwSW7jsjrSdvUPG29K4rmdIk9zkNRiABEkgcBHTy9RTeFm1WJ2OxiIrRfSSA+07LD1wkf12/I/0alZBW1Qr4mAIfJwES8BeBYPp6CO3w8HD1Kq1atZKNGzeaEt7FixeX0qVLy4wZM2IwQDxjVhsz1wjHjx+XfPnyydixY6Vjx47qZ1euXJECBQpIu3btZOjQoepnrmXo16+fmoH3NOONmfFs2bLFwv7888/Lli1b5PDhwz5VRzCZ+1RQPuwzgUs37ki5AQvl/n2RSa9VkKdKZPc5DUYgARJIHAR08vUU3hZtVidjsYiK0X0kcPjcNak1cpmKNa9TNSmbJ6OPKfBxEiABfxFwiq83K7whcgsWLKiWfTdp0iQGA5aet27dWs6cOSNZs2aVyZMnS5s2beT8+fOSOXPmmOfwDAQ+Zr3dQ1zC2xPvgQMHqmXqt27d8qk6nMLcp0LzYdME6n2yXPadviIdajwiPZ4uZjoeHyQBEkhcBHTy9RTeFm1XJ2OxiIrRfSTw46Zj8t7MbZIiabjs6FdPkid9MOPFQAIkYD8Bp/h6s8J7wYIF0qBBA9mzZ4/aE26EDRs2qOXiK1askOrVq0v37t3VMvNTp07FgjpixAjp1auX3Lx5M2a23XjAV+GNpecQ+liu7ktwCnNfysxnzRP4cM4O+W7dn1IxfyaZ2aGq+Yh8kgRIIFER0MnXU3hbNF2djMUiKkb3kcBHc3fIt2vZKfERGx8ngYAQcIqvNyu8p02bJi1btpSTJ0/G7NMGGBzUVrhwYcG+8caNG8sbb7yhRPjevXtjcZs0aZL6HZalp0+fPtbvfBHeyOe5556TqVOnqvLEFS5fviz4YwSUHYMER48eldy5cwekXplo8AgYg8sYVN7RL0JSJE0SvMIwZxIggaARcEr7agcACm+LlHUyFouoGN1HAs+MWSG7T16W9k8WlA+fKe5jbD5OAiTgTwJO8fW+Cm/MZGfP/v/9swcOHJAiRYqoQ88aNWqkxPXKlSvVzLhrmDhxorRv314JYRyS5hrMCu/du3dLtWrVpG7durH2mXurF6Tbv3//f/yawtufluyctI6cvyY1RjzYTvXjW1XlsXyZnFM4loQESMA2Ak5pX+144ZAX3jjh9e2331Yj9mnSpJEWLVqow2BSpUoVJ7/bt29L79691Sj8X3/9pQ6gwZUrderU8Ym7TsbiExg+bInA9dt3pVTfXyX6vsgXLctL/VI5LaXHyCRAAtYIOMXXmxXewV5qDl5Vq1ZVp6QvXLhQUqZMGW8FcMY7XkSJ6gEcIFrx48Vy7uot+fCZYtL+yUcS1fvxZUiABMwRcEr7aq601p4KaeF98eJFKVWqlDqRFSIae8i6du0q9evXl2+//TZOMji9FfvaPv74Y7X/DQfMzJkzR9asWSPly5c3TVUnYzENhQ9aJrDm0HlpMfHBqcPrPqwj2dPH32m1nCkTIAES8ErAKb7erPD25XC1tm3byrlz5/x2uBoOanviiSfU3nAMimfKlLCZTKcw52cROAIdpm6SyF2nJKJEdvnytQqBy4gpkwAJOJaATr4+pIX3sGHDZMCAAXLkyBF1OivCd999J6+88opgiRuuUvEUjOtTPvnkE+nSpYt6BCOvZcuWVVeoYE+a2aCTsZhlwuesE5iw9KCM+HWf5MqYSlb1qG09QaZAAiRgiYBTfL1Z4Y2XRRuIdm369Okx746BaQxau18nhnu2O3TooJ7DNWGYqXa9TswVXlxLzRG3du3a6rC21atXW9qb7RTmlgyHkeMk8MXvh2ToL3vZ1tFOSEBjAjr5+pAW3jVq1JCMGTPGEsq4riRDhgxqJvu9997zaMa//PKLPPPMM7Jv3z61180I77//vqDzgeVuyZMnN/UJ6GQspoDwIb8QaPf1Rvltz2lpWCanjH/Z/AoMv2TOREiABN80k94AACAASURBVP5BIJi+/vr164Kl4wgTJkyQQ4cOyejRo9X/0Q7i3mzMWuOqsLt378aUfebMmdK8eXPp2bOn2meNQeUxY8ZIZGSk4KRxI3Tu3Fltuxo1apRaQYY7ujdt2qTuCs+RI0fMc7NmzVL/xr3g8+fPV3EQKlasqOIh4J7wJUuWCPaIu56mjt89+uijkiJFCtPWFUzmpgvJBy0RWHHgrLz61XqVxpbedSVTGnN9L0uZMjIJkICjCOjk60NaeD/00EPq/lHs6XYNJUuWlCpVqghOZfUUsKT8+eefFyzFw6i+EXB1yuDBg9XprkWLFjVllDoZiykgfMgyAay+qDDoNzl/7bb0blhC2lYvYDlNJkACJGCNQDB9fVRUlFqN5SksXbpUatasKZgJh/CG/3AN+BnaNaRRqFAhwWx106ZNYz2DM0/69OkjU6ZMUaeYV65cWQl0zJa7hrCwMI9lwFYt5I/g7Rn8zr3Nja9Ggsk8vrLx9/4hcOHabSk/cJFKbFq7ylKt0IPViwwkQAL6ENDJ14e08E6WLJkMHDhQevToEcs6cTcpRPns2bM9Wu2uXbvU3vAffvhBmjVrFvMMDlbDSD2Wx0G4ewo8/EUfRxCsN/3z/HV5csRSlf2cjlXl0bwJ2x8ZrPIzXxJIjAR06hg4pf7I3Ck1EdhyVBmyWE5euskD1gKLmamTgGMJ6OTrQ154Dxo0SD744INYxoTrS7A87scff/RqZLVq1VIzALjrFLPbGLGHgL93757a+4YRf0+B15049rtNNAWbu+W4/OuHrZI8Sbjs6M+7TRNNxfJFQpqATh0Dp1QUmTulJgJbjnZfb5Df9pyRZ8s9LGNeejSwmTF1EiABxxHQydeHtPBO6FJzWBwOZMNyuw0bNigDxP40LFvv27evEuTGfjV36+SMt+O+10RXoD7zdso3a45I+bwZZXbHaonu/fhCJBCKBHTqGDilfsjcKTUR2HKMXrRfxi4+IIUeSiu/da0R2MyYOgmQgOMI6OTrQ1p4J/RwNVeLg8jGwTWY9cZhNTjp/MSJE6aNUidjMQ2FD1oi8Oz4lbLt2CW1txt7vBlIgASCT4C+3v46IHP7mQcjx193nZI3p26S8DCRXf3rS6rkSYJRDOZJAiQQJAI6+fqQFt64Tgx7vDF7nSVLFmUuuDalRYsWcV4n5smubty4oU5cxZ5vXFFmNuhkLGaZ8LmEE7h7L1pK9v1Vbt2Nlk+bl5PnHs2V8MQYkwRIwG8E6Ov9htJ0QmRuGlVIP3jsr+tSfRjPNQnpSmThScACAZ18fUgLb9xFikPScDJ579695cyZM9K1a1d1ncm3334bYwKerlnBtWG4dixPnjxqaTlmu8PDw2XVqlWSJk0a0+ajk7GYhsIHE0zgwOkrUveT5Sr+wneflCLZ0yU4LUYkARLwHwH6ev+xNJsSmZslFdrP4ST+cgMWyaUbd2TQc6Wk5eMPrqZjIAES0IOATr4+pIU3zHH//v3SpUsXWblypaROnVrNdmMmPFWqVDHW6umaFdxX+tlnnwkqG7PluF4Ms+eZMvl2grROxqLH5x/ct5y39bi8M32rJE8aLrv715OkScKDWyDmTgIkoAjQ19tvCGRuP/Ng5fjyxLWy+tB5aVEprwx5vnSwisF8SYAEgkBAJ18f8sI7CPYRK0udjCXYrHXIf8gve+Tfv/8hpXNlkPldquvwynxHEggJAvT19lcTmdvPPFg5fvzf3TJxxWEpmzuDzOvMti9Y9cB8SSAYBHTy9RTeFi1MJ2OxiIrRTRB49at1suLAOWleIY8Me7GMiRh8hARIwA4C9PV2UI6dB5nbzzxYORrXaKZIGi67uNorWNXAfEkgKAR08vUU3hZNTCdjsYiK0U0QqDBokZy7elv6Ny4pr1fNbyIGHyEBErCDAH29HZQpvO2n7IwcXc83+fVfT0rRHDzfxBk1w1KQQOAJ6NS+UnhbtCedjMUiKkaPh8CZKzel0seL1VMz3qwilQpkJjMSIAGHEKCvt78iyNx+5sHK0fVGj0+al5Umj+YOVlGYLwmQgM0EdPL1FN4WjUsnY7GIitHjIbBs3xlpNXmDemp7vwhJnzIZmZEACTiEAH29/RVB5vYzD2aOz05YJduOXpR21QvIRw1LBLMozJsESMBGAjr5egpvi4alk7FYRMXo8RD4bNlBGR65T/JkTiUrutcmLxIgAQcRoK+3vzLI3H7mwczxwzk75Lt1f0qVglnk+/aPB7MozJsESMBGAjr5egpvi4alk7FYRMXo8RDo8v0Wmb/thNQrmV3+/WoF8iIBEnAQAfp6+yuDzO1nHswcp607Ir3m7JT0KZPKtr4REhYWFsziMG8SIAGbCOjk6ym8LRqVTsZiERWjx0OgzqhlcujsNXn3qSLyzlOFyYsESMBBBOjr7a8MMrefeTBz3Hr0ojw3YZUqworutSRP5tTBLA7zJgESsImATr6ewtuiUelkLBZRMXocBG7cvicl+0ZK9H2RL199TCJK5iAvEiABBxGgr7e/MsjcfubBzPHmnXtSos+DdnDSaxXkqRLZg1kc5k0CJGATAZ18PYW3RaPSyVgsomL0OAi4jvSv/KCW5M7EkX4aDAk4iQB9vf21Qeb2Mw92jjVHLJWo89flg/rF5K2ajwS7OMyfBEjABgI6+XoKb4sGpZOxWETF6HEQwIEyOFiGe9toJiTgTAL09fbXC5nbzzzYObb7eqP8tue0PP9oLhndvFywi8P8SYAEbCCgk6+n8LZoUDoZi0VUjB4HgY/m7pBv1/4plQtklh/erEJWJEACDiNAX29/hZC5/cyDnePwyL3y2bJDUipXevm5yxPBLg7zJwESsIGATr6ewtuiQelkLBZRMXocBF74fLVsOvKXtK6WX/o2KklWJEACDiNAX29/hZC5/cyDneOcLcfk3R+2Scpk4bK7f30JD+fJ5sGuE+ZPAoEmoJOvp/C2aE06GYtFVIzuhUB09H0p1e9XuX77nox4sYw0rZCHrEiABBxGgL7e/gohc/uZBzvHnccvScNxK1UxlnerJXmz8LyTYNcJ8yeBQBPQyddTeFu0Jp2MxSIqRvdCIOrcNak5cpn67c9dqkupXBnIigRIwGEE6OvtrxAyt595sHPEDR8l+kbK/fsiX71eQeoU58nmwa4T5k8CgSagk6+n8LZoTToZi0VUjO6FQOTOk9Lh282SJDxMdg+oJymSJiErEiABhxGgr7e/QsjcfuZOyLHGiKVyhCebO6EqWAYSsIWATr6ewtuiSelkLBZRMboXAuOXHJCRC/fLI9nSyOL3apITCZCAAwnQ19tfKWRuP3Mn5Bhzsnn5XDK6GU82d0KdsAwkEEgCOvl6Cm+LlqSTsVhExeheCLwzfYvM23pC6pfMIV+8+hg5kQAJOJAAfb39lULm9jN3Qo7DIvfK58sOSelcGWR+l+pOKBLLQAIkEEACOvl6Cm+LhqSTsVhExeheCDwzZoXsPnlZutQuJO9FFCUnEiABBxKgr7e/UsjcfuZOyNE42TxVsiSyq389nmzuhEphGUgggAR08vUU3hYNSSdjsYiK0T0QuBd9X0r0iZRbd6NlzEvl5NlyuciJBEjAgQTo6+2vFDK3n7kTcnQ92XxF91qSJzNPNndCvbAMJBAoAjr5egpvi1akk7FYRMXoHggcOX9Naox4cKL5grefkBIPpycnEiABBxIIpq8/ePCgjBw5UtauXSs7d+6UYsWKqb/NhK+//lqGDBkiUVFRUqhQIenbt680bdo0VtQ7d+5Inz59ZMqUKXLp0iWpXLmyjBkzRsqUKRPz3NmzZ2XQoEGqDFu3bpVkyZLJ1atXPRZh/fr18u6778rmzZslS5Ys8sYbb0jv3r0lPDzcTJFjngkmc58Kyof9SsD1ZPP/tKogtYvxZHO/AmZiJOAwAjr5egpvi8ank7FYRMXoHgj8tvu0tPtmo4SHieweUF9SJuOJ5jQUEnAigWD6+nnz5knnzp2VIN6/f79ER0ebEt6zZs1SIrtHjx4SEREhc+fOlXHjxklkZKT6vxGQ9jfffCOjRo2S/Pnzy/Dhw5W43rFjh+TIkUM9hv/Xq1dPKlWqJBcuXJBt27Z5FN5//PGHlCtXTmrWrCnvvPOO7NmzR7p37y5du3ZVwt2XEEzmvpSTz/qfwJPDl8qfF65Lj6eLSYcaj/g/A6ZIAiTgGAI6+XoKb4tmp5OxWETF6B4I4AAZHCSTP0tqWdatFhmRAAk4lEAwfT2EtjFb3KpVK9m4caMp4V28eHEpXbq0zJgxI4YqxDNmtTFzjXD8+HHJly+fjB07Vjp27Kh+duXKFSlQoIC0a9dOhg4dqn7mWoZ+/fqpGXhPM95vvfWW/Pe//5UDBw5IihQpVNzBgwfLwIED5eTJk5IxY0bTNRxM5qYLyQcDQqDd1xvktz1n5HmebB4QvkyUBJxEQCdfT+Ft0fJ0MhaLqBjdA4GuM7bK7M3H5ani2WXS6xXIiARIwKEEnOLrzQrvw4cPS8GCBWX27NnSpEmTGKpYet66dWs5c+aMZM2aVSZPnixt2rSR8+fPS+bMmWOewzMQ+Jj1dg9xCW+I+Oeee04tVTfCkSNH1Ew6ZuBfeOEF0zXsFOamC8wH/UZg6C975YvfD0mZ3Bnkp8482dxvYJkQCTiQgE6+nsLbogHqZCwWUTG6BwKNx6+U7ccuyVs1H5EP6hcjIxIgAYcScIqvNyu8FyxYIA0aNFBLvbEn3AgbNmxQy8VXrFgh1atXV8vAscz81KlTsciPGDFCevXqJTdv3vzH3mxvwvvatWuSNm1a+fzzz6VDhw6x0kuTJo307NlTPvroI9M17BTmpgvMB/1GYPbmY9J1xjbhyeZ+Q8qESMCxBHTy9RTeFs1QJ2OxiIrR3QhER9+XUv1+leu378noZmXl+fK5yYgESMChBJzi680K72nTpknLli3V8m5jnzbQ4qC2woULC/aNN27cWB18BhG+d+/eWOQnTZqkfodl6enTxz700ZvwxrL13Llzy/fffy8vvfRSrPTw82bNmsno0aO91vDly5cFf4yAsmOQ4OjRoypdBn0I7Dh2SRqNX6lemCeb61PvfFM9CTilfbWDPoW3Rco6GYtFVIzuRuDYX9el+rCl6qfzO1eX0rkzkBEJkIBDCTjF1/sqvDGTnT37/0+Fxt7rIkWKyE8//SSNGjVS4nrlypVqZtw1TJw4Udq3b6+EcLp06WL9Lj7hPX36dGnevHmsOLly5VJiHAe4eQtIt3///v/4NYW3Qz+KABaLJ5sHEC6TJgGHEXBK+2oHFgpvi5R1MhaLqBjdjcDSfWek9eQN6qe7B9ST1MmTkhEJkIBDCTjF15sV3sFYan79+nXBkvKELjXnjLdDjT9IxXpi+BI5euGG9Hy6mLzJk82DVAvMlgQCT8Ap7Wvg31SEwtsiZZ2MxSIqRncjMHH5H/Lxgj2SK2MqWdWjNvmQAAk4mIBTfL1Z4e3L4Wpt27aVc+fO8XA1B9ufjkVrO2WDLN57Rl4on1tGNSurIwK+MwloQcAp7asdsCm8LVLWyVgsomJ0NwLdZ22TGRuPSc2i2WRK60rkQwIk4GACTvH1ZoU3UOI6sbJlywqWfhuhfv36cvHixX9cJzZ+/PiYA9FwTRhOIXe9Tsy1auK7Tgyz7VjSnjx5chUNV5JhCTmvE3OwgTuwaEMW7JF/L/9DyuXJKHM7VXNgCVkkEiABfxBwSvvqj3eJLw0K7/gIxfN7nYzFIipGdyPQ5LNVsuXPi/LGEwWkV4MS5EMCJOBgAsH09VjCDTGLMGHCBDl06FDMIWU1atSQbNmyCWatcVXY3bt3YyjOnDlT7bXGaeJ169ZVB6rhmq/IyEiJiIiIea5z584ydepUtf8a14Hhju5Nmzapu8JdD2bDdWAIuBd8/vz5Kg5CxYoVVTyEP/74Q8qVKye1a9eWLl26yL59+6Rbt27y7rvvyqBBg3yq4WAy96mgfDggBH7Y8Kd88OMOSZ8yqWzrGyFhYWEByYeJkgAJBJeATr6ewtuirelkLBZRMboLgfv370uZ/gvlys27MvyFMtKsYh7yIQEScDCBYPr6qKgoKVCggEc6S5culZo1awpmwiG84VtcA342ePBgQRqFChUSzFY3bdo01jO3b9+WPn36yJQpU9Qp5pUrV1YCHbPlrsGb8MFd4MjfCOvWrVNCe/PmzZIlSxZ1gFvv3r0lSZIkPtVwMJn7VFA+HBACG6IuSNMv1qi0N370lGRNmyIg+TBREiCB4BLQyddTeFu0NZ2MxSIqRnchcPryTak8eLH6yeyOVaV83kzkQwIk4GAC9PX2Vw6Z28/cSTmev3pLHhv0myrSjDerSKUCmZ1UPJaFBEjATwR08vUU3haNRidjsYiK0V0IrDxwTlp+tU79ZHu/CEmfMhn5kAAJOJgAfb39lUPm9jN3Uo5YvVFuwCK5dOOODHuhtDSvmNdJxWNZSIAE/ERAJ19P4W3RaHQyFouoGN2FwORVh6X//N2SI31KWfthHbIhARJwOAH6evsriMztZ+60HJ+bsEq2Hr0obz5ZUHo+U9xpxWN5SIAE/EBAJ19P4W3RYHQyFouoGN2FwIdzdsh36/6UJwpnlaltK5MNCZCAwwnQ19tfQWRuP3On5dh1xlaZvfm4PFU8u0x6vYLTisfykAAJ+IGATr6ewtuiwehkLBZRMboLgWZfrJH1URekVdX80q9xSbIhARJwOAH6evsriMztZ+60HCcsPSgjft0nBbOlkSXv1XRa8VgeEiABPxDQyddTeFs0GJ2MxSIqRnchUGHQb3Lu6i0Z+FwpefXxB9fwMJAACTiXAH29/XVD5vYzd1qOv+w4KW9N2yxJw8Nkz8D6kixJuNOKyPKQAAlYJKCTr6fwprFYJMDovhK4fPOOlOm3UEX7rl1lqVooq69J8HkSIAGbCejUMbAZrdfsyNwpNRG8cuw9dVnqf7pCFWDp+zWlQNY0wSsMcyYBEggIAZ18PYW3RRPSyVgsomL0vwlsO3pRnp2wSv1vTc/akjNDKrIhARJwOAH6evsriMztZ+60HG/euSfF+0QKrqf/6vUKUqd4dqcVkeUhARKwSEAnX0/hTWOxSIDRfSUwZ8sxefeHbZIqWRLZ1b+ehIeH+ZoEnycBErCZgE4dA5vRes2OzJ1SE8EtR/VhS+TYXzek1zPF5Y0nCwa3MMydBEjA7wR08vUU3hbNRydjsYiK0f8mMHrhPhm75KCUyJleFrzzBLmQAAmEAAH6evsricztZ+7EHF/7z3pZvv+stKiUR4Y8X8aJRWSZSIAELBDQyddTeFswFETVyVgsomL0vwl0+m6z/Hf7SWlQJqdMeLk8uZAACYQAAfp6+yuJzO1n7sQc+/20S6asjpJKBTLLjDerOLGILBMJkIAFAjr5egpvC4ZC4W0RnqbRnxmzQnafvCxv1y4kXSOKakqBr00CoUVAp46BU2qGzJ1SE8EtxzdroqTPvF2SLV0K2dDrqeAWhrmTAAn4nYBOvp7C26L56GQsFlExuohER9+Xkn1/lRt37sknzctKk0dzkwsJkEAIEKCvt7+SyNx+5k7MceWBc9Lyq3WqaDv6RUi6lMmcWEyWiQRIIIEEdPL1IS+89+/fL2+//basWLFC0qRJIy1atJChQ4dKqlRxnxR97do1GThwoMycOVNOnjwpuXLlkldeeUV69uwpKVKkMG06OhmLaSh80CuBk5duSJUhS9Tv53WqJmXzZCQtEiCBECBAX29/JZG5/cydmOOJizek6lC2m06sG5aJBPxBQCdfH9LC++LFi1KqVCnJly+f9O7dW86cOSNdu3aV+vXry7fffhunLbz22msyd+5c+fjjj1Ua69evV2l06NBBxo4da9qOdDIW01D4oFcCqw6ek1cmPRi5394vQtJz5J7WQgIhQYC+3v5qInP7mTsxR6wUK9E3Um7eieZKMSdWEMtEAhYJ6OTrQ1p4Dxs2TAYMGCBHjhyRrFmzqmr/7rvv1Mz17t27pXjx4h5N4e7du5IuXTrp3r279O/fP+aZjh07yo8//iinT582bUI6GYtpKHzQK4Gpa49I77k7JWvaFLLxI+5Vo6mQQKgQoK+3v6bI3H7mTs3x6TErZM/Jy9KldiF5j2ejOLWaWC4SSBABnXx9SAvvGjVqSMaMGWXevHkxFX3r1i3JkCGDmsl+7733PBrAnTt3JHXq1ALhjhlyI3z44YcyadIkNXNuNuhkLGaZ8DnvBPrP3yWTV0VJpfyZZUYHns5KWyGBUCFAX29/TZG5/cydmiNvA3FqzbBcJGCdgE6+PqSF90MPPSRt2rRRe7pdQ8mSJaVKlSpKRHsL7du3l0WLFsn06dMFz2/YsEGaNWsmXbp0kT59+pi2Ip2MxTQUPuiVQKvJ62XZvrPyUsU8MvQF3kdKUyGBUCFAX29/TZG5/cydmuPohftk7JKDUjxnevnlnSecWkyWiwRIIAEEdPL1IS28kyVLpg5I69GjR6xqrl69ukCUz54922v137t3T+3ndhXnEN3x7e++fPmy4I8RcDBbpUqV5OjRo5I7N0+oTsD3plWUJ4cvlT8vXJeeTxeTN2s8otW782VJIJQJ6NQxcEo9kblTaiL45Ziz5Zi8+8M2SZksXHb3ry/h4WHBLxRLQAIk4BcCOvn6kBfegwYNkg8++CBWxVerVk1y5Mih9mt7C926dVMHsGGPeNGiRWXTpk3St29feffdd2Pt+3aP369fP4+/p/D2y7eXqBO5dfeeFO8dKdH3RSa+VkHqlsieqN+XL0cCiYmATh0Dp9QbmTulJoJfjm1HL8qzE1apgqzqUVtyZYz75prgl5glIAESMEtAJ18f0sI7oUvNd+7cKaVLl1Z7wxs3bhxjF2PGjJH3339fjh8/rmbMPQXOeJv9jPicO4EDp69I3U+Wqx//1rWGFHooLSGRAAmECAGdOgZOqRIyd0pNBL8cl2/ekTL9FqqCfNu2slQv/OBAXQYSIIHQJ6CTrw9p4Z3Qw9VmzJghzZs3V6eh582bN8Zif//9d6lZs6a6WqxixYqmLFknYzEFhA95JRC585R0+HaTJAkPkz0D6kvypOGkRQIkECIE6Ovtrygyt5+5k3N8bOAiOX/ttgx8rpS8+ng+JxeVZSMBEvCBgE6+PqSFN04lxx5vCOgsWbKoKsZhaS1atIjzOrF169bJ448/rvaAN2nSJMY0Ro0apWa8cap5tmzZTJmMTsZiCggf8krg82WHZFjkXsmfJbUs61aLpEiABEKIAH29/ZVF5vYzd3KOL3y+WjYd+UvaVi8gvRuWcHJRWTYSIAEfCOjk60NaeF+8eFFKlSol+fPnl969eyvBjOvB6tWrp/ZvG6Ft27by9ddfC+7vRsDBalWrVpWoqCi1Xxt7vHGqOfZ7N2zYUIl3s0EnYzHLhM95JtBt5jaZuemY1CqaTSa3rkRMJEACIUSAvt7+yiJz+5k7Ocf3ZmyTHzcfkzrFHpKvWplblejk92HZSIAEHhDQydeHtPBGZe3fv19dAbZy5Up1NzdmuzETnirV/w/eaNWqlRLe9+/fj7FxiHSI9YULF8qpU6ckT5488sILL0ivXr0kbVrze291MhY6CGsEXvx8tWzkaL01iIxNAkEiQF9vP3gyt5+5k3Mcv+SAjFy4XwpmSyNL3qvp5KKybCRAAj4Q0MnXh7zw9qFeA/KoTsYSEIAaJVp+4CK5cO22DHqulLTk/jSNap6vmhgI0NfbX4tkbj9zJ+f48/YT0vm7LZIsyYNzUpIm4TkpTq4vlo0EzBLQyddTeJu1Ci/P6WQsFlFpHf3i9dtSbsAixeC7NypL1Ud4IqvWBsGXDzkC9PX2VxmZ28/cyTnuPH5JGo5bqYq4vFstyZsltZOLy7KRAAmYJKCTr6fwNmkU3h7TyVgsotI6+pY//5Imn61WDNb2rCM5MqTUmgdfngRCjQB9vf01Rub2M3dyjldv3ZVSfX9VRfy6TSWpUcTcIbhOfieWjQRIgHu8aQM+EGDHwAdYGj86e/Mx6Tpjm6RKlkR2D6gnYWFhGtPgq5NA6BEIpq8/ePCgjBw5UtauXSs7d+6UYsWKqb/NBJxvMmTIEHWYaKFChaRv377StGnTWFHv3Lkjffr0kSlTpsilS5ekcuXKMmbMGClTpkys53AeyjvvvCO//PKLhIeHS+PGjeXTTz+VzJkzx3pu0qRJMm7cOEG5M2XKJE899ZQMHjxYHn74YTNFjnkmmMx9Kigfto1AxY9/k7NXbkn/xiXl9ar5bcuXGZEACQSOgE6+njPeFu1IJ2OxiErr6KMX7pOxSw5KsRzpJPJfT2rNgi9PAqFIIJi+ft68edK5c2cliHGgaHR0tCnhPWvWLCWye/ToIRERETJ37lwliCMjI9X/jYC0v/nmG8GVmrglZPjw4bJ161bZsWOH5MiRQz2GW0EqVKggt2/fVkIeYr179+6SK1cuWb58ecxg4n/+8x/BTSK4YaRBgwZy9OhRdWgprujctGmTEuxmQzCZmy0jn7OXQLMv1sj6qAvSqmp+6de4pL2ZMzcSIIGAENDJ11N4WzQhnYzFIiqto3f5fovM33ZCni6VQz5v+ZjWLPjyJBCKBILp6yG0DcGKWzo2btxoSngXL15cSpcuLTNmzIhBjus2MauN2XOE48ePS758+WTs2LHSsWNH9bMrV65IgQIFpF27djJ06FD1sx9++EFeeukllW/Jkg8Ez+rVq6VatWpqBrx+/frqZ5jdhij//fffY/JE/s2bN5fdu3cLymQ2BJO52TLyOXsJdJ+1TWZsPCY1i2aTKbyW0174zI0EAkRAJ19P4W3RiHQyFouotI7eePxK2X7skrxV8xH5oH4xrVnw5UkgFAk4xdebFd6HDx+WggULyuzZs6VJkyYxyLH0vHXr1oIrNbNmzSqTJ0+WNm3ayPnz52MtGcczEPiY9UZ4/fXX1Sz4tm3bYlUfO3s2XQAAIABJREFUBHrDhg3VTDpCjRo1JEOGDPLTTz/FPIdrOyH4d+3aJSVKlDBd/U5hbrrAfDDgBD5bdlCGR+6T/FlSy7JutQKeHzMgARIIPAGdfD2Ft0V70slYLKLSNjrujy/Tf6FcuXlXhr9QRppVzKMtC744CYQqAaf4erPCe8GCBWqp9549e9SecCNs2LBBKlWqJCtWrJDq1aur5eJYZo79265hxIgRaon4zZs31Ww74kDIT58+PdZzyOPWrVvy22+/qZ9PmzZNCfmpU6fK008/LeCG/6dOnVoWL17sU/U7hblPhebDASXwy46T8ta0zZIkPEz2DqwvyXilWEB5M3ESsIOATr6ewtuiRelkLBZRaRv9/NVb8tigB53SGW9WkUoFYh9EpC0YvjgJhBABp/h6s8IbArhly5Zy8uTJmH3awI0DzwoXLizYN47D0d544w0lwvfu3RurNnBAGn6HZenp06dXcerUqSNffPFFrOeQB5aQb968OebnEydOlE6dOqkl5wgQ+D///LOaCY8rXL58WfDHCCg7BD/2iefOnTuErIVFDRSBPScvy9NjVqjkl75fUwpkTROorJguCZCATQSc0r7a8boU3hYp62QsFlFpG33TkQvywudr1Puv71VHHkrHq8S0NQa+eMgScIqv91V4YyY7e/bsMdwPHDggRYoUUUvBGzVqpMT1ypUr1cy4a4B4bt++vRLC6dKlU8Ib+7c///zzWM+98sorSrTj4DQELG3HsvT3339fatasqfaQ9+vXTwnnRYsWSZIkSbzaAJ7r37//P35P4R2yn43fC37j9j0p3idSpTu5dUWpVfQhv+fBBEmABOwl4JT21Y63pvC2SFknY7GIStvoszYdk/dnbpM0yZPIzv68SkxbQ+CLhzQBp/h6s8I7GEvNsa0GIh+z4KNHj46pb+wLL1eunPz444/y/PPPe7UDzniH9CdiW+EfH7xYTl2+KX0blZDW1QrYli8zIgESCAwBp7SvgXm72KlSeFukrJOxWESlbfSRv+6T8UsPSsmH08t/335CWw58cRIIZQJO8fVmhbcvh6vh+q9z585ZPlwNB7ZBeOMAt9deey2munEqe/LkydU1ZN26dTNtBk5hbrrAfNAWAi99uUbW/nFBXq+ST/o/W8qWPJkJCZBA4Ajo5OspvC3akU7GYhGVttE7fbdZ/rv9pDQok1MmvFxeWw58cRIIZQJO8fVmhTdY4+qusmXLxjoQDdd+Xbx48R/XiY0fP146dOigqujq1avqPm/368RatGihTiY3rgTDlWRVqlSJuU4MM95p06ZV8caMGRNT3ViGjjvAca0Y7hU3G5zC3Gx5+Zw9BHrO3i7frz8qTxbJJt+0qWRPpsyFBEggYAR08vUU3hbNSCdjsYhK2+gNxq6QXScuS+daheT9ekW15cAXJ4FQJhBMX3/9+nXB0nGECRMmyKFDh2KWcuP6rmzZsglmrTHTfPfu3RjMM2fOVPdn9+zZU+rWrasOVIMgjoyMlIiIiJjnOnfurE4hHzVqlLrTe+TIkWrPNu7szpEjh3oO6UI848A0zFzj/5i9fvjhh2X58uUSFhamnsPebuTRo0ePWHu88fvt27dLmjTmD8MKJvNQttXEXvZ//35IhvyyV/JmTi3Lu/NKscRe33y/xE9AJ19P4W3RnnUyFouotIyOGaBSfX+Va7fvyYgXy0jTCrxKTEtD4EuHPIFg+vqoqCjBfdmewtKlS5XAxUw4hDd8jmvAzwYPHixIo1ChQuqgM/dZ59u3b0ufPn1kypQp6hTzypUrK/GM2XLXgFPG33nnHSXcIaRxKvqnn34qWbJkiXkMaWF/N64oQ5743RNPPKHKgFl0X0IwmftSTj5rL4Ffd52SN6dukvAwkb0Dn5bkScPtLQBzIwES8CsBnXw9hbdF09HJWCyi0jL6mSs3pdLHD+6undWhilTIz6vEtDQEvnTIE6Cvt78Kydx+5qGQ4/7TVyTik+WqqIvfqyGPZEsbCsVmGUmABLwQ0MnXU3hb/Ax0MhaLqLSMviHqgjT94sFVYhs/ekqypk2hJQe+NAmEOgH6evtrkMztZx4KOd688+BKMSzu+Or1ClKn+P+vywuF8rOMJEACsQno5OspvC1av07GYhGVltFnbDwq3Wdtl3Qpksr2fhEx+yC1hMGXJoEQJkBfb3/lkbn9zEMlx2pDl8jxizfkowbFpd0TBUOl2CwnCZCABwI6+XoKb4ufgE7GYhGVltGHR+6Vz5YdktK5Msj8LtW1ZMCXJoHEQIC+3v5aJHP7mYdKjq9MWiurDp6Xlo/nlUHPlQ6VYrOcJEACFN5uJ7HQJHwiwI6BT7i0e7jjtE2yYMcpaVT2YRnX4lHt3p8vTAKJhQB9vf01Seb2Mw+VHHvN2SHT1v0p1QtllW/bVf5fe+cBHlXR9fF/Qu9IV0CKgPQiTXpPULGgLwKC0hEp8gGCFAlVOggigoqCgEgTAX0pipTQO0g1dBGBUKSXJITvORM3bwIBdnN379575z/vw+Ob3WnnN2fP3HNn5oxdus1+kgAJ0PGm423kV8AHAyP0nF/2hQnrcPDMVbxfuwC6B/EqMeePOCV0KgHaevNHlszNZ26XFqeuO4ah/z2InBlTYUPv2nbpNvtJAiRAx5uOt5FfAR8MjNBzdlm51qfYgBW4GXEX494shdefy+VsgSkdCTiYAG29+YNL5uYzt0uLKw+cQ9sZ2yHXxx8cXB8pkyWxS9fZTxIggfsI6GTrecbboPrrpCwGUWlX/NzV26g4LOYqsYUdK+O5p5/QjgEFJgGnEKCtN38kydx85nZp8Uj4ddQdt1Z199du1VEwezq7dJ39JAESoONNHUgsAT4YJJac88ttPnYRTb7crATd1b8enkiT3PlCU0IScCgB2nrzB5bMzWdulxYjoqJRuP8yRN8Dvny7LIKK5bBL19lPEiABOt7UgcQS4INBYsk5v9ycrX+i98K9yJAqGfYMCHK+wJSQBBxMgLbe/MElc/OZ26nFaqNW4dSlW+j7YmG0r/6MnbrOvpIACcQhoJOt51Zzg6qvk7IYRKVd8eHLDuKLtcdQKndGLO5URTv5KTAJOIkAbb35o0nm5jO3U4tvf70F6w5fQNMKT2P467xSzE5jx76SQFwCOtl6Ot4GdV8nZTGISrvi787cjhX7z+HV0k9hQhNeJaadAlBgRxGgrTd/OMncfOZ2ajFk8T7M2HQSlfJnxvftn7dT19lXEiABrnhTBxJDgA8GiaGmR5ngT0Lxx7lr6FqnILrVK6SH0JSSBBxKgLbe/IElc/OZ26nFb9Yfx+CfD+DJDCmxqU8dO3WdfSUBEqDjTR1IDAE+GCSGmvPLREffQ5GQ5bgTFY3xjUvjtTI5nS80JSQBBxOgrTd/cMncfOZ2anH1oXC0mr5NdfnQEF4pZqexY19JIC4BnWw9t5ob1H2dlMUgKq2K/335FiqPWKVkXtSpCkrnzqiV/BSWBJxGgLbe/BElc/OZ26nF4xduoNaYNarLK/6vOp7NwSvF7DR+7CsJuAjoZOvpeBvUe52UxSAqrYpvPHIBb03domTeExKEDKmTaSU/hSUBpxGgrTd/RMncfOZ2ajHyrlwpthx3o+9hSvOyqF+cV4rZafzYVxKg400d8JgAHww8RqZFgdlb/kTfH/ciU5rk2Nm/nhYyU0gScDIB2nrzR5fMzWdutxZrjl6NExdvovcLhdGhBq8Us9v4sb8kIAR0svVc8Tao8zopi0FUWhUftvQgvgw9hueezoiFHXmVmFaDT2EdSYC23vxhJXPzmdutxZbTtmLNH+fRpHxujHijpN26z/6SAAnQ8aYOeEKADwae0NInb7sZ2/HrgXN4/bmcGPdmaX0Ep6Qk4FACtPXmDyyZm8/cbi0OXLIf0zeeQMV8mTD33Up26z77SwIkQMebOuAJAT4YeEJLn7z1xq3F4fDr6FGvELrUKaiP4JSUBBxKgLbe/IElc/OZ263F6RuOY+BPB5A9fQps6VvXbt1nf0mABOh4Uwc8IcAHA09o6ZFXrhIrHLIcEVHRmNi0DF4u9ZQeglNKEnAwAdp68weXzM1nbrcW1/wRjpbTYq4UOzA4GKmTJ7WbCOwvCWhPQCdbzzPeBtVdJ2UxiEqb4n/9cxNVR65W8v7cpSqK58ygjewUlAScSoC23vyRJXPzmdutxZMXb6DG6JgrxZa+Xw1Fn0pvNxHYXxLQnoBOtp6Ot0F110lZDKLSpvj6wxfQ/OuYq8T2DQpG2hR8A6/N4FNQxxKgrTd/aMncfOZ2azHq3yvFoqLv4fNmz+HFEk/aTQT2lwS0J6CTrafjbVDddVIWg6i0KT5z80n0X7QPWdKmwPaPeOZMm4GnoI4mQFtv/vCSufnM7dhi7TFrcOzCDfQMfhadahWwowjsMwloTUAnW0/H26Cq66QsBlFpU3zIzwfw9frjKJ/3CczvUFkbuSkoCTiZAG29+aNL5uYzt2OLradvw6pD4XizXC6M+k8pO4rAPpOA1gR0svV0vA2quk7KYhCVNsXbTN+G3w6Fo1HZXBjdiA8B2gw8BXU0Adp684eXzM1nbscWB/90AN9sOI4KeTNhXgdeKWbHMWSf9Sagk62n421Q13VSFoOotClee+waHDvPbW/aDDgF1YIAbb35w0zm5jO3Y4szN51A/8X7kTVdCmzrx+NddhxD9llvAjrZejreBnVdJ2UxiEqL4hLopUjIckTeZaAXLQacQmpDwJ+2/siRIxgzZgw2b96Mffv2oXDhwuq/7qRvv/0Ww4cPx4kTJ1CgQAEMGDAAjRo1ilc0MjISISEhmD59Oq5cuYKKFStiwoQJKFmyZLx8Z8+eRdeuXbFs2TIEBgbilVdewfjx45EpU6Z4+e7evYtx48Zh6tSpqt3MmTOrvFOmTHGny7F5/Mnco44ys18JrDt8Hm9/vVX1gQFN/ToUbJwEEkVAJ1tPxztRKvK/Qjopi0FUWhT/8+JNVB8dc5UYrzbRYsgppCYE/GnrFy9ejM6dOyuHOCwsDNHR0W453gsWLFBOdu/evREUFIRFixZh4sSJWL58ufrblaTuGTNmYOzYscibNy9GjRqF3bt3Y+/evciRI4fKFhUVhXLlyiEiIkI58uKs9+rVCzlz5kRoaCgCAgJi62vZsiV++eUX9O/fH0WLFoU47Nu3b8fo0aM90hZ/Mveoo8zsVwKnLt1EtVG8wtOvg8DGScAAAZ1sPR1vA4oiRXVSFoOotCi+Nuw8WnwT8+b9wOBgpE7Oq8S0GHgK6XgC/rT14mjLCrMkcWrFiXVnxbtIkSIoUaIE5s2bFzs+wcHBalVbVs8lnT59Gnny5MGnn36Kjh07qs+uXbuGfPnyoW3bthgxYoT6bO7cuWjSpIlqt1ixYuqzjRs3okqVKmoFvH79+uozcbhfeukl7NmzRzndRpI/mRvpN8uaSyA6+h4KhyxHRFQ0Pm1aBq+UesrcDrA1EiABQwR0svV0vA2pCh1vg/gcV/zbjScwYMl+ZE+fAlv68qyZ4waYAmlLwCoPBu463sePH0f+/PmxcOFCNGzYMHbcZOt5q1atEB4ejixZsmDatGlo3bo1Ll68GG/LuOQRB19WvSW1aNFCrYKLQx03iYPeoEEDtZIuqXHjxrh8+TJWrFhhWFeswtywIKzA5wSCPwnFH+euoVvdQuhat6DP22MDJEAC3iOgk623veMt2+7ef/99rFu3DmnSpEHTpk3VG/pUqVI9VCPkzJk8LCSUkidPjjt37ritTTopi9tQNM44cMl+TN94AhXzZcLcdxldVWNVoOgOI2AVW++u47106VK18nzw4EF1JtyVtm3bhgoVKqg5s2rVqmq7uGwzl+3gcZNsC+/Xrx9u376tVtuljDjyc+bMiZdP2pA5c+XKlepzWT2X89xSRs6My9b0OnXqKMf8YfPuw1TFKswdpsqOFOe9WTuwbN9ZvFr6KUxoUsaRMlIoEnAqAZ1sva0db3mrXrx4cTXRy1kyeYPfvXt3teVt1qxZD9VPeUjYtWtXvO/v3buHF154AbVq1cKPP/7otm7rpCxuQ9E4Y8tpW7Hmj/NoUj43RrwRPzCRxlgoOgnYnoBVbL27jvd3332H5s2b48yZM7HntGUQJFBbwYIFIefGxUFu166dcsIPHToUb4wkMJp8J9vS06dPr8qIA31/gDRp48CBA9i5c6cqnyJFCsgLbJmbZV6+ceMG+vTpg2TJkqnV86RJH3785urVq5B/riR9F4f/1KlTyJUrl+11iAL4jsCo5Yfw+ZqjKJEzA37qUtV3DbFmEiABrxOwyvzqdcESqNDWjvfIkSMxePBgnDx5Um2ZkzR79mw0a9ZMPQjI+TZ305o1a5TTLWfh7o/4+qg6dFIWd1nqnK/m6NU4cfEmer9QGB1qPKMzCspOAo4iYBVb76njLSvZ2bNnjx2Lw4cPo1ChQliyZAlefvll5VyvX79erYzHTV999RXat2+vHOF06dIpx7tu3bqYPHlyvHwy34rTvmPHDvW5ON3iZMedl8UpL1u2rDon/uabbz5ULwYOHIhBgwY98D0db0f9lHwizIIdf+GD+XuQNkVS7B0YFC/Yn08aZKUkQAJeI2CV+dVrAj2iIls73jVq1EDGjBnVm3tXktXsDBky4OOPP0aPHj3cZigPGPJQcO7cOaRMmdLtcjopi9tQNM0YeTcahfsvx93oe5jSvCzqF4+JBsxEAiRgfwJWsfXuOt7+2mouTr5sKXcFb3ONvMzVchVZQo61Kw9XvO3/O/GXBDtO/oM3Jm9UzW/tWwfZ0rv/HOevPrNdEiCBGAJWmV/NGA9bO97ZsmVTQWFcUVddwCTiaqVKldQdou4kuRZFrkyRt/9yJs2TpJOyeMJFx7zHL9xArTFrlOgr/q86ns2RTkcMlJkEHEnAKrbeXcfbk+Bqbdq0wYULF7wSXK1mzZrqXHhCjne3bt3UPeLuJqswd7e/zOc/Av/ciECZIb+qDsxp/zyez5/Zf51hyyRAAh4R0MnW29rxlu1sQ4YMUXeUxk0SMEacconm6k6SLXevvvqqisIa927ThMryjbw7RPXM89vBc2jz7XbIdbYHB9dHymRJ9ARBqUnAgQSs8mDgruMtQyDHrUqVKhUvIJrEQJH4KPdfJ/bZZ5+hQ4cOauSuX7+u7vO+/zoxCV66f//+2GNcUoe85I57ndiYMWMQEhKitppnzZpV1SfR0cuXL6/ip7z22mtua4dVmLvdYWb0K4Eyg3/BPzcjMaxhCbxV8Wm/9oWNkwAJuE9AJ1tve8d76NCh+PDDD+ONrtwrKivYP/zwg1ujLtefrF27Vt1nmiTJo50lnkFzC6mWmaauO4ah/z2IXE+kwvoPa2vJgEKTgFMJ+PPB4ObNm5Ct45ImTZqEo0ePYty4cepvOXIlDq6sWstVYVFRUbFDMH/+fHW9lwQ3q1evnjqWNWHCBCxfvjzeS+bOnTtj5syZGDt2rApWKs6znNmWO7tlLpUk9ZYrVw6yQ2z48OHq7549e+Kpp55CaGho7JlaeTktd4dLOYmKLn3v27cvnnjiCUhEddd95O7oiT+Zu9M/5rEWgdc/34Cdf15Gu2r50O8lY3fIW0sy9oYEnE1AJ1tva8fbG1vN5c2+nEmTN/vyQPK4xBXvxxHS9/s+C/fi+61/olrBLJjZpqK+ICg5CTiQgD8fDB51Bebq1ash27tlJVwcb7mhI26Sz4YNGwapo0CBApCXx/cHEJUrv2SVWo5aSRTzihUrqvlQVsvjJokyLue0xXEPCAhQUdHHjx+PzJnjb+uVFwOST4KWystsuTHkk08+wZNPPumRZviTuUcdZWZLEJDgahJkrU7hbPi6ZXlL9ImdIAESeDwBnWy9rR1vbwRXk7f877zzjtp2Jw8bniadlMVTNrrlb/zFJmw5fgktK+fFwFeK6SY+5SUBRxOgrTd/eMncfOZ2bnHS6iMYveIP5M+SBqs+qGlnUdh3EtCKgE623taOt1wnJme85SyZ6437nDlzIOfQ3L1OTN7Ey/UqcrdpYpJOypIYPjqVKf/xSpy/dgeDXy2Gdyrl1Ul0ykoCjidAW2/+EJO5+czt3OLyfWfQYdZOJA0MwMEh9ZEsSaCdxWHfSUAbAjrZels73hIgpnjx4ioITP/+/REeHo7u3bsjODgYs2bNilXYhM6+yZfnz59X59MkOJs48IlJOilLYvjoUuba7UiUGPiLEndWm4qoWjDmXnkmEiABZxCgrTd/HMncfOZ2bvGPs9cQPD5UibCqRw3kz5rWzuKw7ySgDQGdbL2tHW/RyLCwMHTp0gXr169H6tSp1Wq3rISnSpUqVmEfdvZNgtRIUBl3V8cT+gXopCzaWIBECPr7X5fxymcbVMkNvWsjZ8b/6V8iqmMREiABixGgrTd/QMjcfOZ2bvF25F0UCVkOCXMw9Z1yqFs0u53FYd9JQBsCOtl62zve/tZKnZTF36yt3P6iXafxf3N3I2WyQBwYVB+BgQFW7i77RgIk4CEB2noPgXkhO5l7AaJmVVQduQp//XML/V4sgnbV82smPcUlAXsS0MnW0/E2qKM6KYtBVI4uPu6XP/DpqiMo8mR6LOtazdGyUjgS0JEAbb35o07m5jO3e4vvfLMVoWHn0bRCbgx/vaTdxWH/SUALAjrZejreBlVaJ2UxiMrRxTvP3omffz+Dl0o+iUlvPedoWSkcCehIgLbe/FEnc/OZ273FgUv2Y/rGE6iYLxPmvlvJ7uKw/ySgBQGdbD0db4MqrZOyGETl6OIvTliHA2euokvtAugR9KyjZaVwJKAjAdp680edzM1nbvcWZ2w6gZDF+5E1XQps61fX7uKw/ySgBQGdbD0db4MqrZOyGETl2OLR0fdQbMAK3Iq8i08al0LDMrkcKysFIwFdCdDWmz/yZG4+c7u3uO7webz99VYlxt6BQUiXMpndRWL/ScDxBHSy9XS8DaqzTspiEJVji/99+RYqj1il5FvcqQpK5c7oWFkpGAnoSoC23vyRJ3Pzmdu9xdOXb6HKv/Pxks5VUDIX52O7jyn773wCOtl6Ot4G9VknZTGIyrHF1x++gOZfb1Hy/T4wCOn5ht2xY03B9CVAW2/+2JO5+czt3qLsQJMrxe5ERWNCk9J4tXROu4vE/pOA4wnoZOvpeBtUZ52UxSAqxxafuekE+i/ejyxpU2D7RzxT5tiBpmBaE6CtN3/4ydx85k5osf74UBw6ew3v1ymI7vUKOUEkykACjiagk62n421QlXVSFoOoHFvcFUW1Qr5MmMcoqo4dZwqmNwHaevPHn8zNZ+6EFjt+twNL957lLSNOGEzKoAUBnWw9HW+DKq2TshhE5djivDfUsUNLwUgglgBtvfnKQObmM3dCi+N+DcOnvx1G4RzpsPz/qjtBJMpAAo4moJOtp+NtUJV1UhaDqBxbvOrIVfjrn1vo92IRtKue37FyUjAS0JkAbb35o0/m5jN3Qos/7fkbXb7fheRJAnFgcDCSJgl0gliUgQQcS0AnW0/H26Aa66QsBlE5svjtyLsqkMu9e8DUd8qhbtHsjpSTQpGA7gRo683XADI3n7kTWjx09irqj1+nRFn9QU3ky5LGCWJRBhJwLAGdbD0db4NqrJOyGETlyOJ/nL2G4PGhSrZVPWogf9a0jpSTQpGA7gRo683XADI3n7kTWrwTdRdF+i9H9D3gy7fLIqhYDieIRRlIwLEEdLL1dLwNqrFOymIQlSOLL9t7Bu99txNJAwNwcEh9JOOWNkeOM4UiAdp683WAzM1n7pQWa41Zg+MXbqBn8LPoVKuAU8SiHCTgSAI62Xo63gZVWCdlMYjKkcUnrT6C0Sv+QP6sabCqR01HykihSIAEANp687WAzM1n7pQW283Yjl8PnEPDMjnxSePSThGLcpCAIwnoZOvpeBtUYZ2UxSAqRxbvMW8Pftj5F+oWyYapLco7UkYKRQIkQMfbHzrA+dUf1J3R5qjlh/D5mqMonjM9fu5SzRlCUQoScCgBnWw9HW+DSqyTshhE5cjir362Hnv+uoJ3a+RHnxeKOFJGCkUCJEDH2x86wPnVH9Sd0eaPu/5Ct7l7kDJZIA4Mqo/AwABnCEYpSMCBBHSy9XS8DSqwTspiEJXjikdH30PxgStwM+IuxjYqhTfK5nKcjBSIBEgghgBtvfmaQObmM3dKi/tOX0GDieuVOOt61ULuTKmdIhrlIAHHEdDJ1tPxNqi+OimLQVSOK/7XPzdRdeRqJdeSzlVQMldGx8lIgUiABOh4+0sHOL/6i7z9270VcRdFB8Rc9flNy3KoXZhXfdp/VCmBUwnoZOvpeBvUYp2UxSAqxxVffSgcraZvU3IdGByM1MmTOk5GCkQCJEDH2186wPnVX+Sd0W61Uatw6tIt9HmhMN6t8YwzhKIUJOBAAjrZejreBhVYJ2UxiMpxxb8MPYphSw8h1xOpsP7D2o6TjwKRAAn8jwBtvfnaQObmM3dSi62nb8OqQ+H4T9lcGNOolJNEoywk4CgCOtl6Ot4GVVcnZTGIynHFP5i/Bwt2/IXahbPhm5aMaO64AaZAJBCHAG29+epA5uYzd1KLw5cexBehx1Aqd0Ys7lTFSaJRFhJwFAGdbD0db4Oqq5OyGETluOKxEc2r50efFxnR3HEDTIFIgI63X3WA86tf8du+8fnbT6Hngt+RNkVS7B0YhIAARja3/aBSAEcS0MnW0/E2qMI6KYtBVI4qfu/ePRQbEBPRXLawyVY2JhIgAecSoK03f2zJ3HzmTmpx96nLeG3SBiXSpj618WSGVE4Sj7KQgGMI6GTr6XgbVFudlMUgKkcVjxvRXLawyVY2JhIgAecS8KetP3LkCMaMGYPNmzdj3759KFy4sPqvO+nbb7/F8OHDceLECRQoUAADBgxAo0aN4hWNjIxESEgIpk+fjitXrqBixYqYMGECSpYsGS/f2bNn0bVrVyxbtgyBgYGzPR2AAAAgAElEQVR45ZVXMH78eGTKlCnBrggz6euNGzdw/vx5ZMmSxZ0ux+bxJ3OPOsrMliRw/U4Uig9Yofo2o3UFVC+U1ZL9ZKdIQHcCOtl6Ot4GtV0nZTGIylHFV/8RjlbTYiKa7x8UjDQpGNHcUQNMYUjgPgL+tPWLFy9G586dlUMcFhaG6OhotxzvBQsWKCe7d+/eCAoKwqJFizBx4kQsX75c/e1KUveMGTMwduxY5M2bF6NGjcLu3buxd+9e5MiRQ2WLiopCuXLlEBERoRx5cdZ79eqFnDlzIjQ0NMFtvI0bN8batWtx7tw5Ot78RfmFQOXhv+HvK7fRv0FRtKmazy99YKMkQAKPJuDP+dXssaHjbZC4TspiEJWjirsimufMmAobejOiuaMGl8KQQAIE/GnrxdGWFWZJLVu2xPbt291yvIsUKYISJUpg3rx5sRIFBwerVW1ZPZd0+vRp5MmTB59++ik6duyoPrt27Rry5cuHtm3bYsSIEeqzuXPnokmTJqrdYsWKqc82btyIKlWqqBXw+vXrx6O2atUq5fT37dsXH3zwAR1v/qr8QuDtr7dg3eELaFohN4a/Hn8Hh186xEZJgAQeIODP+dXs4aDjbZC4TspiEJWjirsimtd6NiumtargKNkoDAmQwIMErGLr3XW8jx8/jvz582PhwoVo2LBhrECy9bxVq1YIDw9XW7+nTZuG1q1b4+LFi/G2jEsecfBl1VtSixYt1Cr4nj174sERB71BgwZqJd2VZDW8VKlSypFPmzatao9bzfmr8geBwT8dwDcbjqNcniew4L3K/ugC2yQBEngMAavMr2YMFB1vg5R1UhaDqBxV/NVJG7Dn1GW8y4jmjhpXCkMCDyNgFVvvruO9dOlSvPTSSzh48KA6Z+1K27ZtQ4UKFbBu3TpUrVpVbReXbeZyfjtuGj16NPr164fbt2+r1XYpI478nDlz4uWTNu7cuYOVK1fGfi7n0cXBF0d95syZdLz5s/Ibge+3/ok+C/ciQ6pk2B1Sj5HN/TYSbJgEHk7AKvOrGWNEx9sgZZ2UxSAqxxSXiOYSsOVGxF2M/k9JNCqX2zGyURASIIGECVjF1rvreH/33Xdo3rw5zpw5E3tOWySTQG0FCxaEnBuX4Gjt2rVTTvihQ4fiCT516lT1nWxLT58+vSpTp04dTJkyJV4+aePAgQPYuXOn+vzvv/9Wjv6PP/6o8kvANndXvK9evQr550rSd3H4T506hVy5eHMEf5ueE9h+4hL+M2WTKri1bx1kS5/S80pYggRIwKcErDK/+lTIfyun422Qsk7KYhCVY4qfvnwLVUasUvIworljhpWCkMAjCVjF1nvqeMtKdvbs2WNlO3z4MAoVKoQlS5bg5ZdfVs71+vXr1cp43PTVV1+hffv2yhFOly6dcrzr1q2LyZMnx8vXrFkz5bTv2LFDff7WW2+pFfAffvhB/e2J4z1w4EAMGjTogXGg480fZ2IJXL0diZIDf4nRxVblUfPZbImtiuVIgAR8RMAq86uPxItXLR1vg5R1UhaDqBxTnBHNHTOUFIQE3CZgFVvvruPtj63mmzZtQo0aNbBlyxYVnE3S7Nmz0alTJxw9elStvKdOnfqhzLni7bY6MqMHBKqNWoVTl27hw/qF8V7NZzwoyawkQAJmELDK/GqGrHS8DVLWSVkMonJM8a9Cj+HjpQfBiOaOGVIKQgKPJWAVW++u4+1JcLU2bdrgwoULhoOruVa3HwZTrhe7/4z4o8BbhfljlYMZLE3g3ZnbsWL/Obxc6ilMbFrG0n1l50hARwI62Xo63gY1XCdlMYjKMcV7zt+D+Tv+Qs1ns2I6I5o7ZlwpCAnYwQl01/EWWeQ6MYkuHtfZlWu/Ll++/MB1Yp999hk6dOigEFy/fl3d533/dWJNmzbF/v37Vb2S5EqySpUqxV4nJtva7z8rLneGjxw5Ut0hLtvVixYt6raicX51GxUzPoLAhJWH8cnKMDyTNQ1+61GTrEiABCxGQCdbT8fboPLppCwGUTmmuCuiefvq+dH3xZgHUCYSIAFnE/Cnrb958yZk67ikSZMmqW3b48aNU3/L1u6sWbNCVq0lknhUVFTsQMyfPx+yytynTx/Uq1dPBVSbMGECxBkOCgqKzde5c2cVfXzs2LHqTm+JSi5ntuXObtkeLknqLVeuHOSqsOHDh6u/e/bsiaeeegqhoaEPjRbtyRnv+zXIn8ydrc16SffL/rNoP3MHAgOA/YPqI1XyJHoBoLQkYHECOtl6Ot4GlVEnZTGIyhHF40Y0H/WfkniTEc0dMa4UggQeR8Cftv7EiROxZ6bv7+fq1atRs2ZNyEq4ON5io+Im+WzYsGGQOgoUKAAJYNaoUaN4eSIiIhASEqICoUkU84oVKyoHXVbL4yaJMt61a1fluAcEBKio6OPHj0fmzJkfio+O9+M0i9/7msBf/9xE1ZGrVTOLOlVB6dwZfd0k6ycBEvCAgD/nVw+66ZWsdLwNYtRJWQyickTxuBHNOYE7YkgpBAm4RYC23i1MXs1E5l7FqW1l8jKq1KBfcPV2FIY1LIG3Kj6tLQsKTgJWJKCTrafjbVADdVIWg6gcUfzXA+fQbsZ2BAQA+wYGI02KpI6Qi0KQAAk8mgBtvfkaQubmM3dqi42/2IQtxy/h7efzYMhrxZ0qJuUiAVsS0MnW0/E2qKI6KYtBVI4oPn5lGMavPIz8WdNgFYO0OGJMKQQJuEOAtt4dSt7NQ+be5alzbYN+2o9pG06gbJ4n8MN7lXVGQdlJwHIEdLL1dLwNqp9OymIQlSOKy2q3rHrzWhJHDCeFIAG3CdDWu43KaxnJ3Gsota9o3vZT6LXgd6ROnkTtVguUSGtMJEACliCgk62n421Q5XRSFoOoHFG8yohVkHPevV8ojA41nnGETBSCBEjg8QRo6x/PyNs5yNzbRPWtb9/pK2gwcb0CsOaDmsibJY2+MCg5CViMgE62no63QeXTSVkMorJ98X9uRKDMkF+VHDPbVEC1glltLxMFIAEScI8Abb17nLyZi8y9SVPvuu5E3UWxkBWIir6Hz5s9hxdLPKk3EEpPAhYioJOtp+NtUPF0UhaDqGxffOORC3hr6hYlx87+9ZApTXLby0QBSIAE3CNAW+8eJ2/mInNv0mRd9ceH4tDZa+hcqwA+CH6WQEiABCxCQCdbT8fboNLppCwGUdm++Fehx/Dx0oN4MkNKbOpTx/byUAASIAH3CdDWu8/KWznJ3FskWY8Q6D53NxbuOo06hbPh65blCYUESMAiBHSy9XS8DSqdTspiEJXti//fnF1YtPtv1C2SDVNbcNK2/YBSABLwgABtvQewvJSVzL0EktUoAlPXHcPQ//LlOdWBBKxGQCdbb3vHOywsDO+//z7WrVuHNGnSoGnTphgxYgRSpUr1WL26dOkSPvroI/z444/4559/8PTTT6NHjx549913H1vWlUEnZXEbikMz1hu3FofDr+P9OgXRvV4hh0pJsUiABBIiQFtvvl6QufnMndzihiMX0Ozf42K7+tfDEzwu5uThpmw2IqCTrbe143358mUUL14cefLkQf/+/REeHo7u3bujfv36mDVr1iNV7vr166hUqZJy0D/44ANky5YNhw8fRmRkJDp27Oi2uuqkLG5DcWDGWxF3UWzAckTfA754uyyCi+VwoJQUiQRI4GEEaOvN1w0yN5+5k1u8dCMCz/0bIHV224qoXCCLk8WlbCRgGwI62XpbO94jR47E4MGDcfLkSWTJEmNAZ8+ejWbNmuHAgQMoUqTIQ5Wub9++mDdvHvbu3evW6jgfxmzz+/VJR3f9+Q8afr5R1b2uVy3kzpTaJ+2wUhIgAWsS0OnBwCojQOZWGQnn9KPS8N9w5sptfPRSEbStlt85glESErAxAZ1sva0d7xo1aiBjxoxYvHhxrLrduXMHGTJkwMcff6y2jT8s5ciRA127dkWfPn0MqapOymIIlM0Lz9p8Eh8t2ocMqZJhd0g9BAQE2Fwidp8ESMATArT1ntDyTl4y9w5H1vI/Am2mb8Nvh8LxaumnMKFJGaIhARKwAAGdbL2tHW/ZHt66dWt1pjtuKlasmNpGPnXq1ATV6fjx48ifPz8mT56Mn3/+Gb/++ivSpk2LJk2aYMyYMR6tgOukLBb4bfqtC30W7sX3W/9EpfyZ8X375/3WDzZMAiTgHwK09eZzJ3PzmTu9xYm/HcbYX8PwdKbUCO1Vy+niUj4SsAUBnWy9rR3vZMmSYciQIejdu3c8xapatao6s71w4cIEFW7Tpk2oXLmycrYbNWoUuzVdVr8lONtXX331UEW9evUq5J8rnTlzBhUqVMCpU6eQK1cuWyg4O+k5gVcnbcCeU5fRtmo+fNSgqOcVsAQJkICtCej0YGCVgSJzq4yEc/qx/vAFNP96ixJo+0d1kSVtCucIR0lIwKYEdLL1tne8hw4dig8//DCeqlWpUgWylfyHH35IUAU3bNgAcc7Lly+PrVu3xuYZN24cevbsidOnT6vyCaWBAwdi0KBBD3xFx9umv3Y3uh11NxrFBqzAnahofNK4FBqW4QsWN7AxCwk4ioBODwZWGTgyt8pIOKcf125HouSgX3DvHvDl22URxECpzhlcSmJbAjrZels73ondan7w4EEULVpUOexxt6nv3r0bZcqUwapVq1CrVsJbkLjibdvfdaI7HnbuGoI+CVXlf+lWHYWyp0t0XSxIAiRgTwI6PRhYZYTI3Coj4ax+1B8fikNnr+G9ms/gw/qFnSUcpSEBGxLQydbb2vFObHC1iIgIpEuXDt26dYvneO/atQvPPfcc1qxZA6nbnaSTsrjDw4l5ftz1F7rN3YMUSQOxf1AwkiYJdKKYlIkESOARBGjrzVcPMjefuQ4t9ln4O77fegoV82XC3Hcr6SAyZSQBSxPQydbb2vGW68TkjLdcJ5Y5c2alVHPmzFHntB93nViDBg1w7tw5bNu2LVYZJbCanPP++++/kTVrVreUVCdlcQuIAzMN/fkApq4/jlK5M2JxpyoOlJAikQAJPI4Abf3jCHn/ezL3PlPWCMzbfgq9FvyOVMmSYO/AIL5Mp1KQgJ8J6GTrbe14X758GcWLF0fevHnRv39/hIeHo3v37ggODsasWbNi1ahNmzb49ttvERUVFfuZnO2Wc94Sybx58+bKUe/Xrx/at2+PTz75xG0V1ElZ3IbisIxvTN6IHSf/QfPnn8bQ10o4TDqKQwIk4A4B2np3KHk3D5l7lydriyFwJPwa6o6LOT72c5eqKJ4zA9GQAAn4kYBOtt7WjrfoSFhYGLp06YL169cjderUarVbVsJTpUoVq0ItW7ZUjvc9iaYRJ8k1YrLCvXfvXrVi/s4776gVdImW7m7SSVncZeKkfLcj76LkwF8QcTca4xuXxmtlcjpJPMpCAiTgJgHaejdBeTEbmXsRJquKJRAdfQ+lB/+Cq7ejMOTVYni7Ul7SIQES8CMBnWy97R1vP+qJalonZfE3a3+0v+PkJbwxeZNqel2vWsidKbU/usE2SYAE/EyAtt78ASBz85nr0mKLb7Zibdh5vF4mJ8Y1Lq2L2JSTBCxJQCdbT8fboArqpCwGUdmy+Bdrj2L4skPInj4FNvepg4CAAFvKwU6TAAkYI0Bbb4xfYkqTeWKosYw7BMavDMP4lYeRN3NqrOmZ8C027tTDPCRAAsYJ6GTr6Xgb1BedlMUgKlsWbzdjO349cA4vlsiBz5uVtaUM7DQJkIBxArT1xhl6WgOZe0qM+d0lEBp2Hu98s1Vl3/FRXWROm8LdosxHAiTgZQI62Xo63gaVRydlMYjKdsUlJkC5oStx8UYE+jcoijZV89lOBnaYBEjAOwRo673D0ZNayNwTWszrCYGrtyNRatAvkNA/X7cohzpFsntSnHlJgAS8SEAnW0/H26Di6KQsBlHZrvix89dRe+xa1W+5RkyuE2MiARLQkwBtvfnjTubmM9epxXrj1uJw+HV0qvUMegYX1kl0ykoCliKgk62n421Q9XRSFoOobFc87l2fvw8MQrIkgbaTgR0mARLwDgHaeu9w9KQWMveEFvN6SuDDBb9j7vZTqPxMZsxu97ynxZmfBEjASwR0svV0vA0qjU7KYhCV7Yq7JuXn82fCnPaVbNd/dpgESMB7BPxp648cOYIxY8Zg8+bN2LdvHwoXLqz+606SqzSHDx+OEydOoECBAhgwYAAaNWoUr2hkZCRCQkIwffp0XLlyBRUrVsSECRNQsmTJePnOnj2Lrl27YtmyZQgMDMQrr7yC8ePHI1OmTLH5vvjiCyxcuBC///47bty4gWeffRY9e/bEm2++6U534+XxJ3OPO8sCtiMwZ+uf6L1wL9IkT4I9A4KQlC/XbTeG7LAzCOhk6+l4G9RZnZTFICrbFa8zdg2Onr+BzrUK4IPgZ23Xf3aYBEjAewT8aesXL16Mzp07K4c4LCwM0dHRbjneCxYsUE527969ERQUhEWLFmHixIlYvny5+tuVpO4ZM2Zg7NixyJs3L0aNGoXdu3dj7969yJEjh8oWFRWFcuXKISIiQjny4qz36tULOXPmRGhoaOyND7lz51Z1N2jQAOnSpcOSJUtUm5999hk6derk0YD4k7lHHWVmWxI4En4ddcfFHCf7sWNllHn6CVvKwU6TgN0J6GTr6Xgb1FadlMUgKlsV/+dGBMoM+VX1eVqr8qj1bDZb9Z+dJQES8C4Bf9p6cbRlhVlSy5YtsX37drcc7yJFiqBEiRKYN29eLIzg4GC1qi2r55JOnz6NPHny4NNPP0XHjh3VZ9euXUO+fPnQtm1bjBgxQn02d+5cNGnSRLVbrFgx9dnGjRtRpUoVtQJev3599dn58+eRNWvWePBff/117Nq1C8ePH/doUPzJ3KOOMrMtCUgA1cojVuHMldvoXq8Q3q9T0JZysNMkYHcCOtl6Ot4GtVUnZTGIylbFfzt4Dm2+3a76LFvQMqRKZqv+s7MkQALeJWAVW++u4y1Obv78+dW274YNG8bCkK3nrVq1Qnh4OLJkyYJp06ahdevWuHjxYrwt45JHHHxZ9ZbUokULtQq+Z8+eeGDFQZfVbVnVflgaMmQIhg4dijt37ng0KFZh7lGnmdlWBHot2IN52/9C+bxPYH6HyrbqOztLAk4hoJOtp+NtUGt1UhaDqGxVfOTyQ5i85igKZU+LX7rVsFXf2VkSIAHvE7CKrXfX8V66dCleeuklHDx4UJ0Jd6Vt27ahQoUKWLduHapWraq2i8s2czm/HTeNHj0a/fr1w+3bt9Vqu5QRR37OnDnx8kkb4lCvXLnyodBl67k4+uK4e5KswtyTPjOvvQj8tOdvdPl+F5IEBmB3SD2kS8mX7PYaQfbWCQR0svV0vA1qrE7KYhCVrYq/OWUTtp64hKYVnsbw10vYqu/sLAmQgPcJWMXWu+t4f/fdd2jevDnOnDkTe05bqEigtoIFC0LOjUtwtHbt2ikn/NChQ/GgTZ06VX0n29LTp0+vytSpUwdTpkyJl0/aOHDgAHbu3JkgdGnntddew8yZM1V/HpWuXr0K+edK0ndx+E+dOoVcuXJ5f1BZo/YELt2IQNmhv6r7vL98uyyCisXENGAiARIwj4BV5lczJKbjbZCyTspiEJVtikdERaPEwBW4ExWNsY1K4Y2yfOCzzeCxoyTgIwJWsfWeOt6ykp09e/ZYKocPH0ahQoVU0LOXX35ZOdfr169XK+Nx01dffYX27dsrR1iCpInjXbduXUyePDlevmbNmimnfceOHQ+QF4dczoDXq1cv3jnzhw3RwIEDMWjQoAe+puPtI6VmtYrAK5+tx+9/XcHbz+fBkNeKkwoJkIDJBKwyv5ohNh1vg5R1UhaDqGxTfOPRC3jrqy2qv+t61ULuTKlt03d2lARIwDcErGLr3XW8/b3VXHhVrlxZRUn/5ZdfkDJlyscODFe8H4uIGXxAYPSKQ5i0+ijyZk6NNT1r+aAFVkkCJPAoAlaZX80YJTreBinrpCwGUdmm+LClB/Fl6DHkz5oGq3rUtE2/2VESIAHfEbCKrXfX8fYkuFqbNm1w4cIFrwVXk0Bt1apVU2fDZRv7E08k7pomqzD3nVaxZisQ2HzsIpp8GRPlP7RnLTydmS/brTAu7IM+BHSy9XS8Deq1TspiEJVtisu9nnK/Z9uq+fBRg6K26Tc7SgIk4DsCVrH17jreQkKuEytVqlS8gGhy7dfly5cfuE5M7tnu0KGDAnj9+nW1Un3/dWJNmzbF/v37Vb2S5EqySpUqxbtOTMrWrl1bBWuT68aMnM22CnPfaRVrtgIBOV5WevAvuBlxFx83LI5mFfNYoVvsAwloQ0AnW0/H26Ba66QsBlHZovipSzdRbdRq1dfv2lZElQJZbNFvdpIESMC3BPxp62/evAnZOi5p0qRJOHr0KMaNG6f+rlGjhro3W1at5aqwqKioWBDz589H48aN0adPH3XOWgKdTZgwAcuXL4dEGnelzp07q+BnY8eOVXd6jxkzRp3Zlju7c+SICTYl9ZYrVw6RkZEYPny4+rtnz5546qmnEBoaioCAAJVP7glftWoV5Ix43Gjq8l2ZMmWQIkUKtwfKn8zd7iQzOoJAm+nb8NuhcNQvlgNT3i7rCJkoBAnYhYBOtp6Ot0Gt1ElZDKKyRfEZm04gZPF+pEmeBLtCgpA8aaAt+s1OkgAJ+JaAP239iRMnIPdlJ5RWr16NmjVrQlbCxfG+J+GZ4yT5bNiwYZA6ChQoAAlg1qhRo3h5IiIiEBISgunTp6so5hUrVlQOuqyWx00SZbxr167KcRdHW6Kijx8/HpkzZ47N5nLAE+qrbH+XlXR3kz+Zu9tH5nMGgekbjmPgTweQLmVS7OpfD0mTcO53xshSCjsQ0MnW0/E2qJE6KYtBVLYo3mraVqz+4zyCi2XHF2+Xs0Wf2UkSIAHfE6Ct9z3j+1sgc/OZ69ri0fPXUWfsWiX+D+9VRtk8iYtLoCs/yk0CRgjoZOvpeBvRFAA6KYtBVJYvfjvyLkoN+kVdIzbyjRJoXP5py/eZHSQBEjCHAG29OZzjtkLm5jPXtUXZKVJ15GqcvnwL79cugO5Bz+qKgnKTgOkEdLL1dLwNqpdOymIQleWLrz4UjlbTt6l+bulbB9nTP/76G8sLxQ6SAAl4hQBtvVcwelQJmXuEi5kNEghZvA8zNp1Evixyo0mN2LgFBqtlcRIggccQ0MnW0/E2+HPQSVkMorJ8cdekW/TJ9FjatZrl+8sOkgAJmEeAtt481q6WyNx85jq3uOPkJbwxeZNCsKRzFZTMlVFnHJSdBEwjoJOtp+NtUK10UhaDqCxdXLaZSTTzv/65hc61CuCDYG4zs/SAsXMkYDIB2nqTgfMol/nANW8x7nNA6yr5EPIyrxPVXCUovkkEdJpf6XgbVCqdlMUgKksXPxJ+DXXHhao+/vBeJZTNk8nS/WXnSIAEzCVAW28ub2mNzM1nrnuLo1ccwqTVR5E1XQps7lMHSQJjrsljIgES8B0BnWw9HW+DeqSTshhEZeniX4YexbClh5AxdTLs+KgeJ1tLjxY7RwLmE6CtJ3PzCbBFswmEnbuGoE9iXsLPalMRVQtmMbsLbI8EtCOg0/xKx9ugeuukLAZRWba4bC978dP1OHjmKhqWyYlPGpe2bF/ZMRIgAf8QoK03nzuZm8+cLQIvTFinngcalc2F0Y3i32VPPiRAAt4noJOtp+NtUH90UhaDqCxbfN/pK2gwcb3q33dtK6JKAb7htuxgsWMk4CcCtPXmgydz85mzRWDK2qMYsewQ0qVIim0f1UXKZEmIhQRIwIcEdLL1dLwNKpJOymIQlWWL91+0DzM3n0TuTKmw9oNaCOSZLsuOFTtGAv4iQFtvPnkyN585WwT+vnwLlUesUigmN3sOL5R4klhIgAR8SEAnW0/H26Ai6aQsBlFZsvjtyLso//FKXLsdhe71CuH9OgUt2U92igRIwL8EaOvN50/m5jNnizEE3vxiE7Yev4TgYtnxxdvliIUESMCHBHSy9XS8DSqSTspiEJUliy/adRr/N3c3AgKA9R/WRs6MqSzZT3aKBEjAvwRo683nT+bmM2eLMQRmb/kTfX/ci+RJArH+w1rIlj4l0ZAACfiIgE62no63QSXSSVkMorJk8aZfbsamYxdRvVBWzGhdwZJ9ZKdIgAT8T4C23vwxIHPzmbPFGAJXbkWiyohVuH4nCu/WyI8+LxQhGhIgAR8R0MnW0/E2qEQ6KYtBVJYr/ufFm6g+erXq16S3nsNLJXmOy3KDxA6RgEUI0NabPxBkbj5ztvg/AiOXH8LkNUeRJnkSbOxdBxlSJyMeEiABHxDQydbT8TaoQDopi0FUlis+9pc/MHHVETyROhk2962DFEkZudRyg8QOkYBFCNDWmz8QZG4+c7b4PwLnr91B1ZGrcCcqGj3qFUIXxoChepCATwjoZOvpeBtUIZ2UxSAqSxWPvBuN6qNW48yV22hVJS8GvFzMUv1jZ0iABKxFgLbe/PEgc/OZs8X4BEIW78OMTSfVC/oNvWsjdfKkREQCJOBlAjrZejreBpVHJ2UxiMpSxWdtPomPFu1TfVrxf9XxbI50luofO0MCJGAtArT15o8HmZvPnC3GJ3Dq0k3UHLMGd6PvoX+DomhTNR8RkQAJeJmATraejrdB5dFJWQyiskzxG3eiUGP0Gly4fgcNSj6Jz956zjJ9Y0dIgASsSYC23vxxIXPzmbPFBwl0n7cbC3eeRo70KRHaqxaSJw0kJhIgAS8S0MnW0/E2qDg6KYtBVJYpPvG3wxj7axiSBgZgZfcayJsljWX6xo6QAAlYkwBtvfnjQubmM2eLDxI4En4N9T4Jxb17wOBXi+GdSnmJiQRIwIsEdLL1dLwNKo5OymIQlSWKX7oRoc52yxUhbz+fB0NeK26JfrETJEAC1iZAW2/++JC5+czZYsIEOs3eiSFEh00AACAASURBVP/+fgZpUyTFim7VkTNjKqIiARLwEgGdbD0db4NKo5OyGERlieKDfzqAbzYcR+rkSbCmZ01kS5fSEv1iJ0iABKxNgLbe/PEhc/OZs8WECZy7ehv1xq3F1dtRqFYwC2a0roCAgADiIgES8AIBnWw9HW+DCqOTshhE5ffiEiSl9tg1iLx7D+/XKYju9Qr5vU/sAAmQgD0I0NabP05kbj5ztvhwAgt3/oXu8/aoDCNeL4EmFZ4mLhIgAS8Q0MnW0/E2qDA6KYtBVH4tHnU3Gs2/3oLNxy4hc5rkarU7Xcpkfu0TGycBErAPAdp688eKzM1nzhYfTuDevXto++12/HYonFvOqSgk4EUCOtl6Ot4GFUcnZTGIyq/Fh/x8AF+vP6768EnjUmhYJpdf+8PGSYAE7EWAtt788SJz85mzxUcTiLvlvPIzmTG9VQVGOafSkIBBAjrZejreVBaDBKxffPHu0+g6Z7fq6DuV8mDwqwyoZv1RYw9JwFoEdHowsAp5MrfKSLAfcQn8sOMv9Jgfs+W8frEcmPhWGSRLwivGqCUkkFgCOtl6Ot6J1ZJ/y+mkLAZR+aX4wTNX0fDzDbgdGY1yeZ7A7HbP8+20X0aCjZKAvQnQ1ps/fmRuPnO2+HgCsuV8xLJD+CL0mMr8cqmnML5xaSQJZLC1x9NjDhJ4kIBOtp6Ot8FfgE7KYhCV6cUPnb2KNtO34/TlW8iaLgX+26UqsqVnFHPTB4INkoADCNDWmz+IZG4+c7boHgFxvgf/fADTNpxQBV4vkxOjG5Wi8+0ePuYigXgEdLL1dLwNKr9OymIQlanFl+87o6KP3oy4i+RJAjG7XUWUy5vJ1D6wMRIgAecQoK03fyzJ3HzmbNF9AuJ891+8D7M2/6kKVcibCaMblUSezGncr4Q5SYAEoJOtt73jHRYWhvfffx/r1q1DmjRp0LRpU4wYMQKpUqV6pCrXrFkTa9eufSDPwYMHUbhwYbd/Bjopi9tQ/JjxbvQ9fPrbYUz47bDqRZa0KfDF22VRNs8TfuwVmyYBErA7AX/a+iNHjmDMmDHYvHkz9u3bp+Yo+a876dtvv8Xw4cNx4sQJFChQAAMGDECjRo3iFY2MjERISAimT5+OK1euoGLFipgwYQJKliwZL9/Zs2fRtWtXLFu2DIGBgXjllVcwfvx4ZMoU/6Xm1q1b0a1bN+zcuROZM2dGu3bt0L9/f1XGk+RP5p70k3n1JRAdHeN8f7clxvlOlSwJ+r5YGM0q5kEgt57rqxiU3CMCOtl6Wzvely9fRvHixZEnTx41qYeHh6N79+6oX78+Zs2a9VjHOyoqSj3MxE2lS5dGypTub0fWSVk8+hWZnFkc7v/uPaOc7iPh11XrJXJmwJfvlMWTGR79EsbkrrI5EiABGxLwp61fvHgxOnfurBxiedkcHR3tluO9YMEC5WT37t0bQUFBWLRoESZOnIjly5erv11J6p4xYwbGjh2LvHnzYtSoUdi9ezf27t2LHDlyqGwyX5YrVw4RERHKkRdnvVevXsiZMydCQ0MREBBzvvXYsWOQeVRebouTLi+zJZ/MzUOHDvVo5P3J3KOOMrP2BJbuPYOPFu3DpRsRikWp3BnRukpevFD8ScaV0V47COBxBHSy9bZ2vEeOHInBgwfj5MmTyJIlixrX2bNno1mzZjhw4ACKFCny0LGWh4K0adPi559/fpw+PPJ7nZTFECgfFT575TZWHQrHNxuOxzrc0lTDMjkx/PUSSJksiY9aZrUkQAI6EfCnrRdH27Va3LJlS2zfvt0tx1vmwBIlSmDevHmxQxUcHKxWtWX1XNLp06fVy+tPP/0UHTt2VJ9du3YN+fLlQ9u2bdUOMklz585FkyZNVLvFihVTn23cuBFVqlRRK+DywlvSe++9h//+9784fPgwUqRIoT4bNmwYhgwZgjNnziBjxoxuq40/mbvdSWYkgX8JXLh+B/1+3IsV+8/FMsmWLgWaVHgadQpnQ/GcGXgGnNpCAgkQ0MnW29rxrlGjhprEZTXAle7cuYMMGTLg448/Ro8ePR6q4HS87ffbvxkRhWPnb+Do+es4eOYa1oadh0Qtj5uqFcyC/6tbEGXz8Dy3/UaYPSYB6xKwyoOBu4738ePHkT9/fixcuBANGzaMBStbz1u1aqV2iMkL62nTpqF169a4ePFivC3jkkccfFn1ltSiRQu1Cr5nT8w1Sq4kDnqDBg3USrokceJfe+01tVXdleTluKykywr8G2+84fYgW4W52x1mRu0JyLnvNWHn8c3641h3+EI8HulSJkXFfJlRKlcG5MuaBvmzpEXeLKmROnlS7bkRgN4EdLL1tna8s2XLph4YXG/kXWorb+MrVaqEqVOnPtLx3rFjh9qyd/fuXbWFT97IV69e3SPtN6osEVHRmLEpJiqmndO9e/F7fw//+8D1nesT+Tv63j3IBBV9D4iKvoeou9Hqv8LjduRd3Iq8qwKjXb4ZgYs3IvCP/LsZmSCiFEkDUa1gVrxXMz8dbjsrEftOAhYmYNTWe0s0dx3vpUuX4qWXXlJbvePGLdm2bRsqVKig4qJUrVpVbQOXbeZyfjtuGj16NPr164fbt2+r1XYpI478nDlz4uWTNuSF98qVK3Hjxg21k2zy5Mno0KFDvHwSg6VPnz746KOP3EZhFeZud5gZSSAOAVkkmLHxBJbuO4vz1+48lI2cC8+cNjkyp0mOdCmTIXXyJEiTIqnasZc8SYC6IzxZ0kAkCQhQ58blv3JtuBzvkBMeAfK/f28yc11o5vpbGpXv46a433HASMAbBFIkS4K3n8+T6Kp0svW2dryTJUumnGU5vxY3ycOEOOXypv9hSQLMyJv5ggUL4u+//1ZnveVNvgRcE6f9Yenq1auQf64kW+fkgeTUqVPIlSuXx0p3/U4Uig9Y4XE5nQukTBao3hSXz/sEahbOhkr5M3NLuc4KQdlJwAQCVnkwcNfx/u6779C8eXO1vdt1TlswSaA2mfdkp5gER5PAZ+KEHzp0KB5FeXEt38m29PTp06syderUwZQpU+LlkzbkaJcEUpNt6zIPfv/992pbetwkn7/55psYN26cafOrCWrBJkjgsQRkkUGc8I1HL2LzsYsIO3cdJy/eQOTd+1YsHlsTM5CANQnIS6Md/eslunNWmV8TLYAHBW3veEuwlg8//DCeyHLmTB40fvjhB7dRyJt6WSkvWrQoZKXgYWngwIEYNGjQA18n1vG+cScKL09c73Y//Z4x/ovTR3Ynblb1Zvbf3PK2NVC9qY35LFmSACRNEqjOPsnVX6mSJ1GRQcXBzpg6OTKlifknZ6WeyZoWOTOmYrRQvysCO0ACehGwyoOBp463rGRnz549drDk7HWhQoWwZMkSvPzyy8q5Xr9+vVoZj5u++uortG/fXr1oTpcunXK869atq1az4yaJqSJOu+wgcznesireuHHjePkkCJs44xLAzaz5VS8NpbR2IiC7/E5fvoW//rmldvVdvH5HBWaTxZibd+7iRkSU2v0nznnk3Wi1G1B2BcpuQQkmK/8kuXYQqv//LwBx9F0p0a59ogvaaRTYV28RyJA6GX7sWCXR1Vllfk20AB4UtLXjbWSreUKMOnXqpM6gnTv3v8AY9+fz9oq3B2PFrCRAAiRAAn4iYJUHA3cdb39sNb9586a61jOxW805v/pJudksCZAACfiRgFXmVzMQ2NrxNhJcLSG4EtFVVskf5XjfX04nZTFDIdkGCZAACViRgFVsvbuOtyfB1dq0aYMLFy4wuJoVFY99IgESIAGHE7DK/GoGZls73nKdmJzxloipmTNnVrxki1vTpk0fe53Y/XBlq7lsM5erVzy5YkwnZTFDIdkGCZAACViRgFVsvbuOtzCU68RKlSoVLyCaXPt1+fLlB64T++yzz2IDol2/fl1FIb//OjGZW/fv3x97VadcSSYxUe6/TkxW22VLe/LkydVQSgBUOaLF68SsqNnsEwmQAAn4l4BV5lczKNja8ZaHh+LFi6sHhP79+6vrUbp37w65p3TWrFmx/ORtvlyhEhUVpT6TQDISTE2uWJEAaxJcTc6dyQOFfCfB0txNOimLu0yYjwRIgAScRsCftl62cLtij0yaNAlHjx6NDVImO7+yZs2K++c54T9//nx11lqiiderV08FVJNrvpYvX46goKDYIercuTNmzpyp5kGZE2V+lDPbcme3KzCbzJ/lypVDZGQkhg8frubTnj174qmnnkJoaKiK2SHp2LFjKF26NGrXro0uXbrgjz/+UPm6desGicniSfInc0/6ybwkQAIkQAKJJ6CTrbe14y1DHBYWpiZ3CQ6TOnVqtdotK+GpUqWK1QBZIRDH2xVwQqK6yoOGRDGXu0vlTFrlypUhkc49cbqlAZ2UJfE/KZYkARIgAXsT8KetP3HiBOS+7ITS6tWrUbNmTdw/z7nyytw3bNgwSB0FChSABAht1KhRvKoiIiIQEhKC6dOnqyjmcr2mOOiyWh43yYp1165dleMujrZERR8/fnzsjjNX3i1btihHWyKdy240CeAmL8eTJEnikRL4k7lHHWVmEiABEiCBRBPQydbb3vFO9Ch7qaBOyuIlZKyGBEiABGxHgLbe/CEjc/OZs0USIAESMJuATraejrdB7dJJWQyiYnESIAESsC0B2nrzh47MzWfOFkmABEjAbAI62Xo63ga1SydlMYiKxUmABEjAtgRo680fOjI3nzlbJAESIAGzCehk6+l4G9QunZTFICoWJwESIAHbEqCtN3/oyNx85myRBEiABMwmoJOtp+NtULt0UhaDqFicBEiABGxLgLbe/KEjc/OZs0USIAESMJuATraejrdB7dJJWQyiYnESIAESsC0B2nrzh47MzWfOFkmABEjAbAI62Xo63ga1SydlMYiKxUmABEjAtgRo680fOjI3nzlbJAESIAGzCehk6+l4G9Qu1/2qW7duxZNPPmmwNhYnARIgARKwIgG5w7pChQo4fvw48ubNa8UuOq5PnF8dN6QUiARIgAQeIKDT/ErH2+APYNu2bephjIkESIAESMD5BOQla/ny5Z0vqAUk5PxqgUFgF0iABEjAJAI6zK90vA0q0+3bt7F3715kzZoVSZMmdbs219sdrpT/DxmZJKw+5PIgFzKhrrhtbAF4Q1+ioqJw/vx5lChRAilTpvSkeeZNJAHOr4kEl0Axb/wGvNcb69RELpxL3NVG6orvdEWn+ZWOt7u/OC/n0+k8g7voyCRhUuTyIBcyoa64a1ckH/XFE1r2z8vxps10V4upK5xLqCvuEqCuGCMVU5qOtzcoJqIOGns+GLirNtQV6gp1xV0CfDAwRsoZpWkzaTPd1WTqCm0mdcVdAtQVY6ToeHuDX6LroLHng4G7ykNdoa5QV9wlwAcDY6ScUZo2kzbTXU2mrtBmUlfcJUBdMUaKjrc3+CW6jqtXr2LcuHHo3r070qdPn+h6nFSQTBIeTXJ5kAuZUFc8sX3UF09o2T8vx5s2010tpq5wLqGuuEuAumKMFB1vb/BjHSRAAiRAAiRAAiRAAiRAAiRAAiTwSAI8400FIQESIAESIAESIAESIAESIAESIAEfEqDj7UO4rJoESIAESIAESIAESIAESIAESIAE6HhTB0iABEiABEiABEiABEiABEiABEjAhwToePsQLqsmARIgARIgARIgARIgARIgARIgATreJunAr7/+imnTpmHLli04duwYOnXqhM8++8yt1iMjIxESEoLp06fjypUrqFixIiZMmICSJUu6Vd7KmZYuXYp+/frh4MGDyJUrl4ry3rFjx8d2+cSJE+jTpw/Wrl0LiUpaqFAh9OjRA82aNXtsWTtkSCwXkW3//v2xbO7evYvChQvj008/ReXKle0g+iP7aISLq+KuXbsqHp78Bq0MLjFMwsLCMHHiRPz22284efIksmTJgrp16+Ljjz9Gjhw5rCxuvL6JHO+//z7WrVuHNGnSoGnTphgxYgRSpUr1WBm+/fZbDB8+HGJLChQogAEDBqBRo0aPLccM1iPA+TXhMUmMbZCaOL8+XMc5vz7698/5FXDK/CojzTnW+/MdHW/vM02wRnEoly9fjueffx4//vijchDddbw7d+6MGTNmYOzYscibNy9GjRqF3bt3Y+/evbZ6SL4fzKZNm1C9enW88847aN68OTZs2KAefr/44gu0bdv2oSNz+/Zt9dIhICAAgwcPRubMmfH999/jm2++wQ8//IDXX3/dpFH1TTOJ5SK9+f3331GtWjW89NJLePvtt5E0aVLs3LkTZcuWVY6VnZMRLi655TcjLyACAwMVH3d/g1blllgmIveXX36J1q1bo3Tp0pC7bAcOHAh5USOM0qZNa1WRY/t1+fJlFC9eHHny5EH//v0RHh6uXtzVr18fs2bNemT/FyxYoJzs3r17IygoCIsWLVIvIsRGy99M9iLA+fXB8UqsbeD8+nDd5/z6aLvA+TWGjxPmV5GDc6xv5kE63r7h+kCt0dHR6mFfkjjPDRo0cOuh//Tp0+rBUlboXCvB165dQ758+ZRzKqs7dk0vvPACLl26pHYBuFL79u3x888/K0fAxet++davX6+cy1WrVqFWrVqxXxcrVkw9iM+dO9euSFS/E8tFyopTKfo1e/ZsWzNIqPNGuLjqq1GjBmrWrAlZ7XT3N2hlkIllcuHCBfXCSl5euZI8VJYqVUrtrGnRooWVxVZ9GzlypHrx5lqxl89E7+Wl5oEDB1CkSJGHyiDflShRAvPmzYvNExwcrHYUbd682fKys4PxCXB+fVAjEmsbOL/GPKcllDi/PtrycH6N4eOE+ZVzrO9mWTrevmP70Jo9cbxle7qsSl28eBGZMmWKrbNVq1bYvn27Wp2yY7pz5w7Sp0+vXhx069YtVgTZOi6Okcgmq7QJpdWrV6N27drYsWMHnnvuudgsMinKdvW4D9N2Y2OEi2zXL1q0KDZu3IhKlSrZTfRH9tcIF1fF3333ndqCf+jQIcXJ7o63N5jEhX7v3j0kS5YMQ4YMUZysnuQhL2PGjFi8eHFsV4VJhgwZ1JZ5OXqSUDp+/Djy58+PhQsXomHDhrFZ5GWM2FVZOZet90z2JMD5FTBiGzi/Jvzcwfk1YS6cX92zk3abX0UqzrHuja2nueh4e0rMC/k9eTDo1auX2mZ+9uzZeC2PHj1anY2WbWEPWxn2Qld9VoWsSMkK9bJly9TWUFc6f/48smXLhpkzZ6rt5wklOfMu22Nz586Nzz//XK3cySq3bMmXraLilNs1GeHiekkjTGUL7b59+9SLCHFAunTpYlckqt9GuEh52SXy7LPP4pNPPkHjxo092nViVXBGmdwvl7ywqVKlijoK89prr1lV7Nh+iZ2Ql5L37/oRuyIvnqZOnZqgDHLuVY5iyIO0xD9wpW3btqFChQrqvHjVqlUtLz87mDABzq/G7CXn14SfOzi/JsyF86t7lthu86tIxTnWvbH1NBcdb0+JeSG/Jw8G7dq1Uw+CskoXN8lDpXwnWyNl5dhuSc5zy8OtnEOTc++uFBUVpVbdJHicBE16WJJVqVdeeSV2m3ry5MnVFlkJrmTnZISLBIrq27ev2hnxwQcfKK5LlizB+PHj1ZlXOweeM8JF9EFePohjFRoaqtTDk9+gVfXJKJO4csnDtjjdEqhQXthIbACrJ9fqvLxkipvErsgDg6xoJ5Rk54O81Dtz5ky8GBlHjhxBwYIF1Qq62BYmexLw5LfN+TXhMeb8+iAXzq8Pfx7j/PpoW2nH+VUk4hzrmzmQjnciuYrDKw9uj0tyFjtFihTxsnn6YCBnrmR1Jm766quvIOeh5UE5Xbp0j+uGKd97wkS2kssDspynlCjtruRyvOVM+8NWaW/dugU5jyn/FUdTtpaKgzllyhQVJCnuCropgj+mEbO4yPbajz76CD179lQB+FxJnAhxKmSF1ErJLC4itxxJEF2TnRKSPPkNmsnMLCb3y/Tuu++qXSbyYqJcuXJmipzotuShYOjQofjwww/j1SEvECQyuwRaTCi5HG/ZRZQ9e/bYLIcPH1a3I4gtefnllxPdLxY0TsCT3wHn1/i85ZmD8+uDOmiUC+fXhHfNcX59vL2z4/wqUnGOffzYJiYHHe/EUAPU6qqcB3xc2rVrV+zDviuvJw/9dtpq7gkTWaFO7FZziRgpb1glAFvWrFljh0DOax49elRF9rZSMovL5MmTVQC++7fvy4q3rIDLiwoxpFZJZnGRFzGiJxK12pUkKr58Li8oZMeIVY5rmMUkrg4MGjRIneuWFWI7rfRyG5xVfsne74cnvwPXyzTOrzEE5JmD8+uDOmmUC+fXhLeac359tP2z6/wqUnGO9f7cJjXS8fYN10fW6onjLeeK2rRpo6IkMrhaDFZxLuUst9yHfr8DIY7UjRs3/DCq3mnSSFCcNWvWqCjv9zvecq5ZVgVv3rxpiy3ECZE0wkV+bxL5+mHp/rO+3hlJ39dihImrdxIjQe4zlyv8ZAeNnRIDv9hptMzrK+dXY8HVOL8mHESM82vCXDi/Pty22Xl+Fak4x/pm3qLj7RuuXnO8XdeJySpvhw4dVL3Xr19XW2WdcJ2Y3BMo57xdSWSUrZ6Puk5MrhEKCQnBqVOn1Bs5V5LtoeKM79+/3w+j6r0m5RqYxHCJiIhQW2wl4NSYMWNiOyTRu4Wn3P1u55RYLrLFXIIQxk1NmjRRAbi6du2qAmqlTp3almgSy0SEnTNnjjr3L/d3yz3YdktiB2SlXl6qSIBFl0wS58Gd68Tk6jRh4EqyciO/O14nZjdNiN9fTxxvzq8PjjXn14SvE+P8mjAXzq8J20u7z68iFedY38yFdLx9w/WBWuXhUII7SZI3ynJVlqxkS/rPf/4Tm79AgQLq3u7ffvst9jOJ1i3nL8eOHau+E6dKrtKSIEjiaNk1icNdvXp1tGzZUjkAEixKHGpZfZOXCq50PxNxIuW+7meeeUZF75YrhSQSs2wFk3+uFxS6cRF5ZVu5HE8QjnJ2/qefflJbrO0SqfpRY5ZYfUmoTk8ezq2sR4llItf21atXT937fn9UcNmWL78tqydxksUOyFjKiwMJCNW9e3cV/0GCCbqS2Fm5KkziR7jS/PnzVXR7uTZNOEhANQnoKDtpgoKCrC46+3cfAc6vD6pEYm0D59cYlgk9i3F+TZjL/drH+dX+86uMKedY30y1dLx9w/WBWh91Zk3u93MlMVjyT7Y1uZK8aRVHSuqQoDPiUMlDoqzY2D3J1T4SIE22+8rVV/LgLFtf46aEmMjqrQQSkyAysgNAohHLCwpZ7Q0ICLA7FiSWiwguuiH/5AFKHChxLt555x3bMxEBjHC5X6fsfo+3S57EMJFVbjl7llBq0aKFsjV2SGFhYSoIowSglF0Lstotb+lTpUoV2315sSeOd1w7K1/KZ8OGDcOJEyfUQ7YwadSokR3EZh/vI8D5NWGVSIxtkJo4v8YE4Lz/WYzz68O5cH7933O7U+ZXGVPOsd6fbul4e58payQBEiABEiABEiABEiABEiABEiCBWAJ0vKkMJEACJEACJEACJEACJEACJEACJOBDAnS8fQiXVZMACZAACZAACZAACZAACZAACZAAHW/qAAmQAAmQAAmQAAmQAAmQAAmQAAn4kAAdbx/CZdUkQAIkQAIkQAIkQAIkQAIkQAIkQMebOkACJEACJEACJEACJEACJEACJEACPiRAx9uHcFk1CZAACZAACZAACZAACZAACZAACdDxpg6QAAmQAAmQAAmQAAmQAAmQAAmQgA8J0PH2IVxWTQIkQAIkQAIkQAIkQAIkQAIkQAJ0vKkDJEACJEACJEACJEACJEACJEACJOBDAnS8fQiXVZMACZAACZAACZAACZAACZAACZAAHW/qAAmQAAmQAAmQAAmQAAmQAAmQAAn4kAAdbx/CZdUkQAIkQAIkQAIkQAIkQAIkQAIkQMebOkACJEACJEACJEACJEACJEACJEACPiRAx9uHcFk1CZAACZAACZAACZAACZAACZAACdDxpg6QAAmQAAmQAAmQAAmQAAmQAAmQgA8J0PH2IVxWTQIkQAIkQAIkQAIkQAIkQAIkQAJ0vKkDJEACJEACJEACJEACJEACJEACJOBDAnS8fQiXVZMACZAACZAACZAACZAACZAACZAAHW/qAAmQAAmQAAmQAAmQAAmQAAmQAAn4kAAdbx/CZdUkQAIkQAIkQAIkQAIkQAIkQAIkQMebOkACJEACJEACJEACJEACJEACJEACPiRAx9uHcFk1CZAACZAACZAACZAACZAACZAACdDxpg6QAAmQAAmQAAmQAAmQAAmQAAmQgA8J0PH2IVxWTQIkQAIkQAIkQAIkQAIkQAIkQAJ0vKkDJEACJEACJEACJEACJEACJEACJOBDAnS8fQiXVZMACZAACZAACZAACZAACZAACZAAHW/qAAmQAAmQAAmQAAmQAAmQAAmQAAn4kAAdbx/CZdUkQAIkQAIkQAIkQAIkQAIkQAIkQMebOkACJEACJEACJEACJEACJEACJEACPiRAx9uHcFk1CZAACZAACZAACZAACZAACZAACdDxpg6QAAmQAAmQAAmQAAmQAAmQAAmQgA8J0PH2IVxWTQIkQAIkQAIkQAIkQAIkQAIkQAJ0vKkDJEACJEACJEACJEACJEACJEACJOBDAnS8fQiXVZMACZAACZAACZAACZAACZAACZAAHW/qAAmQAAmQAAmQAAmQAAmQAAmQAAn4kAAdbx/CZdUkQAIkQAIkQAIkQAIkQAIkQAIkQMebOkACJEACJEACJEACJEACJEACJEACPiRAx9uHcFk1CZAACZAACZAACZAACZAACZAACdDxpg6QAAmQAAmQAAmQAAmQAAmQAAmQgA8J0PH2IVxWTQIkQAIkQAIkQAIkQAIkQAIkQAJ0vKkDJEACJEACJEACJEACJEACJEACkQuJsQAAAL9JREFUJOBDAnS8fQiXVZMACZAACZAACZAACZAACZAACZAAHW/qAAmQAAmQAAmQAAmQAAmQAAmQAAn4kAAdbx/CZdUkQAIkQAIkQAIkQAIkQAIkQAIkQMebOkACJEACJEACJEACJEACJEACJEACPiRAx9uHcFk1CZAACZAACZAACZAACZAACZAACdDxpg6QAAmQAAmQAAmQAAmQAAmQAAmQgA8J0PH2IVxWTQIkQAIkQAIkQAIkQAIkQAIkQAL/D+iN7IcEvTkBAAAAAElFTkSuQmCC\" width=\"899.9999804930258\">"
      ],
      "text/plain": [
       "<IPython.core.display.HTML object>"
      ]
     },
     "metadata": {},
     "output_type": "display_data"
    },
    {
     "data": {
      "text/plain": [
       "[<matplotlib.lines.Line2D at 0x18c3d977190>]"
      ]
     },
     "execution_count": 42,
     "metadata": {},
     "output_type": "execute_result"
    }
   ],
   "source": [
    "dt = 1e-5\n",
    "t_max = 0.01\n",
    "nite = int(t_max/dt)\n",
    "rho,u = solve(rho_0, u_0, c, nite, ncells, dx, dt)\n",
    "rho += rho_0\n",
    "u += u_0\n",
    "\n",
    "t = 0.001\n",
    "ite_t = int(t/dt)\n",
    "\n",
    "fig, (ax1, ax2) = plt.subplots(1,2)\n",
    "fig.set_size_inches(9,4)\n",
    "fig.tight_layout(pad=3)\n",
    "ax1.title.set_text(\"Profil de vitesse u à t = \" + str(t))\n",
    "ax2.title.set_text(\"Masse volumique rho à l'instant t = \" + str(t))\n",
    "ax1.plot(-dx*range(ncells),u[:,ite_t])\n",
    "ax2.plot(-dx*range(ncells),rho[:,ite_t])"
   ]
  },
  {
   "cell_type": "markdown",
   "metadata": {},
   "source": [
    "### Question bonus\n",
    "Réalisez une animation à partir de l'évolution temporelles des différentes grandeurs."
   ]
  },
  {
   "cell_type": "code",
   "execution_count": null,
   "metadata": {},
   "outputs": [
    {
     "ename": "",
     "evalue": "",
     "output_type": "error",
     "traceback": [
      "\u001b[1;31mThe kernel failed to start as a dll could not be loaded.\n",
      "\u001b[1;31mClick <a href='https://aka.ms/kernelFailuresDllLoad'>here</a> for more info."
     ]
    }
   ],
   "source": [
    "from matplotlib import animation \n",
    "%matplotlib notebook"
   ]
  },
  {
   "cell_type": "code",
   "execution_count": null,
   "metadata": {},
   "outputs": [
    {
     "ename": "",
     "evalue": "",
     "output_type": "error",
     "traceback": [
      "\u001b[1;31mThe kernel failed to start as a dll could not be loaded.\n",
      "\u001b[1;31mClick <a href='https://aka.ms/kernelFailuresDllLoad'>here</a> for more info."
     ]
    }
   ],
   "source": [
    "plot_freq = 4\n",
    "\n",
    "fig, (ax1, ax2) = plt.subplots(1,2)\n",
    "fig.set_size_inches(9,4)\n",
    "fig.tight_layout(pad=3)\n",
    "\n",
    "umin = u.min() \n",
    "umax = u.max()\n",
    "ymin1 = umin - 0.1*abs(umax-umin)\n",
    "ymax1 = umax + 0.1*abs(umax-umin)\n",
    "rhomin = rho.min() \n",
    "rhomax = rho.max()\n",
    "ymin2 = rhomin - 0.1*abs(rhomax-rhomin)\n",
    "ymax2 = rhomax + 0.1*abs(rhomax-rhomin)\n",
    "\n",
    "def animate(i):\n",
    "    ax1.clear()\n",
    "    ax2.clear()\n",
    "    ax1.title.set_text(\"Evolution du profil de vitesse u\")\n",
    "    ax2.title.set_text(\"Evolution de la masse volumique rho\")\n",
    "    ax1.set_xlim(left=-xmin, right=0)\n",
    "    ax1.set_ylim(bottom=ymin1, top=ymax1)\n",
    "    ax2.set_xlim(left=-xmin, right=0)\n",
    "    ax2.set_ylim(bottom=ymin2, top=ymax2)\n",
    "    ax1.plot(-dx*range(ncells),u[:,i*plot_freq])\n",
    "    ax2.plot(-dx*range(ncells),rho[:,i*plot_freq])\n",
    "\n",
    "ani = animation.FuncAnimation(fig, animate, frames=int(nite/plot_freq),repeat=False, interval=1)"
   ]
  },
  {
   "cell_type": "code",
   "execution_count": null,
   "metadata": {},
   "outputs": [],
   "source": []
  }
 ],
 "metadata": {
  "kernelspec": {
   "display_name": "my-python3-kernel",
   "language": "python",
   "name": "my-python3-kernel"
  },
  "language_info": {
   "codemirror_mode": {
    "name": "ipython",
    "version": 3
   },
   "file_extension": ".py",
   "mimetype": "text/x-python",
   "name": "python",
   "nbconvert_exporter": "python",
   "pygments_lexer": "ipython3",
   "version": "3.9.12"
  },
  "toc": {
   "base_numbering": 1,
   "nav_menu": {},
   "number_sections": true,
   "sideBar": true,
   "skip_h1_title": false,
   "title_cell": "Table of Contents",
   "title_sidebar": "Contents",
   "toc_cell": false,
   "toc_position": {},
   "toc_section_display": true,
   "toc_window_display": false
  },
  "vscode": {
   "interpreter": {
    "hash": "bacb6a13c211bae8be83f7d49e8426a638baa8d39738542db834f0c995aadfcc"
   }
  }
 },
 "nbformat": 4,
 "nbformat_minor": 2
}
