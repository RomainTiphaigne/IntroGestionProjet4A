{
 "cells": [
  {
   "cell_type": "markdown",
   "metadata": {},
   "source": [
    "# Schémas Upwind et de Godunov pour les sytèmes linéaires hyperboliques - Application aux équations d'Euler linéarisées"
   ]
  },
  {
   "cell_type": "markdown",
   "metadata": {},
   "source": [
    "_Consignes:_\n",
    "* _Ce TP est noté et à rendre (au plus tard) pour le 21/12/2023._\n",
    "* _Le TP peut être fait en binôme_\n",
    "* _La partie 1.1 (Théorie) est facultative, elle permet à ceux qui le souhaitent de travailler le cours_\n",
    "* _Toute la partie 1.2 est à compléter, sauf la partie 1.2.2 qui donne lieu à un bonus_\n",
    "* _Une fois terminé, le TP est à envoyer à maxime.bouyges@onera.fr avec le nom suivant : TP1-NOM1\\_PRENOM1-NOM2\\_PRENOM2.ipynb_"
   ]
  },
  {
   "cell_type": "markdown",
   "metadata": {},
   "source": [
    "## Théorie : Schémas Upwind et Godunov pour les systèmes linéaires\n",
    "Dans toute la suite, on considère un système d'équations de transport linéaires écrit sous la forme\n",
    "$$\n",
    "\\partial_t U + A\\partial_x U = 0\n",
    "$$\n",
    "où $A$ est une matrice à coefficients constants et $U$ est un vecteur de taille $n$.\n",
    "\n",
    "La suite de ce paragraphe a été traité en cours. Le système étant hyperbolique, la matrice $A$ est diagonalisable dans $\\mathbb{R}$ : $A = RDR^{-1}$. Le système peut alors être exprimé avec le vecteur des variables caractéristiques et la matrice diagonale $D$\n",
    "$$\n",
    "\\partial_t V + D \\partial_x V = 0,\n",
    "$$\n",
    "avec $V=R^{-1}U =(v^1,v^2,...,v^n)$. Ce système représente en fait $n$ équations indépendantes:\n",
    "$$\n",
    "\\partial_t v^j + \\lambda^j \\partial_x v^j = 0,~~~\\forall j \\leq n.\n",
    "$$\n"
   ]
  },
  {
   "cell_type": "markdown",
   "metadata": {},
   "source": [
    "### Schéma Upwind\n",
    "Dans cette partie, on détermine l'expression du flux Upwind pour le système linéaire hyperbolique. On rappelle que le flux Upwind pour une équation scalaire s'écrit\n",
    "$$\n",
    "f_{i+1/2}(v_i,v_{i+1}) = \\left\\{\n",
    "        \\begin{aligned}\n",
    "        v_i~\\text{si}~\\lambda > 0 \\\\\n",
    "        v_{i+1}~\\text{sinon}\n",
    "        \\end{aligned}\n",
    "    \\right.\n",
    "$$\n",
    "ce qui revient à écrire\n",
    "$$\n",
    "f_{i+1/2}(v_i,v_{i+1}) = \\max(\\lambda,0) v_i + \\min(\\lambda, 0) v_{i+1}.\n",
    "$$"
   ]
  },
  {
   "cell_type": "markdown",
   "metadata": {},
   "source": [
    "#### Question 1\n",
    "On commence par appliquer le flux Upwind à chacune des $n$ équations scalaires indépendantes portant sur les variables caractéristiques $v^j$. On omet désormais l'exposant sur les variables scalaires $v^j \\rightarrow v$. En introduisant les notations\n",
    "$$\n",
    "\\begin{aligned}\n",
    "& \\lambda^+ = \\max(\\lambda,0) = \\dfrac{1}{2}(\\lambda + |\\lambda|), \\\\\n",
    "& \\lambda^- = \\min(\\lambda,0) = \\dfrac{1}{2}(\\lambda - |\\lambda|), \\\\\n",
    "\\end{aligned}\n",
    "$$\n",
    "**montrez** que le schéma Upwind l'expression du flux Upwind appliqué à l'équation scalaire\n",
    "$$\n",
    "\\partial_t v + \\lambda \\partial_x v = 0\n",
    "$$\n",
    "s'écrit (ici $i$ ne désigne plus la composante de $v$ mais l'indice d'une cellule)\n",
    "$$\n",
    "v_i^{n+1} = v_i^n - \\dfrac{\\Delta t}{\\Delta x}\\lambda_i^+(v_i^n - v_{i-1}^n) - \\dfrac{\\Delta t}{\\Delta x}\\lambda_i^-(v_{i+1}^n - v_i^n).\n",
    "$$"
   ]
  },
  {
   "cell_type": "markdown",
   "metadata": {},
   "source": [
    "#### Réponse 1\n"
   ]
  },
  {
   "cell_type": "markdown",
   "metadata": {},
   "source": [
    "#### Question 2\n",
    "On pose $D^+ = \\mathrm{diag}(\\lambda_1^+,...,\\lambda_n^+)$ et $D^- = \\mathrm{diag}(\\lambda_1^-,...,\\lambda_n^-)$; puis $A^+=RD^+R^{-1}$ et $A^-=RD^-R^{-1}$. Montrez que le schéma Upwind appliqué au système de départ s'écrit:\n",
    "$$\n",
    "U_i^{n+1}=U_i^n - \\dfrac{\\Delta t}{\\Delta x}A^+(U_i^n-U_{i-1}^n) - \\dfrac{\\Delta t}{\\Delta x}A^-(U_{i+1}^n-U_i^n).\n",
    "$$"
   ]
  },
  {
   "cell_type": "markdown",
   "metadata": {},
   "source": [
    "#### Réponse 2\n",
    "à compléter"
   ]
  },
  {
   "cell_type": "markdown",
   "metadata": {},
   "source": [
    "### Schéma de Godunov\n",
    "Dans cette partie, on détermine l'expression du flux de Godunov pour le système linéaire hyperbolique. Rappelons que la méthode de Godunov consiste d'abord à résoudre de manière exacte le problème de Riemann à l'interface entre les deux cellules à partir d'états de part et d'autre dans la cellule (à l'ordre 1, ce sont simplement les valeurs $U_i$ et $U_{i+1}$. Puis la solution dans chaque cellule est formée à partir de la moyenne, dans la cellule, de la solution du problème de Riemann."
   ]
  },
  {
   "cell_type": "markdown",
   "metadata": {},
   "source": [
    "#### Schéma de Godunov appliqué à l'équation de transport linéaire scalaire\n",
    "On commence par s'intéresser au cas linéaire scalaire:\n",
    "$$\n",
    "\\partial_t u + \\partial_x c u = 0,\n",
    "$$\n",
    "avec $c$ constant."
   ]
  },
  {
   "cell_type": "markdown",
   "metadata": {},
   "source": [
    "##### Question 1\n",
    "En intégrant l'équation sur le domaine spatio-temporel $[x_1,x_2] \\times [t_1, t_2]$, montrez qu'une solution de l'équation de transport linéaire scalaire vérifie la relation\n",
    "$$\n",
    "\\int_{x_1}^{x_2}u(x,t_2) \\mathrm{d}x = \\int_{x_1}^{x_2}u(x,t_1) \\mathrm{d}x + \\int_{t_1}^{t_2} cu(x_1,t) \\mathrm{d} t - \\int_{t_1}^{t_2} c u(x_2,t) \\mathrm{d} t.\n",
    "$$"
   ]
  },
  {
   "cell_type": "markdown",
   "metadata": {},
   "source": [
    "#### Réponse 1\n",
    "à compléter"
   ]
  },
  {
   "cell_type": "markdown",
   "metadata": {},
   "source": [
    "#####  Question 2\n",
    "Rappeler la solution générale autosimilaire du problème de Riemann suivant\n",
    "$$\n",
    "\\left\\{\n",
    "\\begin{aligned}\n",
    "    & \\partial_t u + \\partial_x c u = 0 \\\\\n",
    "    & u_0(x) = \\left\\{\n",
    "        \\begin{aligned}\n",
    "        & u_L~\\forall x < 0 \\\\\n",
    "        & u_R~\\forall x > 0\n",
    "        \\end{aligned}\n",
    "        \\right.\n",
    "\\end{aligned}\n",
    "\\right.\n",
    "$$"
   ]
  },
  {
   "cell_type": "markdown",
   "metadata": {},
   "source": [
    "#### Réponse 2\n",
    "à compléter"
   ]
  },
  {
   "cell_type": "markdown",
   "metadata": {},
   "source": [
    "##### Question 3\n",
    "On note $PR(u_{i-1}^n,u_i^n)$ le problème de Riemann qui s'applique à l'interface $i-1/2$. On a alors $u_L = u_{i-1}^n$ et $u_R = u_i^n$.\n",
    "\n",
    "Soit $\\hat{u}$ la combinaison des solutions des problèmes de Riemann $PR(u_{i-1}^n,u_i^n)$ et $PR(u_i^n,u_{i+1}^n)$ (c'est-à-dire aux deux faces de la cellule $i$). $\\hat{u}$ est donc une solution exacte de l'équation de transport linéaire scalaire dans la cellule $i$. En utilisant la réponse de la première question, montrez que\n",
    "$$\n",
    "\\int_{x_{i-\\frac{1}{2}}}^{x_{i+\\frac{1}{2}}}\\hat{u}(x, \\Delta t) \\mathrm{d}x = \\int_{x_{i-\\frac{1}{2}}}^{x_{i+\\frac{1}{2}}}\\hat{u}(x, 0) \\mathrm{d}x + \\int_0^{\\Delta t} c\\hat{u}(x_{i-\\frac{1}{2}},t) \\mathrm{d} t - \\int_0^{\\Delta t} c \\hat{u}(x_{i+\\frac{1}{2}},t) \\mathrm{d} t.\n",
    "$$"
   ]
  },
  {
   "cell_type": "markdown",
   "metadata": {},
   "source": [
    "#### Réponse 3\n",
    "à compléter"
   ]
  },
  {
   "cell_type": "markdown",
   "metadata": {},
   "source": [
    "##### Question 4\n",
    "En appliquant l'approche volumes finis, montrez que l'expression établie à la question précédente peut se réécrire\n",
    "$$\n",
    "u_i^{n+1}=u_i - \\dfrac{\\Delta t}{\\Delta x} \\left( f_{i+1/2} - f_{i-1/2} \\right).\n",
    "$$\n",
    "\n",
    "Explicitez $f_{i\\pm1/2}$."
   ]
  },
  {
   "cell_type": "markdown",
   "metadata": {},
   "source": [
    "#### Réponse 4\n",
    "à compléter"
   ]
  },
  {
   "cell_type": "markdown",
   "metadata": {},
   "source": [
    "##### Question 5\n",
    "En justifiant le fait que $\\hat{u}(x_{i\\pm1/2},t) = u^{Rie}_{i\\pm1/2}(0)$, montrez que le flux de Godunov s'écrit\n",
    "$$\n",
    "f_{i-1/2} = cu_{i-1}^n,~~~f_{i+1/2} = cu_i^n\n",
    "$$\n",
    "\n",
    "Pour une équation de transport non nécessairement linéaire, on retiendra que le flux de Godunov s'écrit\n",
    "$$\n",
    "f^{god}_{i+1/2} = f\\left(u^{Rie}_{i+1/2}(0) \\right),\n",
    "$$\n",
    "où $u^R_{i+1/2}$ est la solution exacte du problème de Riemann associé à la face $i+1/2$."
   ]
  },
  {
   "cell_type": "markdown",
   "metadata": {},
   "source": [
    "#### Réponse 5\n",
    "à compléter"
   ]
  },
  {
   "cell_type": "markdown",
   "metadata": {},
   "source": [
    "##### Question 6\n",
    "Comparez le flux de Godunov avec le flux upwind pour une équation de transport linéaire scalaire."
   ]
  },
  {
   "cell_type": "markdown",
   "metadata": {},
   "source": [
    "#### Réponse 6\n",
    "à compléter"
   ]
  },
  {
   "cell_type": "markdown",
   "metadata": {},
   "source": [
    "#### Schéma de Godunov appliqué à un système d'équations de transport linéaires\n",
    "Puisque\n",
    "* le schéma upwind appliqué à un système d'équations de transport linéaires est obtenu à partir du schéma upwind appliqué aux équations scalaire;\n",
    "* dans le cas scalaire, les schémas upwind et Godunov sont identiques;\n",
    "on en déduit que le schéma de Godunov appliqué à un système d'équations de transport linéaire est identique au schéma upwind."
   ]
  },
  {
   "cell_type": "markdown",
   "metadata": {},
   "source": [
    "## Application : coup de bélier dans une conduite unidimensionnelle\n",
    "Nous allons étudier le phénomène dit du \"coup de bélier\" rencontré lorsque qu'un fluide en mouvement est brutalement interrompu, généralement par une paroi / vanne. C'est par exemple ce qui se passe lorsque qu'on ferme rapidement un robinet d'eau. On entend dans certains cas un bruit (voire une vibration) provoqué par une onde de pression dans le fluide qui vient frapper les parois des canalisations.\n",
    "\n",
    "On se place dans un cadre unidimensionnel : un écoulement, avançant à la vitesse $u_0$, est stoppé à $t=0$ par un mur en $x=0$. Le domaine d'étude s'étend de $x=-l$ à $x=0$. Cet écoulement est supposé être régi par les équations d'Euler isothermes. Celles-ci s'écrivent\n",
    "$$\n",
    "∂_t Q + ∂_x F(Q) = 0\n",
    "$$\n",
    "avec\n",
    "$$\n",
    "Q =\n",
    "\\begin{pmatrix} \\rho \\\\ \\rho u \\end{pmatrix}\n",
    "~~~\\mathrm{et}~~~\n",
    "F(Q)=\n",
    "\\begin{pmatrix} \\rho u \\\\ \\rho u^2 + p \\end{pmatrix}\n",
    "$$\n",
    "auxquelles on ajoute une équation d'état (thermodynamique) permettant de déterminer la pression : $p = c^2 \\rho$, où $c$ est la vitesse du son. Ce système d'équation est non-linéaire.\n",
    "\n",
    "Pour étudier les ondes de pression générées par cet arrêt, on ajoute une petite perturbation de masse volumique et de vitesse à l'écoulement initial (supposé uniforme et constant dans le temps). Plus précisément, on pose:\n",
    "$$\n",
    "\\rho = \\rho_0 + \\tilde{\\rho} ~~~\\mathrm{et}~~~ u = u_0 + \\tilde{u}.\n",
    "$$\n",
    "\n",
    "Remarque : l'état $(\\rho_0, u_0)$ est appelé \"écoulement de base\" ou parfois \"écoulement moyen\". Cette dernière dénomination peut-être trompeuse car cet écoulement n'est pas nécessairement constant comme ici. L'état $(\\tilde{\\rho}, \\tilde{u})$ est appelé la \"perturbation\" ou la \"partie fluctuante\".\n",
    "\n",
    "**Conditions initiales**\n",
    "À $t=0$ l'écoulement vient d'être arrêté en $x=0$. À cette position, on écrit donc $u(0,0)=0$. Or comme $u=u_0+\\tilde{u}$, on a $\\tilde{u}(x=0,t=0) = -u_0$. Ailleurs, pour $x < 0$, l'écoulement n'a pas encore \"ressenti\" l'arrêt et on a donc $u(x<0, t=0)=u_0$ et ainsi $\\tilde{u}(x<0,t=0) = 0$. Quant à la masse volumique, on a toujours $\\tilde{\\rho}(x, t=0) = 0$.\n",
    "\n",
    "**Hypothèse importante**: dans toute la suite, on suppose l'écoulement de base subsonique, c'est-à-dire $u_0 < c$."
   ]
  },
  {
   "cell_type": "markdown",
   "metadata": {},
   "source": [
    "### Questions théoriques"
   ]
  },
  {
   "cell_type": "markdown",
   "metadata": {},
   "source": [
    "#### Question 1\n",
    "Sachant que\n",
    "* $(\\rho, u)$ vérifient les équations d'Euler isothermes;\n",
    "* $(\\rho_0, u_0)$ vérifient aussi les équations d'Euler isothermes (et sont uniformes et constant dans le temps);\n",
    "* les perturbations sont de faible amplitude comparées à l'écoulement de base : $\\tilde{\\rho}, \\tilde{u} << \\rho_0, u_0$;\n",
    "\n",
    "montrez que $(\\tilde{\\rho},\\tilde{u})$ vérifie le système d'équations ci-dessous. Si nécessaire, on pourra rendre l'hypothèse de petite perturbation plus évidente en écrivant $\\rho = \\rho_0 + \\varepsilon \\tilde{\\rho}$ et $u = u_0 + \\varepsilon \\tilde{u}$ avec $\\varepsilon << 1$.\n",
    "$$\n",
    "\\left\\{\n",
    "    \\begin{aligned}\n",
    "        & \\partial_t \\tilde{\\rho} + \\partial_x \\left( \\tilde{\\rho} u_0 + \\rho_0 \\tilde{u} \\right) = 0, \\\\\n",
    "        & \\partial_t \\left(\\tilde{\\rho} u_0  + \\rho_0 \\tilde{u} \\right) + \\partial_x \\left(\\tilde{\\rho}u_0^2 + 2 \\rho_0 u_0 \\tilde{u} + c^2 \\tilde{\\rho} \\right) = 0.\n",
    "    \\end{aligned}\n",
    "\\right.\n",
    "$$"
   ]
  },
  {
   "cell_type": "markdown",
   "metadata": {},
   "source": [
    "#### Réponse 1\n",
    "à compléter"
   ]
  },
  {
   "cell_type": "markdown",
   "metadata": {},
   "source": [
    "#### Question 2\n",
    "En rappelant que l'écoulement de base $(\\rho_0, u_0)$ est uniforme et constant (dans le temps), montrer que le système précédemment établi peut se réécrire\n",
    "$$\n",
    "\\left\\{\n",
    "    \\begin{aligned}\n",
    "        & \\partial_t \\tilde{\\rho} + \\partial_x \\left( \\tilde{\\rho} u_0 + \\rho_0 \\tilde{u} \\right) = 0, \\\\\n",
    "        & \\partial_t \\tilde{u} + \\partial_x \\left( u_0 \\tilde{u} + c^2 / \\rho_0 \\tilde{\\rho} \\right) = 0.\n",
    "    \\end{aligned}\n",
    "\\right.\n",
    "$$\n",
    "Ce système correspond aux **équations d'Euler isothermes linéarisées**."
   ]
  },
  {
   "cell_type": "markdown",
   "metadata": {},
   "source": [
    "#### Réponse 2\n",
    "à compléter"
   ]
  },
  {
   "cell_type": "markdown",
   "metadata": {},
   "source": [
    "#### Question 3\n",
    "Ce système est légèrement du système établi en cours, pour lequel on avait considéré $u_0$ nul. Après avoir rappelé l'expression du flux $F$ correspondant à ce sytème, montrer que la matrice jacobienne du système s'écrit:\n",
    "$$\n",
    "A = \\dfrac{\\partial F}{\\partial U} = \\begin{pmatrix} u_0 & \\rho_0 \\\\ \\dfrac{c^2}{\\rho_0} & u_0 \\end{pmatrix}.\n",
    "$$"
   ]
  },
  {
   "cell_type": "markdown",
   "metadata": {},
   "source": [
    "#### Réponse 3\n",
    "à compléter"
   ]
  },
  {
   "cell_type": "markdown",
   "metadata": {},
   "source": [
    "#### Question 4\n",
    "Montrer que les valeurs propres de la matrice jacobienne sont $\\lambda_1 = u_0 - c$ et $\\lambda_2 = u_0 + c$."
   ]
  },
  {
   "cell_type": "markdown",
   "metadata": {},
   "source": [
    "#### Réponse 4\n",
    "à compléter"
   ]
  },
  {
   "cell_type": "markdown",
   "metadata": {},
   "source": [
    "#### Question 5\n",
    "Montrer que les vecteurs propres associés aux valeurs propres déterminées précédemment peuvent s'écrire:\n",
    "$$\n",
    "R^{(1)} = \\begin{pmatrix} 1 \\\\ -c / \\rho_0 \\end{pmatrix} ~~~\\mathrm{et}~~~ R^{(2)} = \\begin{pmatrix} 1 \\\\ c / \\rho_0 \\end{pmatrix}\n",
    "$$"
   ]
  },
  {
   "cell_type": "markdown",
   "metadata": {},
   "source": [
    "#### Réponse 5\n",
    "à compléter"
   ]
  },
  {
   "cell_type": "markdown",
   "metadata": {},
   "source": [
    "#### Question 6\n",
    "Formez la matrice de changement de base $R = (R^{(1)},R^{(2)})$ et calculez $R^{-1}$."
   ]
  },
  {
   "cell_type": "markdown",
   "metadata": {},
   "source": [
    "#### Réponse 6\n",
    "à compléter"
   ]
  },
  {
   "cell_type": "markdown",
   "metadata": {},
   "source": [
    "#### Question 7\n",
    "Rappelez les définitions de $D$, $D^+$ et $D^-$. À l'aide de ces définitions, de $R$ et de $R^{-1}$, montrer que\n",
    "$$\n",
    "A^- = \\dfrac{u_0 - c}{2} \\begin{pmatrix}\n",
    "1 & -\\rho_0 / c \\\\\n",
    "- c / \\rho_0 & 1\n",
    "\\end{pmatrix}\n",
    "$$\n",
    "et\n",
    "$$\n",
    "A^+ = \\dfrac{u_0 + c}{2} \\begin{pmatrix}\n",
    "1 & \\rho_0 / c \\\\\n",
    "c / \\rho_0 & 1\n",
    "\\end{pmatrix}.\n",
    "$$"
   ]
  },
  {
   "cell_type": "markdown",
   "metadata": {},
   "source": [
    "#### Réponse 7\n",
    "à compléter"
   ]
  },
  {
   "cell_type": "markdown",
   "metadata": {},
   "source": [
    "#### Question 8\n",
    "Rappelez l'expression du schéma Upwind appliqué à un système d'équation linéaires dont la matrice jacobienne est notée $A$. On utilisera une discrétisation temporelle explicite."
   ]
  },
  {
   "cell_type": "markdown",
   "metadata": {},
   "source": [
    "#### Réponse 8\n",
    "à compléter"
   ]
  },
  {
   "cell_type": "markdown",
   "metadata": {},
   "source": [
    "### Bonus : vérification avec du calcul symbolique\n",
    "<font color='red'>Cette partie est facultative mais donne lieu à un bonus</font>\n",
    "\n",
    "Dans cette partie, on se propose de vérifier les résultats des questions précédentes à l'aide de calcul symbolique. Faire du calcul symbolique (avec un ordinateur) signifie \"faire des calculs à la main\" avec un ordinateur. Les différents symboles manipulés $c$, $\\rho_0$ etc n'ont pas de valeur numérique.\n",
    "\n",
    "Avec python, il est possible de faire du calcul symbolique avec **sympy**. On commence par importer le module et définir les symboles dont nous allons nous servir."
   ]
  },
  {
   "cell_type": "code",
   "execution_count": null,
   "metadata": {},
   "outputs": [],
   "source": [
    "from sympy import *\n",
    "rho_0, u_0, rho, u, c, x = symbols(\"rho_0 u_0 rho u c x\")"
   ]
  },
  {
   "cell_type": "markdown",
   "metadata": {},
   "source": [
    "Note : pour afficher une grandeur que l'on vient de calculer, il suffit d'écrire son symbole sur la dernière ligne d'une cellule. Exemple:"
   ]
  },
  {
   "cell_type": "code",
   "execution_count": null,
   "metadata": {},
   "outputs": [],
   "source": [
    "x = rho_0 * u_0\n",
    "x"
   ]
  },
  {
   "cell_type": "markdown",
   "metadata": {},
   "source": [
    "Il est également possible d'utiliser la méthode ``display``:"
   ]
  },
  {
   "cell_type": "code",
   "execution_count": null,
   "metadata": {},
   "outputs": [],
   "source": [
    "x = c**2\n",
    "display(x)"
   ]
  },
  {
   "cell_type": "markdown",
   "metadata": {},
   "source": [
    "#### Question 1\n",
    "On suppose le système d'équations établi (on aurait également pu l'établir avec sympy).\n",
    "\n",
    "Regardez dans la documentation (https://docs.sympy.org/latest/modules/matrices/matrices.html) comment définir des vecteurs / matrices avec **sympy**. Définissez le vecteur des inconnues $U=(\\rho, u)$ et le vecteur flux $F$."
   ]
  },
  {
   "cell_type": "markdown",
   "metadata": {},
   "source": [
    "#### Question 2\n",
    "Toujours dans la même page de documentation, trouvez comment calculer la matrice jacobienne $A = \\partial F / \\partial U$. Calculer $A$."
   ]
  },
  {
   "cell_type": "markdown",
   "metadata": {},
   "source": [
    "#### Question 3\n",
    "Toujours dans la même page de documentation, trouvez comment déterminer les valeurs propres de $A$. Attention, la fonction de **sympy** renvoie un dictionnaire dont les clés sont les valeurs propres et les valeurs sont les multiplicités associées. L'option ``multiple = True`` permet de retourner une liste."
   ]
  },
  {
   "cell_type": "markdown",
   "metadata": {},
   "source": [
    "Réordonnez (si nécessaire), les valeurs propres dans l'ordre croissant ($\\lambda_1 < \\lambda_2$).\n",
    "\n",
    "Note : vous devez réaliser cette opération \"manuellement\" car sympy ne sait rien du signe $c$. Toutefois, il serait possible de spécifier à sympy que $c$ est positive et on pourrait alors lui demander de ranger par ordre croissant."
   ]
  },
  {
   "cell_type": "markdown",
   "metadata": {},
   "source": [
    "#### Question 5\n",
    "Toujours dans la même page de documentation, trouvez comment calculer les vecteurs propres de $A$.\n",
    "\n",
    "Notez que puisque cette fonction retourne également les valeurs propres de la matrice, on aurait finalement pu se passer de la question précédente."
   ]
  },
  {
   "cell_type": "markdown",
   "metadata": {},
   "source": [
    "Réordonnez les si nécessaire. De plus, les vecteurs étant définis à une constante multiplicative près, on fera en sorte que $r_1 = 1$."
   ]
  },
  {
   "cell_type": "markdown",
   "metadata": {},
   "source": [
    "#### Question 6\n",
    "Formez la matrice $R$ à partir de $R_1$ et $R_2$. On pourra d'abord calculer sa transposée pour simplifier. \n",
    "\n",
    "Note : sympy propose également la fonction ``diagonalize`` qui renvoie directement $R$ et $D$. On aurait donc pu se passer de la question précédente."
   ]
  },
  {
   "cell_type": "markdown",
   "metadata": {},
   "source": [
    "La matrice $R$ déterminée avec sympy est-elle identique à celle déterminée dans la partie théorique précédente? Pourquoi?"
   ]
  },
  {
   "cell_type": "markdown",
   "metadata": {},
   "source": [
    "#### Question 7\n",
    "Calculez $R^{-1}$."
   ]
  },
  {
   "cell_type": "markdown",
   "metadata": {},
   "source": [
    "#### Question 8\n",
    "Formez $D^+$ et $D^-$ puis calculez $A^+$ et $A^-$."
   ]
  },
  {
   "cell_type": "markdown",
   "metadata": {},
   "source": [
    "### Implémentation en python\n",
    "Dans cette partie, on se propose de simuler le phénomène du coup de bélier avec un code python. Après avoir proposé une trame pour ce code, complétez le code python à trous. Le maillage, 1D, sera uniforme. Ci-dessous, on importe les modules nécessaires, on définit des constantes et on construit le maillage. **Le code de la prochaine cellule n'est pas à modifier**, sauf éventuellement pour modifier les réglages."
   ]
  },
  {
   "cell_type": "code",
   "execution_count": 4,
   "metadata": {},
   "outputs": [],
   "source": [
    "import numpy as np\n",
    "import matplotlib.pyplot as plt\n",
    "from math import sqrt\n",
    "\n",
    "# Physical settings\n",
    "xmin = 1 # domain width\n",
    "c = sqrt(1.4 * 287 * 293) # sound velocity for a temperature of 293K\n",
    "u_0 = 1\n",
    "rho_0 = 1\n",
    "\n",
    "# Numerical settings\n",
    "ncells = 100 # Number of mesh cells\n",
    "\n",
    "# Uniform mesh\n",
    "nnodes = ncells + 1\n",
    "xnodes = np.linspace(-xmin, 0, nnodes)\n",
    "dx = xnodes[1] - xnodes[0]\n",
    "xcenters = np.zeros(ncells)\n",
    "for i in range(ncells):\n",
    "    xcenters[i] = 0.5*(xnodes[i] + xnodes[i+1])"
   ]
  },
  {
   "cell_type": "markdown",
   "metadata": {},
   "source": [
    "#### Question 1\n",
    "Proposer une squelette de code permettant d'intégrer le système des équations d'Euler isothermes linéarisées avec une intégration temporelle explicite et un schéma upwind. Votre réponse contiendra notamment le nom des différentes fonctions. Par exemple:\n",
    "```\n",
    "executer\n",
    "  calcul_jacobienne\n",
    "  calcul_flux\n",
    "  increment_solution    \n",
    "```"
   ]
  },
  {
   "cell_type": "markdown",
   "metadata": {},
   "source": [
    "#### Réponse 1\n",
    "à compléter"
   ]
  },
  {
   "cell_type": "code",
   "execution_count": 5,
   "metadata": {},
   "outputs": [],
   "source": [
    "def calcul_flux(rho_0, rho, u_0, u, c):\n",
    "    return np.array([[u_0*rho_t + rho_0*u_t],[u_0*u_t + c**2/rho_0*rho_t]])"
   ]
  },
  {
   "cell_type": "markdown",
   "metadata": {},
   "source": [
    "#### Question 2 : calcul des matrices \"jacobiennes\"\n",
    "Commençons par définir une fonction calculant les deux matrices $A^-$ et $A^+$ à partir des données du problème. **Complétez** la fonction suivante renvoyant ces deux matrices."
   ]
  },
  {
   "cell_type": "code",
   "execution_count": 6,
   "metadata": {},
   "outputs": [],
   "source": [
    "def jacobian_pm(rho_0, u_0, c):\n",
    "    \"\"\"\n",
    "    Compute upwind flux on interface defined by the two states U_L and U_R\n",
    "    \n",
    "    U_L and U_R are two vectors containing respectively the state in the left cell\n",
    "    and the state in the right cell.\n",
    "    \n",
    "    A_p and A_m are the two jacobian matrices that must be return\n",
    "\n",
    "    \"\"\"\n",
    "    \n",
    "    A_m = ((u_0 - c) / 2) * np.array([[1, -rho_0/c], [-c/rho_0, 1]])\n",
    "    A_p = ((u_0 + c) / 2) * np.array([[1, rho_0/c], [c/rho_0, 1]])\n",
    "\n",
    "\n",
    "    \n",
    "    return A_p, A_m"
   ]
  },
  {
   "cell_type": "markdown",
   "metadata": {},
   "source": [
    "#### Question 3 : calcul du flux Upwind\n",
    "Une fois ces matrices à disposition, on peut facilement calculer le flux upwind sur une face. **Complétez** la fonction suivante."
   ]
  },
  {
   "cell_type": "code",
   "execution_count": 17,
   "metadata": {},
   "outputs": [],
   "source": [
    "def F_upwind(U_L, U_R, A_p, A_m):\n",
    "    \"\"\"\n",
    "    Compute upwind flux on interface defined by the two states U_L and U_R\n",
    "    \n",
    "    U_L and U_R are two vectors containing respectively the state in the left cell\n",
    "    and the state in the right cell.\n",
    "    \n",
    "    A_p and A_m are the two jacobian matrices.\n",
    "    \n",
    "    The flux vector must be returned.\n",
    "    \"\"\"\n",
    "\n",
    "    f = A_m @ U_R + A_p @ U_L\n",
    "\n",
    "    return f"
   ]
  },
  {
   "cell_type": "markdown",
   "metadata": {},
   "source": [
    "#### Question 4 : intégration explicite\n",
    "Rappeler l'expression du schéma d'intégration temporelle explicite en 1D."
   ]
  },
  {
   "cell_type": "markdown",
   "metadata": {},
   "source": [
    "$v_{n+1} = v_n + \\frac{\\Delta t}{\\Delta x} (F^n_{i+\\frac{1}{2}} - F^n_{i-\\frac{1}{2}})$"
   ]
  },
  {
   "cell_type": "markdown",
   "metadata": {},
   "source": [
    "#### Question 5 : boucle sur les faces\n",
    "Pour calculer $U^{n+1}$ à partir de $U^n$, il est possible de faire une boucle sur les cellules et, dans chaque cellule, calculer $F_{i+\\frac{1}{2}}$ et $F_{i-\\frac{1}{2}}$ pour déterminer $U^{n+1}_i$ à partir de $U^n_i$. \n",
    "\n",
    "Toutefois, cette stratégie nécessite de calculer deux fois le flux sur chaque face. Par exemple la cellule $i=1$ va \"calculer\" le flux $F_{i+\\frac{1}{2}} = F_\\frac{3}{2}$ et la cellule $j=2$ va \"calculer\" le flux $-F_{j-\\frac{1}{2}} = -F_\\frac{3}{2}$.\n",
    "\n",
    "Il est donc plus judicieux de calculer au préalable le flux sur chaque face, puis de faire la boucle sur les cellules et d'utiliser ces flux précalculés en les multipliant par la normale à la face.\n",
    "\n",
    "La fonction suivante, à **compléter**, réalise cette opération."
   ]
  },
  {
   "cell_type": "code",
   "execution_count": 18,
   "metadata": {},
   "outputs": [],
   "source": [
    "def compute_flux(rho, u, u_0, A_p, A_m):\n",
    "\n",
    "    U = np.block([[rho], [u]]).T\n",
    "\n",
    "    flux = np.zeros((U.shape[0] - 1, 2))\n",
    "    for i in range(len(flux)):\n",
    "        flux[i] = F_upwind(U[i-1], U[i], A_p, A_m)\n",
    "    return flux"
   ]
  },
  {
   "cell_type": "markdown",
   "metadata": {},
   "source": [
    "#### Question 6 : itérations temporelles\n",
    "**Complétez** la fonction suivante qui met bout à bout le travail effectué jusqu'à présent pour effectuer les itérations temporelles. Afin de voir la progression de l'onde et pas seulement la dernière itération, on enregistrera la solution à chaque pas de temps dans deux tableaux `rho_saved` et `u_saved`."
   ]
  },
  {
   "cell_type": "code",
   "execution_count": 42,
   "metadata": {},
   "outputs": [],
   "source": [
    "def solve(rho_0, u_0, c, nite, ncells, dx, dt):\n",
    "    \"\"\"\n",
    "    Execute `nite` time steps of `dt`\n",
    "    \n",
    "    rho_0, u_0 and c are three constant scalars.\n",
    "    \n",
    "    nite, ncells, dx and dt are numerical parameters\n",
    "    (number of time steps, number of cells, mesh step, time step)\n",
    "    \n",
    "    This function must return the solution at each time step. So two\n",
    "    matrices (one for rho, one for u) must be returned. The first dimension\n",
    "    of each matrix is the number of cells, the second dimension is the time step\n",
    "    \"\"\"         \n",
    "    rho_saved = np.zeros((ncells, nite))\n",
    "    u_saved = np.zeros((ncells, nite))\n",
    "\n",
    "    u_saved[:, 0] = 0\n",
    "    rho_saved[:, 0] = 0\n",
    "\n",
    "    A_p, A_m = jacobian_pm(rho_0, u_0, c)\n",
    "\n",
    "    for i in range(1, nite):\n",
    "\n",
    "        Fict_rho = np.block([[rho_saved[0, i], rho_saved[:, i], -rho_saved[-1, i]]])\n",
    "        Fict_u = np.block([[u_saved[0, i], u_saved[:, i], -u_saved[-1, i] - 2*u_0]])\n",
    "        F = compute_flux(Fict_rho, Fict_u, u_0, A_p, A_m)\n",
    "\n",
    "        for j in range(ncells):\n",
    "\n",
    "            rho_saved[j, i] = rho_saved[j, i-1] - dt/dx*(F[j+1, 0] - F[j, 0])\n",
    "            u_saved[j, i] = u_saved[j, i-1] - dt/dx*(F[j+1, 1] - F[j, 1])\n",
    "            print(F[j, 0], F[j+1, 1])\n",
    "            print(rho_saved[j, i], rho_saved[j, i-1])\n",
    "\n",
    "    return rho_saved, u_saved"
   ]
  },
  {
   "cell_type": "markdown",
   "metadata": {},
   "source": [
    "#### Question 7 : le pas de temps\n",
    "Comment choisir le pas de temps `dt` de la simulation? Justifiez.\n",
    "\n",
    "CFL"
   ]
  },
  {
   "cell_type": "markdown",
   "metadata": {},
   "source": [
    "#### Question 8 : c'est parti\n",
    "Utiliser la fonction ```solve``` définie ci-dessus et tracez trois figures pour représenter l'évolution temporelle de la masse volumique, de la vitesse et de la pression dans la canalisation. On affichera au choix les valeurs des perturbations ou des grandeurs totales.\n",
    "\n",
    "**Commentez** cette évolution (d'un point de vue physique)."
   ]
  },
  {
   "cell_type": "code",
   "execution_count": 43,
   "metadata": {},
   "outputs": [
    {
     "name": "stdout",
     "output_type": "stream",
     "text": [
      "-1.0029144809677353 0.0\n",
      "-0.0010029144809677343 0.0\n",
      "0.0 0.0\n",
      "0.0 0.0\n",
      "0.0 0.0\n",
      "0.0 0.0\n",
      "0.0 0.0\n",
      "0.0 0.0\n",
      "0.0 0.0\n",
      "0.0 0.0\n",
      "0.0 0.0\n",
      "0.0 0.0\n",
      "0.0 0.0\n",
      "0.0 0.0\n",
      "0.0 0.0\n",
      "0.0 0.0\n",
      "0.0 0.0\n",
      "0.0 0.0\n",
      "0.0 0.0\n",
      "0.0 0.0\n",
      "-1.0029144809677353 0.0\n",
      "-0.0020058289619354686 -0.0010029144809677343\n",
      "0.0 0.0\n",
      "0.0 0.0\n",
      "0.0 0.0\n",
      "0.0 0.0\n",
      "0.0 0.0\n",
      "0.0 0.0\n",
      "0.0 0.0\n",
      "0.0 0.0\n",
      "0.0 0.0\n",
      "0.0 0.0\n",
      "0.0 0.0\n",
      "0.0 0.0\n",
      "0.0 0.0\n",
      "0.0 0.0\n",
      "0.0 0.0\n",
      "0.0 0.0\n",
      "0.0 0.0\n",
      "0.0 0.0\n",
      "-1.0029144809677353 0.0\n",
      "-0.003008743442903203 -0.0020058289619354686\n",
      "0.0 0.0\n",
      "0.0 0.0\n",
      "0.0 0.0\n",
      "0.0 0.0\n",
      "0.0 0.0\n",
      "0.0 0.0\n",
      "0.0 0.0\n",
      "0.0 0.0\n",
      "0.0 0.0\n",
      "0.0 0.0\n",
      "0.0 0.0\n",
      "0.0 0.0\n",
      "0.0 0.0\n",
      "0.0 0.0\n",
      "0.0 0.0\n",
      "0.0 0.0\n",
      "0.0 0.0\n",
      "0.0 0.0\n",
      "-1.0029144809677353 0.0\n",
      "-0.004011657923870937 -0.003008743442903203\n",
      "0.0 0.0\n",
      "0.0 0.0\n",
      "0.0 0.0\n",
      "0.0 0.0\n",
      "0.0 0.0\n",
      "0.0 0.0\n",
      "0.0 0.0\n",
      "0.0 0.0\n",
      "0.0 0.0\n",
      "0.0 0.0\n",
      "0.0 0.0\n",
      "0.0 0.0\n",
      "0.0 0.0\n",
      "0.0 0.0\n",
      "0.0 0.0\n",
      "0.0 0.0\n",
      "0.0 0.0\n",
      "0.0 0.0\n",
      "-1.0029144809677353 0.0\n",
      "-0.005014572404838671 -0.004011657923870937\n",
      "0.0 0.0\n",
      "0.0 0.0\n",
      "0.0 0.0\n",
      "0.0 0.0\n",
      "0.0 0.0\n",
      "0.0 0.0\n",
      "0.0 0.0\n",
      "0.0 0.0\n",
      "0.0 0.0\n",
      "0.0 0.0\n",
      "0.0 0.0\n",
      "0.0 0.0\n",
      "0.0 0.0\n",
      "0.0 0.0\n",
      "0.0 0.0\n",
      "0.0 0.0\n",
      "0.0 0.0\n",
      "0.0 0.0\n",
      "-1.0029144809677353 0.0\n",
      "-0.0060174868858064055 -0.005014572404838671\n",
      "0.0 0.0\n",
      "0.0 0.0\n",
      "0.0 0.0\n",
      "0.0 0.0\n",
      "0.0 0.0\n",
      "0.0 0.0\n",
      "0.0 0.0\n",
      "0.0 0.0\n",
      "0.0 0.0\n",
      "0.0 0.0\n",
      "0.0 0.0\n",
      "0.0 0.0\n",
      "0.0 0.0\n",
      "0.0 0.0\n",
      "0.0 0.0\n",
      "0.0 0.0\n",
      "0.0 0.0\n",
      "0.0 0.0\n",
      "-1.0029144809677353 0.0\n",
      "-0.00702040136677414 -0.0060174868858064055\n",
      "0.0 0.0\n",
      "0.0 0.0\n",
      "0.0 0.0\n",
      "0.0 0.0\n",
      "0.0 0.0\n",
      "0.0 0.0\n",
      "0.0 0.0\n",
      "0.0 0.0\n",
      "0.0 0.0\n",
      "0.0 0.0\n",
      "0.0 0.0\n",
      "0.0 0.0\n",
      "0.0 0.0\n",
      "0.0 0.0\n",
      "0.0 0.0\n",
      "0.0 0.0\n",
      "0.0 0.0\n",
      "0.0 0.0\n",
      "-1.0029144809677353 0.0\n",
      "-0.008023315847741875 -0.00702040136677414\n",
      "0.0 0.0\n",
      "0.0 0.0\n",
      "0.0 0.0\n",
      "0.0 0.0\n",
      "0.0 0.0\n",
      "0.0 0.0\n",
      "0.0 0.0\n",
      "0.0 0.0\n",
      "0.0 0.0\n",
      "0.0 0.0\n",
      "0.0 0.0\n",
      "0.0 0.0\n",
      "0.0 0.0\n",
      "0.0 0.0\n",
      "0.0 0.0\n",
      "0.0 0.0\n",
      "0.0 0.0\n",
      "0.0 0.0\n",
      "-1.0029144809677353 0.0\n",
      "-0.00902623032870961 -0.008023315847741875\n",
      "0.0 0.0\n",
      "0.0 0.0\n",
      "0.0 0.0\n",
      "0.0 0.0\n",
      "0.0 0.0\n",
      "0.0 0.0\n",
      "0.0 0.0\n",
      "0.0 0.0\n",
      "0.0 0.0\n",
      "0.0 0.0\n",
      "0.0 0.0\n",
      "0.0 0.0\n",
      "0.0 0.0\n",
      "0.0 0.0\n",
      "0.0 0.0\n",
      "0.0 0.0\n",
      "0.0 0.0\n",
      "0.0 0.0\n"
     ]
    },
    {
     "ename": "IndexError",
     "evalue": "index 500 is out of bounds for axis 1 with size 10",
     "output_type": "error",
     "traceback": [
      "\u001b[0;31m---------------------------------------------------------------------------\u001b[0m",
      "\u001b[0;31mIndexError\u001b[0m                                Traceback (most recent call last)",
      "\u001b[1;32m/home/goulm/Bureau/Méca/TP_Euler_linearise.ipynb Cell 75\u001b[0m line \u001b[0;36m9\n\u001b[1;32m      <a href='vscode-notebook-cell:/home/goulm/Bureau/M%C3%A9ca/TP_Euler_linearise.ipynb#Y135sZmlsZQ%3D%3D?line=6'>7</a>\u001b[0m fig, axs \u001b[39m=\u001b[39m plt\u001b[39m.\u001b[39msubplots(\u001b[39m3\u001b[39m, \u001b[39m2\u001b[39m, figsize\u001b[39m=\u001b[39m(\u001b[39m12\u001b[39m, \u001b[39m12\u001b[39m))\n\u001b[1;32m      <a href='vscode-notebook-cell:/home/goulm/Bureau/M%C3%A9ca/TP_Euler_linearise.ipynb#Y135sZmlsZQ%3D%3D?line=7'>8</a>\u001b[0m \u001b[39mfor\u001b[39;00m t \u001b[39min\u001b[39;00m times:\n\u001b[0;32m----> <a href='vscode-notebook-cell:/home/goulm/Bureau/M%C3%A9ca/TP_Euler_linearise.ipynb#Y135sZmlsZQ%3D%3D?line=8'>9</a>\u001b[0m     axs[i, \u001b[39m0\u001b[39m]\u001b[39m.\u001b[39mplot(rho[\u001b[39m1\u001b[39m:, t])\n\u001b[1;32m     <a href='vscode-notebook-cell:/home/goulm/Bureau/M%C3%A9ca/TP_Euler_linearise.ipynb#Y135sZmlsZQ%3D%3D?line=9'>10</a>\u001b[0m     axs[i, \u001b[39m0\u001b[39m]\u001b[39m.\u001b[39mset_title(\u001b[39m\"\u001b[39m\u001b[39mrho à x=\u001b[39m\u001b[39m\"\u001b[39m\u001b[39m+\u001b[39m\u001b[39mstr\u001b[39m(t))\n\u001b[1;32m     <a href='vscode-notebook-cell:/home/goulm/Bureau/M%C3%A9ca/TP_Euler_linearise.ipynb#Y135sZmlsZQ%3D%3D?line=10'>11</a>\u001b[0m     axs[i, \u001b[39m1\u001b[39m]\u001b[39m.\u001b[39mplot(u[\u001b[39m1\u001b[39m:, t])\n",
      "\u001b[0;31mIndexError\u001b[0m: index 500 is out of bounds for axis 1 with size 10"
     ]
    },
    {
     "data": {
      "image/png": "[encoded data removed]",
      "text/plain": [
       "<Figure size 1200x1200 with 6 Axes>"
      ]
     },
     "metadata": {},
     "output_type": "display_data"
    }
   ],
   "source": [
    "ncells = 10\n",
    "rho, u = solve(rho_0, u_0, c, 10, ncells, dx, 1e-5)\n",
    "\n",
    "times = [2, 500, 980]\n",
    "\n",
    "i = 0\n",
    "fig, axs = plt.subplots(3, 2, figsize=(12, 12))\n",
    "for t in times:\n",
    "    axs[i, 0].plot(rho[1:, t])\n",
    "    axs[i, 0].set_title(\"rho à x=\"+str(t))\n",
    "    axs[i, 1].plot(u[1:, t])\n",
    "    axs[i, 1].set_title(\"u à x=\"+str(t))\n",
    "    i+=1\n",
    "\n"
   ]
  },
  {
   "cell_type": "markdown",
   "metadata": {},
   "source": [
    "### Question bonus\n",
    "Réalisez une animation à partir de l'évolution temporelles des différentes grandeurs."
   ]
  },
  {
   "cell_type": "code",
   "execution_count": 11,
   "metadata": {},
   "outputs": [
    {
     "data": {
      "image/png": "[encoded data removed]",
      "text/plain": [
       "<Figure size 640x480 with 1 Axes>"
      ]
     },
     "metadata": {},
     "output_type": "display_data"
    }
   ],
   "source": [
    "import matplotlib.animation as animation\n",
    "\n",
    "fig, ax = plt.subplots()\n",
    "\n",
    "line, = ax.plot(u[:, 0])\n",
    "\n",
    "def animate(i):\n",
    "    line.set_ydata(u[:, i])  # update the data.\n",
    "    return line,\n",
    "\n",
    "\n",
    "ani = animation.FuncAnimation(fig, animate,interval=20, blit=True, save_count=50)\n",
    "ani.save(\"movie.mp4\")\n",
    "\n",
    "plt.show()\n"
   ]
  },
  {
   "cell_type": "code",
   "execution_count": null,
   "metadata": {},
   "outputs": [],
   "source": []
  }
 ],
 "metadata": {
  "kernelspec": {
   "display_name": "BasicEnv",
   "language": "python",
   "name": "basicenv"
  },
  "language_info": {
   "codemirror_mode": {
    "name": "ipython",
    "version": 3
   },
   "file_extension": ".py",
   "mimetype": "text/x-python",
   "name": "python",
   "nbconvert_exporter": "python",
   "pygments_lexer": "ipython3",
   "version": "3.11.3"
  },
  "toc": {
   "base_numbering": 1,
   "nav_menu": {},
   "number_sections": true,
   "sideBar": true,
   "skip_h1_title": false,
   "title_cell": "Table of Contents",
   "title_sidebar": "Contents",
   "toc_cell": false,
   "toc_position": {},
   "toc_section_display": true,
   "toc_window_display": false
  },
  "vscode": {
   "interpreter": {
    "hash": "bacb6a13c211bae8be83f7d49e8426a638baa8d39738542db834f0c995aadfcc"
   }
  }
 },
 "nbformat": 4,
 "nbformat_minor": 2
}
