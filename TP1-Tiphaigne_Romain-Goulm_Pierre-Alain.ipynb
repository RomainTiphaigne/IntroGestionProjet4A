{
 "cells": [
  {
   "cell_type": "markdown",
   "metadata": {},
   "source": [
    "# Schémas Upwind et de Godunov pour les sytèmes linéaires hyperboliques - Application aux équations d'Euler linéarisées"
   ]
  },
  {
   "cell_type": "markdown",
   "metadata": {},
   "source": [
    "_Consignes:_\n",
    "* _Ce TP est noté et à rendre (au plus tard) pour le 21/12/2023._\n",
    "* _Le TP peut être fait en binôme_\n",
    "* _La partie 1.1 (Théorie) est facultative, elle permet à ceux qui le souhaitent de travailler le cours_\n",
    "* _Toute la partie 1.2 est à compléter, sauf la partie 1.2.2 qui donne lieu à un bonus_\n",
    "* _Une fois terminé, le TP est à envoyer à maxime.bouyges@onera.fr avec le nom suivant : TP1-NOM1\\_PRENOM1-NOM2\\_PRENOM2.ipynb_"
   ]
  },
  {
   "cell_type": "markdown",
   "metadata": {},
   "source": [
    "## Application : coup de bélier dans une conduite unidimensionnelle\n",
    "Nous allons étudier le phénomène dit du \"coup de bélier\" rencontré lorsque qu'un fluide en mouvement est brutalement interrompu, généralement par une paroi / vanne. C'est par exemple ce qui se passe lorsque qu'on ferme rapidement un robinet d'eau. On entend dans certains cas un bruit (voire une vibration) provoqué par une onde de pression dans le fluide qui vient frapper les parois des canalisations.\n",
    "\n",
    "On se place dans un cadre unidimensionnel : un écoulement, avançant à la vitesse $u_0$, est stoppé à $t=0$ par un mur en $x=0$. Le domaine d'étude s'étend de $x=-l$ à $x=0$. Cet écoulement est supposé être régi par les équations d'Euler isothermes. Celles-ci s'écrivent\n",
    "$$\n",
    "∂_t Q + ∂_x F(Q) = 0\n",
    "$$\n",
    "avec\n",
    "$$\n",
    "Q =\n",
    "\\begin{pmatrix} \\rho \\\\ \\rho u \\end{pmatrix}\n",
    "~~~\\mathrm{et}~~~\n",
    "F(Q)=\n",
    "\\begin{pmatrix} \\rho u \\\\ \\rho u^2 + p \\end{pmatrix}\n",
    "$$\n",
    "auxquelles on ajoute une équation d'état (thermodynamique) permettant de déterminer la pression : $p = c^2 \\rho$, où $c$ est la vitesse du son. Ce système d'équation est non-linéaire.\n",
    "\n",
    "Pour étudier les ondes de pression générées par cet arrêt, on ajoute une petite perturbation de masse volumique et de vitesse à l'écoulement initial (supposé uniforme et constant dans le temps). Plus précisément, on pose:\n",
    "$$\n",
    "\\rho = \\rho_0 + \\tilde{\\rho} ~~~\\mathrm{et}~~~ u = u_0 + \\tilde{u}.\n",
    "$$\n",
    "\n",
    "Remarque : l'état $(\\rho_0, u_0)$ est appelé \"écoulement de base\" ou parfois \"écoulement moyen\". Cette dernière dénomination peut-être trompeuse car cet écoulement n'est pas nécessairement constant comme ici. L'état $(\\tilde{\\rho}, \\tilde{u})$ est appelé la \"perturbation\" ou la \"partie fluctuante\".\n",
    "\n",
    "**Conditions initiales**\n",
    "À $t=0$ l'écoulement vient d'être arrêté en $x=0$. À cette position, on écrit donc $u(0,0)=0$. Or comme $u=u_0+\\tilde{u}$, on a $\\tilde{u}(x=0,t=0) = -u_0$. Ailleurs, pour $x < 0$, l'écoulement n'a pas encore \"ressenti\" l'arrêt et on a donc $u(x<0, t=0)=u_0$ et ainsi $\\tilde{u}(x<0,t=0) = 0$. Quant à la masse volumique, on a toujours $\\tilde{\\rho}(x, t=0) = 0$.\n",
    "\n",
    "**Hypothèse importante**: dans toute la suite, on suppose l'écoulement de base subsonique, c'est-à-dire $u_0 < c$."
   ]
  },
  {
   "cell_type": "markdown",
   "metadata": {},
   "source": [
    "### Questions théoriques"
   ]
  },
  {
   "cell_type": "markdown",
   "metadata": {},
   "source": [
    "#### Question 1\n",
    "Sachant que\n",
    "* $(\\rho, u)$ vérifient les équations d'Euler isothermes;\n",
    "* $(\\rho_0, u_0)$ vérifient aussi les équations d'Euler isothermes (et sont uniformes et constant dans le temps);\n",
    "* les perturbations sont de faible amplitude comparées à l'écoulement de base : $\\tilde{\\rho}, \\tilde{u} << \\rho_0, u_0$;\n",
    "\n",
    "montrez que $(\\tilde{\\rho},\\tilde{u})$ vérifie le système d'équations ci-dessous. Si nécessaire, on pourra rendre l'hypothèse de petite perturbation plus évidente en écrivant $\\rho = \\rho_0 + \\varepsilon \\tilde{\\rho}$ et $u = u_0 + \\varepsilon \\tilde{u}$ avec $\\varepsilon << 1$.\n",
    "$$\n",
    "\\left\\{\n",
    "    \\begin{aligned}\n",
    "        & \\partial_t \\tilde{\\rho} + \\partial_x \\left( \\tilde{\\rho} u_0 + \\rho_0 \\tilde{u} \\right) = 0, \\\\\n",
    "        & \\partial_t \\left(\\tilde{\\rho} u_0  + \\rho_0 \\tilde{u} \\right) + \\partial_x \\left(\\tilde{\\rho}u_0^2 + 2 \\rho_0 u_0 \\tilde{u} + c^2 \\tilde{\\rho} \\right) = 0.\n",
    "    \\end{aligned}\n",
    "\\right.\n",
    "$$"
   ]
  },
  {
   "cell_type": "markdown",
   "metadata": {},
   "source": [
    "#### Réponse 1\n",
    "\n",
    "Le système complet s'écrit\n",
    "$$\n",
    "\\left\\{\n",
    "    \\begin{aligned}\n",
    "        & \\partial_t \\rho + \\partial_x \\left(\\rho u \\right) = 0, \\\\\n",
    "        & \\partial_t \\left(\\rho u \\right) + \\partial_x \\left(\\rho u^2 + c^2 \\rho \\right) = 0.\n",
    "    \\end{aligned}\n",
    "\\right.\n",
    "$$\n",
    "\n",
    "A l'ordre 1, nous pouvons approximer \n",
    "$\\rho u = \\rho_0 u_0 + \\tilde{\\rho} u_0 + \\tilde{u} \\rho_0$  et \n",
    "$\\rho u^2 = \\rho_0 u_0^2 + \\tilde{\\rho} u_0^2 + 2 \\tilde{u}u_0\\rho_0$.\n",
    "\n",
    "On peut réecrire le système\n",
    "$$\n",
    "\\left\\{\n",
    "    \\begin{aligned}\n",
    "        & \\partial_t \\left( \\rho_0 + \\tilde{\\rho} \\right) + \\partial_x \\left(\\rho_0 u_0 + \\tilde{\\rho} u_0 + \\tilde{u} \\rho_0 \\right) = 0, \\\\\n",
    "        & \\partial_t \\left(\\rho_0 u_0 + \\tilde{\\rho} u_0 + \\tilde{u} \\rho_0 \\right) + \\partial_x \\left(\\rho_0 u_0^2 + \\tilde{\\rho} u_0^2 + 2 \\tilde{u}u_0\\rho_0 + c^2 \\left( \\rho_0 + \\tilde{\\rho} \\right) \\right) = 0.\n",
    "    \\end{aligned}\n",
    "\\right.\n",
    "$$\n",
    "\n",
    "On a de plus $\\partial_t \\rho_0 = \\partial_t u_0 = \\partial_x \\rho_0 = \\partial_x u_0 = 0$. D'où\n",
    "$$\n",
    "\\left\\{\n",
    "    \\begin{aligned}\n",
    "        & \\partial_t \\tilde{\\rho}  + \\partial_x \\left(\\tilde{\\rho} u_0 + \\tilde{u} \\rho_0 \\right) = 0, \\\\\n",
    "        & \\partial_t \\left(\\tilde{\\rho} u_0 + \\tilde{u} \\rho_0 \\right) + \\partial_x \\left(\\tilde{\\rho} u_0^2 + 2 \\tilde{u}u_0\\rho_0 + c^2  \\tilde{\\rho} \\right) = 0.\n",
    "    \\end{aligned}\n",
    "\\right.\n",
    "$$"
   ]
  },
  {
   "cell_type": "markdown",
   "metadata": {},
   "source": [
    "#### Question 2\n",
    "En rappelant que l'écoulement de base $(\\rho_0, u_0)$ est uniforme et constant (dans le temps), montrer que le système précédemment établi peut se réécrire\n",
    "$$\n",
    "\\left\\{\n",
    "    \\begin{aligned}\n",
    "        & \\partial_t \\tilde{\\rho} + \\partial_x \\left( \\tilde{\\rho} u_0 + \\rho_0 \\tilde{u} \\right) = 0, \\\\\n",
    "        & \\partial_t \\tilde{u} + \\partial_x \\left( u_0 \\tilde{u} + c^2 / \\rho_0 \\tilde{\\rho} \\right) = 0.\n",
    "    \\end{aligned}\n",
    "\\right.\n",
    "$$\n",
    "Ce système correspond aux **équations d'Euler isothermes linéarisées**."
   ]
  },
  {
   "cell_type": "markdown",
   "metadata": {},
   "source": [
    "#### Réponse 2\n",
    "\n",
    "Comme  $\\partial_t \\rho_0 = \\partial_t u_0 = \\partial_x \\rho_0 = \\partial_x u_0 = 0$, la deuxième équation peut s'écrire\n",
    "$$\n",
    "u_0 \\partial_t \\tilde{\\rho} + \\rho_0 \\partial_t \\tilde{u} + u_0 \\partial_x \\left( \\tilde{\\rho} u_0 \\right) + u_0 \\partial_x \\left( \\rho_0 \\tilde{u} \\right) + \\rho_0 \\partial_x \\left( u_0 \\tilde{u} \\right) + \\partial_x \\left( c^2 \\tilde{\\rho} \\right) = 0 \\; \\; ,\n",
    "$$\n",
    "ou encore\n",
    "$$\n",
    "u_0 \\left( \\partial_t \\tilde{\\rho} + \\partial_x \\left( \\tilde{\\rho} u_0 \\right) + \\partial_x \\left( \\rho_0 \\tilde{u} \\right) \\right) + \\rho_0 \\left( \\partial_t \\tilde{u}  + \\partial_x \\left( u_0 \\tilde{u} \\right) + \\partial_x \\left( c^2 \\tilde{\\rho} \\right)  \\right)= 0 \\; \\; .\n",
    "$$\n",
    "\n",
    "\n",
    "En utilisant la première équation du système, la deuxième peut ainsi s'écrire\n",
    "$$\n",
    "\\partial_t \\tilde{u} + \\partial_x \\left( u_0 \\tilde{u} + \\left( c^2 / \\rho_0 \\right ) \\tilde{\\rho} \\right) = 0 \\; \\; .\n",
    "$$\n",
    "\n",
    "\n",
    "On retrouve bien le système des équations d'Euler isothermes linéarisées. "
   ]
  },
  {
   "cell_type": "markdown",
   "metadata": {},
   "source": [
    "#### Question 3\n",
    "Ce système est légèrement différent du système établi en cours, pour lequel on avait considéré $u_0$ nul. Après avoir rappelé l'expression du flux $F$ correspondant à ce sytème, montrer que la matrice jacobienne du système s'écrit:\n",
    "$$\n",
    "A = \\dfrac{\\partial F}{\\partial U} = \\begin{pmatrix} u_0 & \\rho_0 \\\\ \\dfrac{c^2}{\\rho_0} & u_0 \\end{pmatrix}.\n",
    "$$"
   ]
  },
  {
   "cell_type": "markdown",
   "metadata": {},
   "source": [
    "#### Réponse 3\n",
    "\n",
    "Pour ce système, on a\n",
    "$$\n",
    "U = \\begin{pmatrix} \\tilde{\\rho}  \\\\ \\tilde{u} \\end{pmatrix} \\; \\text{et} \\; F = \\begin{pmatrix} u_0 \\tilde{\\rho} + \\rho_0 \\tilde{u}  \\\\ \\left( c^2/\\rho_0 \\right) \\tilde{\\rho} + u_0 \\tilde{u} \\end{pmatrix} \\; .\n",
    "$$\n",
    "La matrice jacobienne $A$ du système vérifiant $F = AU$ est donc bien \n",
    "$$\n",
    "A =  \\begin{pmatrix} u_0 & \\rho_0 \\\\ \\left( c^2/\\rho_0 \\right) & u_0 \\end{pmatrix} \\; .\n",
    "$$"
   ]
  },
  {
   "cell_type": "markdown",
   "metadata": {},
   "source": [
    "#### Question 4\n",
    "Montrer que les valeurs propres de la matrice jacobienne sont $\\lambda_1 = u_0 - c$ et $\\lambda_2 = u_0 + c$."
   ]
  },
  {
   "cell_type": "markdown",
   "metadata": {},
   "source": [
    "#### Réponse 4\n",
    "\n",
    "$$\n",
    "\\forall \\lambda \\in \\mathbb{R}, \\; P_{\\lambda}(A) = det(A-\\lambda I) = \\begin{vmatrix} u_0-\\lambda & \\rho_0 \\\\ \\left( c^2/\\rho_0 \\right) & u_0-\\lambda \\end{vmatrix} = \\left( u_0 - \\lambda \\right)^2 - c^2 = \\left( u_0 - \\lambda - c \\right)\\left( u_0 - \\lambda + c \\right).\n",
    "$$\n",
    "\n",
    "$$\n",
    "\\forall \\lambda \\in \\mathbb{R}, \\; P_{\\lambda}(A) = 0 \\Leftrightarrow \\lambda = u_0 - c \\; \\text{ou} _; \\lambda = u_0 + c \\; .\n",
    "$$\n",
    "\n",
    "Les deux valeurs propres de $A$ sont donc $\\lambda_1 = u_0 - c$ et $\\lambda_2 = u_0 + c$."
   ]
  },
  {
   "cell_type": "markdown",
   "metadata": {},
   "source": [
    "#### Question 5\n",
    "Montrer que les vecteurs propres associés aux valeurs propres déterminées précédemment peuvent s'écrire:\n",
    "$$\n",
    "R^{(1)} = \\begin{pmatrix} 1 \\\\ -c / \\rho_0 \\end{pmatrix} ~~~\\mathrm{et}~~~ R^{(2)} = \\begin{pmatrix} 1 \\\\ c / \\rho_0 \\end{pmatrix}\n",
    "$$"
   ]
  },
  {
   "cell_type": "markdown",
   "metadata": {},
   "source": [
    "#### Réponse 5\n",
    "\n",
    "$$\n",
    "\\forall x \\in \\mathbb{R}^2, Ax=\\lambda_1 x \\Leftrightarrow \n",
    "\\left\\{\n",
    "    \\begin{aligned}\n",
    "        & u_0 x_1 + \\rho_0 x_2 = (u_0 - c) x_1, \\\\\n",
    "        & \\left(c^2/\\rho_0 \\right) x_1 + u_0 x_2 = (u_0 - c) x_2\n",
    "    \\end{aligned}\n",
    "\\right.\n",
    "$$\n",
    "\n",
    "En choisissant $x_1 = 1$, on trouve $x_2 = -c/\\rho_0$.\n",
    "Avec le même raisonnement pour la valeur propre $\\lambda_2$, on obtient $x_1 = 1$ et $x_2 = c/\\rho_0$.\n",
    "\n",
    "\n",
    "On a ainsi deux vecteurs propres de $A$ associés à $\\lambda_1$ et $\\lambda_2$ :\n",
    "$$\n",
    "R^{(1)} = \\begin{pmatrix} 1 \\\\ -c / \\rho_0 \\end{pmatrix} ~~~\\mathrm{et}~~~ R^{(2)} = \\begin{pmatrix} 1 \\\\ c / \\rho_0 \\end{pmatrix}\n",
    "$$"
   ]
  },
  {
   "cell_type": "markdown",
   "metadata": {},
   "source": [
    "#### Question 6\n",
    "Formez la matrice de changement de base $R = (R^{(1)},R^{(2)})$ et calculez $R^{-1}$."
   ]
  },
  {
   "cell_type": "markdown",
   "metadata": {},
   "source": [
    "#### Réponse 6\n",
    "\n",
    "$R = \\begin{pmatrix} 1 & 1 \\\\ -\\frac{c}{\\rho_0} & \\frac{c}{\\rho_0} \\end{pmatrix}$\n",
    "\n",
    "$R^{-1} = \\frac{\\rho_0}{2c} \\begin{pmatrix} \\frac{c}{\\rho_0} & - 1 \\\\ \\frac{c}{\\rho_0} & 1 \\end{pmatrix} = \\begin{pmatrix} \\frac{1}{2} & - \\frac{\\rho_0}{2c}  \\\\ \\frac{1}{2} & \\frac{\\rho_0}{2c} \\end{pmatrix}$"
   ]
  },
  {
   "cell_type": "markdown",
   "metadata": {},
   "source": [
    "#### Question 7\n",
    "Rappelez les définitions de $D$, $D^+$ et $D^-$. À l'aide de ces définitions, de $R$ et de $R^{-1}$, montrer que\n",
    "$$\n",
    "A^- = \\dfrac{u_0 - c}{2} \\begin{pmatrix}\n",
    "1 & -\\rho_0 / c \\\\\n",
    "- c / \\rho_0 & 1\n",
    "\\end{pmatrix}\n",
    "$$\n",
    "et\n",
    "$$\n",
    "A^+ = \\dfrac{u_0 + c}{2} \\begin{pmatrix}\n",
    "1 & \\rho_0 / c \\\\\n",
    "c / \\rho_0 & 1\n",
    "\\end{pmatrix}.\n",
    "$$"
   ]
  },
  {
   "cell_type": "markdown",
   "metadata": {},
   "source": [
    "#### Réponse 7\n",
    "Soit $ A = RDR^-1 $ avec $R$ des matrices de changement de base, on pose alors $D^+ = \\mathrm{diag}(\\lambda_1^+,...,\\lambda_n^+)$ et $D^- = \\mathrm{diag}(\\lambda_1^-,...,\\lambda_n^-)$ avec lambda les valeurs propres de A et D. \\\n",
    "\n",
    "On suppose l'écoulement subsonique donc $u_0 < c $, donc on a $\\lambda_1 = u_0 - c < 0 $ et $\\lambda_2 = u_0 + c > 0 $ \n",
    "\n",
    "$$\n",
    "\n",
    "A^- = R D^- R^{-1} = R \\begin{pmatrix} u_0 - c & 0 \\\\ 0 & 0 \\end{pmatrix} R^{-1} = \\frac{u_0 - c}{2} \\begin{pmatrix} 1 & 0 \\\\ \\frac{-c}{\\rho_0} & 0 \\end{pmatrix} \\begin{pmatrix} 1 & \\frac{-\\rho_0}{c} \\\\ 1 & \\frac{\\rho_0}{c} \\end{pmatrix} = \\dfrac{u_0 - c}{2} \\begin{pmatrix}1 & -\\rho_0 / c \\\\- c / \\rho_0 & 1\\end{pmatrix}\n",
    "\n",
    "$$\n",
    "\n",
    "$$\n",
    "\n",
    "A^+ = R D^+ R^{-1} = R \\begin{pmatrix} u_0 + c & 0 \\\\ 0 & 0 \\end{pmatrix} R^{-1} = \\frac{u_0 + c}{2} \\begin{pmatrix} 1 & 0 \\\\ \\frac{-c}{\\rho_0} & 0 \\end{pmatrix} \\begin{pmatrix} 1 & \\frac{-\\rho_0}{c} \\\\ 1 & \\frac{\\rho_0}{c} \\end{pmatrix} = \\dfrac{u_0 + c}{2} \\begin{pmatrix}1 & -\\rho_0 / c \\\\- c / \\rho_0 & 1\\end{pmatrix}\n",
    "\n",
    "\n",
    "$$"
   ]
  },
  {
   "cell_type": "markdown",
   "metadata": {},
   "source": [
    "#### Question 8\n",
    "Rappelez l'expression du schéma Upwind appliqué à un système d'équation linéaires dont la matrice jacobienne est notée $A$. On utilisera une discrétisation temporelle explicite."
   ]
  },
  {
   "cell_type": "markdown",
   "metadata": {},
   "source": [
    "#### Réponse 8\n",
    "\n",
    "$$\n",
    "U_i^{n+1}=U_i^n - \\dfrac{\\Delta t}{\\Delta x}A^+(U_i^n-U_{i-1}^n) - \\dfrac{\\Delta t}{\\Delta x}A^-(U_{i+1}^n-U_i^n).\n",
    "$$"
   ]
  },
  {
   "cell_type": "markdown",
   "metadata": {},
   "source": [
    "### Implémentation en python\n",
    "Dans cette partie, on se propose de simuler le phénomène du coup de bélier avec un code python. Après avoir proposé une trame pour ce code, complétez le code python à trous. Le maillage, 1D, sera uniforme. Ci-dessous, on importe les modules nécessaires, on définit des constantes et on construit le maillage. **Le code de la prochaine cellule n'est pas à modifier**, sauf éventuellement pour modifier les réglages."
   ]
  },
  {
   "cell_type": "code",
   "execution_count": 2,
   "metadata": {},
   "outputs": [],
   "source": [
    "import numpy as np\n",
    "import matplotlib.pyplot as plt\n",
    "from math import sqrt\n",
    "\n",
    "# Physical settings\n",
    "xmin = 1 # domain width\n",
    "c = sqrt(1.4 * 287 * 293) # sound velocity for a temperature of 293K\n",
    "u_0 = 1\n",
    "rho_0 = 1\n",
    "\n",
    "# Numerical settings\n",
    "ncells = 100 # Number of mesh cells\n",
    "\n",
    "# Uniform mesh\n",
    "nnodes = ncells + 1\n",
    "xnodes = np.linspace(-xmin, 0, nnodes)\n",
    "dx = xnodes[1] - xnodes[0]\n",
    "xcenters = np.zeros(ncells)\n",
    "for i in range(ncells):\n",
    "    xcenters[i] = 0.5*(xnodes[i] + xnodes[i+1])"
   ]
  },
  {
   "cell_type": "markdown",
   "metadata": {},
   "source": [
    "#### Question 1\n",
    "Proposer une squelette de code permettant d'intégrer le système des équations d'Euler isothermes linéarisées avec une intégration temporelle explicite et un schéma upwind. Votre réponse contiendra notamment le nom des différentes fonctions. Par exemple:\n",
    "```\n",
    "executer\n",
    "  calcul_jacobienne\n",
    "  calcul_flux\n",
    "  increment_solution    \n",
    "```"
   ]
  },
  {
   "cell_type": "markdown",
   "metadata": {},
   "source": [
    "#### Réponse 1\n",
    "\n",
    "executer : \\\n",
    "Calcul des matrices jacobiennes $A^+$ et $A^-$ de l'écoulement (jacobian_pm) \\\n",
    "Calcul du flux à l'interface de deux cellules (F_upwind) \\\n",
    "Calcul du flux sur toutes les faces du maillage (compute_flux) \\\n",
    "Mettre à jour la solution dans toutes les cellules à chaque pas de temps (solve)"
   ]
  },
  {
   "cell_type": "markdown",
   "metadata": {},
   "source": [
    "#### Question 2 : calcul des matrices \"jacobiennes\"\n",
    "Commençons par définir une fonction calculant les deux matrices $A^-$ et $A^+$ à partir des données du problème. **Complétez** la fonction suivante renvoyant ces deux matrices."
   ]
  },
  {
   "cell_type": "code",
   "execution_count": 3,
   "metadata": {},
   "outputs": [],
   "source": [
    "def jacobian_pm(rho_0, u_0, c):\n",
    "  \n",
    "    A_m = (u_0 - c)/2 * np.array([[1,-rho_0/c],[-c/rho_0,1]])\n",
    "    A_p = (u_0 + c)/2 * np.array([[1,rho_0/c],[c/rho_0,1]])\n",
    "    \n",
    "    return A_p, A_m"
   ]
  },
  {
   "cell_type": "markdown",
   "metadata": {},
   "source": [
    "#### Question 3 : calcul du flux Upwind\n",
    "Une fois ces matrices à disposition, on peut facilement calculer le flux upwind sur une face. **Complétez** la fonction suivante."
   ]
  },
  {
   "cell_type": "code",
   "execution_count": 4,
   "metadata": {},
   "outputs": [],
   "source": [
    "def F_upwind(U_L, U_R, A_p, A_m):\n",
    "    \n",
    "    f = A_p@U_L + A_m@U_R\n",
    "    \n",
    "    return f.T"
   ]
  },
  {
   "cell_type": "markdown",
   "metadata": {},
   "source": [
    "#### Question 4 : intégration explicite\n",
    "Rappeler l'expression du schéma d'intégration temporelle explicite en 1D."
   ]
  },
  {
   "cell_type": "markdown",
   "metadata": {},
   "source": [
    "### Réponse 1\n",
    "$$\n",
    "u_{n+1} = u_n + \\Delta t f(t_n)\n",
    "$$"
   ]
  },
  {
   "cell_type": "markdown",
   "metadata": {},
   "source": [
    "#### Question 5 : boucle sur les faces\n",
    "Pour calculer $U^{n+1}$ à partir de $U^n$, il est possible de faire une boucle sur les cellules et, dans chaque cellule, calculer $F_{i+\\frac{1}{2}}$ et $F_{i-\\frac{1}{2}}$ pour déterminer $U^{n+1}_i$ à partir de $U^n_i$. \n",
    "\n",
    "Toutefois, cette stratégie nécessite de calculer deux fois le flux sur chaque face. Par exemple la cellule $i=1$ va \"calculer\" le flux $F_{i+\\frac{1}{2}} = F_\\frac{3}{2}$ et la cellule $j=2$ va \"calculer\" le flux $-F_{j-\\frac{1}{2}} = -F_\\frac{3}{2}$.\n",
    "\n",
    "Il est donc plus judicieux de calculer au préalable le flux sur chaque face, puis de faire la boucle sur les cellules et d'utiliser ces flux précalculés en les multipliant par la normale à la face.\n",
    "\n",
    "La fonction suivante, à **compléter**, réalise cette opération."
   ]
  },
  {
   "cell_type": "code",
   "execution_count": 5,
   "metadata": {},
   "outputs": [],
   "source": [
    "def compute_flux(rho, u, u_0, A_p, A_m):\n",
    "    \n",
    "    flux = np.zeros((len(u)+1,2))\n",
    "    for i in range(1,len(u)):\n",
    "        Ul = np.array([rho[i-1],u[i-1]])\n",
    "        Ur = np.array([rho[i],u[i]])\n",
    "        flux[i] = F_upwind(Ul, Ur, A_p, A_m)\n",
    "    \n",
    "    # Cd limites d'extrapolation en x=-l\n",
    "    U_xl = np.array([rho[0],u[0]])\n",
    "    Ur_xl = np.array([rho[0],u[0]])\n",
    "\n",
    "    # Cd limites en x=0 pour assurer rho=u=0\n",
    "    U_x0 = np.array([-rho[-1], -2*u_0 - u[-1]])\n",
    "    Ul_x0 = np.array([rho[-1],u[-1]])\n",
    "    \n",
    "    flux[0] = F_upwind(U_xl, Ur_xl, A_p, A_m)\n",
    "    flux[-1] = F_upwind(Ul_x0,U_x0, A_p, A_m)\n",
    "    \n",
    "    return flux"
   ]
  },
  {
   "cell_type": "markdown",
   "metadata": {},
   "source": [
    "#### Question 6 : itérations temporelles\n",
    "**Complétez** la fonction suivante qui met bout à bout le travail effectué jusqu'à présent pour effectuer les itérations temporelles. Afin de voir la progression de l'onde et pas seulement la dernière itération, on enregistrera la solution à chaque pas de temps dans deux tableaux `rho_saved` et `u_saved`."
   ]
  },
  {
   "cell_type": "code",
   "execution_count": 6,
   "metadata": {},
   "outputs": [],
   "source": [
    "def solve(rho_0, u_0, c, nite, ncells, dx, dt):\n",
    "    \n",
    "    rho_saved = np.zeros((ncells,nite))\n",
    "    u_saved = np.zeros((ncells,nite))\n",
    "    \n",
    "    # Cd initiales à t=0\n",
    "    rho_saved[:,0] = 0 \n",
    "    u_saved[:,0] = 0\n",
    "    \n",
    "    Ap,Am = jacobian_pm(rho_0, u_0, c)\n",
    "    \n",
    "    for t in range(1,nite):\n",
    "        Ft = compute_flux(rho_saved[:,t-1], u_saved[:,t-1], u_0, Ap, Am)\n",
    "        for i in range(ncells):\n",
    "            rho_saved[i,t] = rho_saved[i,t-1] - (dt/dx)*(-Ft[i,0]+Ft[i+1,0])\n",
    "            u_saved[i,t] = u_saved[i,t-1] - (dt/dx)*(-Ft[i,1]+Ft[i+1,1])\n",
    "      \n",
    "    return rho_saved, u_saved"
   ]
  },
  {
   "cell_type": "markdown",
   "metadata": {},
   "source": [
    "#### Question 7 : le pas de temps\n",
    "Comment choisir le pas de temps `dt` de la simulation? Justifiez.\n"
   ]
  },
  {
   "cell_type": "markdown",
   "metadata": {},
   "source": [
    "### Réponse 7\n",
    "\n",
    "Il faut choisir le 'dt' pour satisfaire la condition CFL qui est la suivante.\n",
    "\n",
    "$$\n",
    "CFL = c \\frac{dt}{dx}\n",
    "$$\n",
    "\n",
    "or ici on doit avoir $CFL \\leq 1/2$, et on veut utiliser dx = 0.01 donc on doit avoir $dt \\leq dx/ 2c$"
   ]
  },
  {
   "cell_type": "code",
   "execution_count": 14,
   "metadata": {},
   "outputs": [
    {
     "name": "stdout",
     "output_type": "stream",
     "text": [
      "dt doit être plus petit que :  1.4572404838675682e-05\n"
     ]
    }
   ],
   "source": [
    "print(\"dt doit être plus petit que : \",dx/(c*2))"
   ]
  },
  {
   "cell_type": "markdown",
   "metadata": {},
   "source": [
    "#### Question 8 : c'est parti\n",
    "Utiliser la fonction ```solve``` définie ci-dessus et tracez trois figures pour représenter l'évolution temporelle de la masse volumique, de la vitesse et de la pression dans la canalisation. On affichera au choix les valeurs des perturbations ou des grandeurs totales.\n",
    "\n",
    "**Commentez** cette évolution (d'un point de vue physique)."
   ]
  },
  {
   "cell_type": "code",
   "execution_count": 7,
   "metadata": {},
   "outputs": [
    {
     "data": {
      "text/plain": [
       "[<matplotlib.lines.Line2D at 0x7f30a0021210>]"
      ]
     },
     "execution_count": 7,
     "metadata": {},
     "output_type": "execute_result"
    },
    {
     "data": {
      "image/png": "[encoded data removed]",
      "text/plain": [
       "<Figure size 900x400 with 2 Axes>"
      ]
     },
     "metadata": {},
     "output_type": "display_data"
    }
   ],
   "source": [
    "dt = 1e-5\n",
    "t_max = 0.01\n",
    "nite = int(t_max/dt)\n",
    "rho,u = solve(rho_0, u_0, c, nite, ncells, dx, dt)\n",
    "rho += rho_0\n",
    "u += u_0\n",
    "\n",
    "t = 0.001\n",
    "ite_t = int(t/dt)\n",
    "\n",
    "fig, (ax1, ax2) = plt.subplots(1,2)\n",
    "fig.set_size_inches(9,4)\n",
    "fig.tight_layout(pad=3)\n",
    "ax1.title.set_text(\"Profil de vitesse u à t = \" + str(t))\n",
    "ax2.title.set_text(\"Masse volumique rho à l'instant t = \" + str(t))\n",
    "ax1.plot(-dx*range(ncells),u[:,ite_t])\n",
    "ax2.plot(-dx*range(ncells),rho[:,ite_t])"
   ]
  },
  {
   "cell_type": "markdown",
   "metadata": {},
   "source": [
    "### Question bonus\n",
    "Réalisez une animation à partir de l'évolution temporelles des différentes grandeurs."
   ]
  },
  {
   "cell_type": "code",
   "execution_count": 8,
   "metadata": {},
   "outputs": [],
   "source": [
    "from matplotlib import animation \n",
    "%matplotlib notebook"
   ]
  },
  {
   "cell_type": "code",
   "execution_count": 9,
   "metadata": {},
   "outputs": [
    {
     "data": {
      "application/javascript": "/* Put everything inside the global mpl namespace */\n/* global mpl */\nwindow.mpl = {};\n\nmpl.get_websocket_type = function () {\n    if (typeof WebSocket !== 'undefined') {\n        return WebSocket;\n    } else if (typeof MozWebSocket !== 'undefined') {\n        return MozWebSocket;\n    } else {\n        alert(\n            'Your browser does not have WebSocket support. ' +\n                'Please try Chrome, Safari or Firefox ≥ 6. ' +\n                'Firefox 4 and 5 are also supported but you ' +\n                'have to enable WebSockets in about:config.'\n        );\n    }\n};\n\nmpl.figure = function (figure_id, websocket, ondownload, parent_element) {\n    this.id = figure_id;\n\n    this.ws = websocket;\n\n    this.supports_binary = this.ws.binaryType !== undefined;\n\n    if (!this.supports_binary) {\n        var warnings = document.getElementById('mpl-warnings');\n        if (warnings) {\n            warnings.style.display = 'block';\n            warnings.textContent =\n                'This browser does not support binary websocket messages. ' +\n                'Performance may be slow.';\n        }\n    }\n\n    this.imageObj = new Image();\n\n    this.context = undefined;\n    this.message = undefined;\n    this.canvas = undefined;\n    this.rubberband_canvas = undefined;\n    this.rubberband_context = undefined;\n    this.format_dropdown = undefined;\n\n    this.image_mode = 'full';\n\n    this.root = document.createElement('div');\n    this.root.setAttribute('style', 'display: inline-block');\n    this._root_extra_style(this.root);\n\n    parent_element.appendChild(this.root);\n\n    this._init_header(this);\n    this._init_canvas(this);\n    this._init_toolbar(this);\n\n    var fig = this;\n\n    this.waiting = false;\n\n    this.ws.onopen = function () {\n        fig.send_message('supports_binary', { value: fig.supports_binary });\n        fig.send_message('send_image_mode', {});\n        if (fig.ratio !== 1) {\n            fig.send_message('set_device_pixel_ratio', {\n                device_pixel_ratio: fig.ratio,\n            });\n        }\n        fig.send_message('refresh', {});\n    };\n\n    this.imageObj.onload = function () {\n        if (fig.image_mode === 'full') {\n            // Full images could contain transparency (where diff images\n            // almost always do), so we need to clear the canvas so that\n            // there is no ghosting.\n            fig.context.clearRect(0, 0, fig.canvas.width, fig.canvas.height);\n        }\n        fig.context.drawImage(fig.imageObj, 0, 0);\n    };\n\n    this.imageObj.onunload = function () {\n        fig.ws.close();\n    };\n\n    this.ws.onmessage = this._make_on_message_function(this);\n\n    this.ondownload = ondownload;\n};\n\nmpl.figure.prototype._init_header = function () {\n    var titlebar = document.createElement('div');\n    titlebar.classList =\n        'ui-dialog-titlebar ui-widget-header ui-corner-all ui-helper-clearfix';\n    var titletext = document.createElement('div');\n    titletext.classList = 'ui-dialog-title';\n    titletext.setAttribute(\n        'style',\n        'width: 100%; text-align: center; padding: 3px;'\n    );\n    titlebar.appendChild(titletext);\n    this.root.appendChild(titlebar);\n    this.header = titletext;\n};\n\nmpl.figure.prototype._canvas_extra_style = function (_canvas_div) {};\n\nmpl.figure.prototype._root_extra_style = function (_canvas_div) {};\n\nmpl.figure.prototype._init_canvas = function () {\n    var fig = this;\n\n    var canvas_div = (this.canvas_div = document.createElement('div'));\n    canvas_div.setAttribute('tabindex', '0');\n    canvas_div.setAttribute(\n        'style',\n        'border: 1px solid #ddd;' +\n            'box-sizing: content-box;' +\n            'clear: both;' +\n            'min-height: 1px;' +\n            'min-width: 1px;' +\n            'outline: 0;' +\n            'overflow: hidden;' +\n            'position: relative;' +\n            'resize: both;' +\n            'z-index: 2;'\n    );\n\n    function on_keyboard_event_closure(name) {\n        return function (event) {\n            return fig.key_event(event, name);\n        };\n    }\n\n    canvas_div.addEventListener(\n        'keydown',\n        on_keyboard_event_closure('key_press')\n    );\n    canvas_div.addEventListener(\n        'keyup',\n        on_keyboard_event_closure('key_release')\n    );\n\n    this._canvas_extra_style(canvas_div);\n    this.root.appendChild(canvas_div);\n\n    var canvas = (this.canvas = document.createElement('canvas'));\n    canvas.classList.add('mpl-canvas');\n    canvas.setAttribute(\n        'style',\n        'box-sizing: content-box;' +\n            'pointer-events: none;' +\n            'position: relative;' +\n            'z-index: 0;'\n    );\n\n    this.context = canvas.getContext('2d');\n\n    var backingStore =\n        this.context.backingStorePixelRatio ||\n        this.context.webkitBackingStorePixelRatio ||\n        this.context.mozBackingStorePixelRatio ||\n        this.context.msBackingStorePixelRatio ||\n        this.context.oBackingStorePixelRatio ||\n        this.context.backingStorePixelRatio ||\n        1;\n\n    this.ratio = (window.devicePixelRatio || 1) / backingStore;\n\n    var rubberband_canvas = (this.rubberband_canvas = document.createElement(\n        'canvas'\n    ));\n    rubberband_canvas.setAttribute(\n        'style',\n        'box-sizing: content-box;' +\n            'left: 0;' +\n            'pointer-events: none;' +\n            'position: absolute;' +\n            'top: 0;' +\n            'z-index: 1;'\n    );\n\n    // Apply a ponyfill if ResizeObserver is not implemented by browser.\n    if (this.ResizeObserver === undefined) {\n        if (window.ResizeObserver !== undefined) {\n            this.ResizeObserver = window.ResizeObserver;\n        } else {\n            var obs = _JSXTOOLS_RESIZE_OBSERVER({});\n            this.ResizeObserver = obs.ResizeObserver;\n        }\n    }\n\n    this.resizeObserverInstance = new this.ResizeObserver(function (entries) {\n        var nentries = entries.length;\n        for (var i = 0; i < nentries; i++) {\n            var entry = entries[i];\n            var width, height;\n            if (entry.contentBoxSize) {\n                if (entry.contentBoxSize instanceof Array) {\n                    // Chrome 84 implements new version of spec.\n                    width = entry.contentBoxSize[0].inlineSize;\n                    height = entry.contentBoxSize[0].blockSize;\n                } else {\n                    // Firefox implements old version of spec.\n                    width = entry.contentBoxSize.inlineSize;\n                    height = entry.contentBoxSize.blockSize;\n                }\n            } else {\n                // Chrome <84 implements even older version of spec.\n                width = entry.contentRect.width;\n                height = entry.contentRect.height;\n            }\n\n            // Keep the size of the canvas and rubber band canvas in sync with\n            // the canvas container.\n            if (entry.devicePixelContentBoxSize) {\n                // Chrome 84 implements new version of spec.\n                canvas.setAttribute(\n                    'width',\n                    entry.devicePixelContentBoxSize[0].inlineSize\n                );\n                canvas.setAttribute(\n                    'height',\n                    entry.devicePixelContentBoxSize[0].blockSize\n                );\n            } else {\n                canvas.setAttribute('width', width * fig.ratio);\n                canvas.setAttribute('height', height * fig.ratio);\n            }\n            /* This rescales the canvas back to display pixels, so that it\n             * appears correct on HiDPI screens. */\n            canvas.style.width = width + 'px';\n            canvas.style.height = height + 'px';\n\n            rubberband_canvas.setAttribute('width', width);\n            rubberband_canvas.setAttribute('height', height);\n\n            // And update the size in Python. We ignore the initial 0/0 size\n            // that occurs as the element is placed into the DOM, which should\n            // otherwise not happen due to the minimum size styling.\n            if (fig.ws.readyState == 1 && width != 0 && height != 0) {\n                fig.request_resize(width, height);\n            }\n        }\n    });\n    this.resizeObserverInstance.observe(canvas_div);\n\n    function on_mouse_event_closure(name) {\n        /* User Agent sniffing is bad, but WebKit is busted:\n         * https://bugs.webkit.org/show_bug.cgi?id=144526\n         * https://bugs.webkit.org/show_bug.cgi?id=181818\n         * The worst that happens here is that they get an extra browser\n         * selection when dragging, if this check fails to catch them.\n         */\n        var UA = navigator.userAgent;\n        var isWebKit = /AppleWebKit/.test(UA) && !/Chrome/.test(UA);\n        if(isWebKit) {\n            return function (event) {\n                /* This prevents the web browser from automatically changing to\n                 * the text insertion cursor when the button is pressed. We\n                 * want to control all of the cursor setting manually through\n                 * the 'cursor' event from matplotlib */\n                event.preventDefault()\n                return fig.mouse_event(event, name);\n            };\n        } else {\n            return function (event) {\n                return fig.mouse_event(event, name);\n            };\n        }\n    }\n\n    canvas_div.addEventListener(\n        'mousedown',\n        on_mouse_event_closure('button_press')\n    );\n    canvas_div.addEventListener(\n        'mouseup',\n        on_mouse_event_closure('button_release')\n    );\n    canvas_div.addEventListener(\n        'dblclick',\n        on_mouse_event_closure('dblclick')\n    );\n    // Throttle sequential mouse events to 1 every 20ms.\n    canvas_div.addEventListener(\n        'mousemove',\n        on_mouse_event_closure('motion_notify')\n    );\n\n    canvas_div.addEventListener(\n        'mouseenter',\n        on_mouse_event_closure('figure_enter')\n    );\n    canvas_div.addEventListener(\n        'mouseleave',\n        on_mouse_event_closure('figure_leave')\n    );\n\n    canvas_div.addEventListener('wheel', function (event) {\n        if (event.deltaY < 0) {\n            event.step = 1;\n        } else {\n            event.step = -1;\n        }\n        on_mouse_event_closure('scroll')(event);\n    });\n\n    canvas_div.appendChild(canvas);\n    canvas_div.appendChild(rubberband_canvas);\n\n    this.rubberband_context = rubberband_canvas.getContext('2d');\n    this.rubberband_context.strokeStyle = '#000000';\n\n    this._resize_canvas = function (width, height, forward) {\n        if (forward) {\n            canvas_div.style.width = width + 'px';\n            canvas_div.style.height = height + 'px';\n        }\n    };\n\n    // Disable right mouse context menu.\n    canvas_div.addEventListener('contextmenu', function (_e) {\n        event.preventDefault();\n        return false;\n    });\n\n    function set_focus() {\n        canvas.focus();\n        canvas_div.focus();\n    }\n\n    window.setTimeout(set_focus, 100);\n};\n\nmpl.figure.prototype._init_toolbar = function () {\n    var fig = this;\n\n    var toolbar = document.createElement('div');\n    toolbar.classList = 'mpl-toolbar';\n    this.root.appendChild(toolbar);\n\n    function on_click_closure(name) {\n        return function (_event) {\n            return fig.toolbar_button_onclick(name);\n        };\n    }\n\n    function on_mouseover_closure(tooltip) {\n        return function (event) {\n            if (!event.currentTarget.disabled) {\n                return fig.toolbar_button_onmouseover(tooltip);\n            }\n        };\n    }\n\n    fig.buttons = {};\n    var buttonGroup = document.createElement('div');\n    buttonGroup.classList = 'mpl-button-group';\n    for (var toolbar_ind in mpl.toolbar_items) {\n        var name = mpl.toolbar_items[toolbar_ind][0];\n        var tooltip = mpl.toolbar_items[toolbar_ind][1];\n        var image = mpl.toolbar_items[toolbar_ind][2];\n        var method_name = mpl.toolbar_items[toolbar_ind][3];\n\n        if (!name) {\n            /* Instead of a spacer, we start a new button group. */\n            if (buttonGroup.hasChildNodes()) {\n                toolbar.appendChild(buttonGroup);\n            }\n            buttonGroup = document.createElement('div');\n            buttonGroup.classList = 'mpl-button-group';\n            continue;\n        }\n\n        var button = (fig.buttons[name] = document.createElement('button'));\n        button.classList = 'mpl-widget';\n        button.setAttribute('role', 'button');\n        button.setAttribute('aria-disabled', 'false');\n        button.addEventListener('click', on_click_closure(method_name));\n        button.addEventListener('mouseover', on_mouseover_closure(tooltip));\n\n        var icon_img = document.createElement('img');\n        icon_img.src = '_images/' + image + '.png';\n        icon_img.srcset = '_images/' + image + '_large.png 2x';\n        icon_img.alt = tooltip;\n        button.appendChild(icon_img);\n\n        buttonGroup.appendChild(button);\n    }\n\n    if (buttonGroup.hasChildNodes()) {\n        toolbar.appendChild(buttonGroup);\n    }\n\n    var fmt_picker = document.createElement('select');\n    fmt_picker.classList = 'mpl-widget';\n    toolbar.appendChild(fmt_picker);\n    this.format_dropdown = fmt_picker;\n\n    for (var ind in mpl.extensions) {\n        var fmt = mpl.extensions[ind];\n        var option = document.createElement('option');\n        option.selected = fmt === mpl.default_extension;\n        option.innerHTML = fmt;\n        fmt_picker.appendChild(option);\n    }\n\n    var status_bar = document.createElement('span');\n    status_bar.classList = 'mpl-message';\n    toolbar.appendChild(status_bar);\n    this.message = status_bar;\n};\n\nmpl.figure.prototype.request_resize = function (x_pixels, y_pixels) {\n    // Request matplotlib to resize the figure. Matplotlib will then trigger a resize in the client,\n    // which will in turn request a refresh of the image.\n    this.send_message('resize', { width: x_pixels, height: y_pixels });\n};\n\nmpl.figure.prototype.send_message = function (type, properties) {\n    properties['type'] = type;\n    properties['figure_id'] = this.id;\n    this.ws.send(JSON.stringify(properties));\n};\n\nmpl.figure.prototype.send_draw_message = function () {\n    if (!this.waiting) {\n        this.waiting = true;\n        this.ws.send(JSON.stringify({ type: 'draw', figure_id: this.id }));\n    }\n};\n\nmpl.figure.prototype.handle_save = function (fig, _msg) {\n    var format_dropdown = fig.format_dropdown;\n    var format = format_dropdown.options[format_dropdown.selectedIndex].value;\n    fig.ondownload(fig, format);\n};\n\nmpl.figure.prototype.handle_resize = function (fig, msg) {\n    var size = msg['size'];\n    if (size[0] !== fig.canvas.width || size[1] !== fig.canvas.height) {\n        fig._resize_canvas(size[0], size[1], msg['forward']);\n        fig.send_message('refresh', {});\n    }\n};\n\nmpl.figure.prototype.handle_rubberband = function (fig, msg) {\n    var x0 = msg['x0'] / fig.ratio;\n    var y0 = (fig.canvas.height - msg['y0']) / fig.ratio;\n    var x1 = msg['x1'] / fig.ratio;\n    var y1 = (fig.canvas.height - msg['y1']) / fig.ratio;\n    x0 = Math.floor(x0) + 0.5;\n    y0 = Math.floor(y0) + 0.5;\n    x1 = Math.floor(x1) + 0.5;\n    y1 = Math.floor(y1) + 0.5;\n    var min_x = Math.min(x0, x1);\n    var min_y = Math.min(y0, y1);\n    var width = Math.abs(x1 - x0);\n    var height = Math.abs(y1 - y0);\n\n    fig.rubberband_context.clearRect(\n        0,\n        0,\n        fig.canvas.width / fig.ratio,\n        fig.canvas.height / fig.ratio\n    );\n\n    fig.rubberband_context.strokeRect(min_x, min_y, width, height);\n};\n\nmpl.figure.prototype.handle_figure_label = function (fig, msg) {\n    // Updates the figure title.\n    fig.header.textContent = msg['label'];\n};\n\nmpl.figure.prototype.handle_cursor = function (fig, msg) {\n    fig.canvas_div.style.cursor = msg['cursor'];\n};\n\nmpl.figure.prototype.handle_message = function (fig, msg) {\n    fig.message.textContent = msg['message'];\n};\n\nmpl.figure.prototype.handle_draw = function (fig, _msg) {\n    // Request the server to send over a new figure.\n    fig.send_draw_message();\n};\n\nmpl.figure.prototype.handle_image_mode = function (fig, msg) {\n    fig.image_mode = msg['mode'];\n};\n\nmpl.figure.prototype.handle_history_buttons = function (fig, msg) {\n    for (var key in msg) {\n        if (!(key in fig.buttons)) {\n            continue;\n        }\n        fig.buttons[key].disabled = !msg[key];\n        fig.buttons[key].setAttribute('aria-disabled', !msg[key]);\n    }\n};\n\nmpl.figure.prototype.handle_navigate_mode = function (fig, msg) {\n    if (msg['mode'] === 'PAN') {\n        fig.buttons['Pan'].classList.add('active');\n        fig.buttons['Zoom'].classList.remove('active');\n    } else if (msg['mode'] === 'ZOOM') {\n        fig.buttons['Pan'].classList.remove('active');\n        fig.buttons['Zoom'].classList.add('active');\n    } else {\n        fig.buttons['Pan'].classList.remove('active');\n        fig.buttons['Zoom'].classList.remove('active');\n    }\n};\n\nmpl.figure.prototype.updated_canvas_event = function () {\n    // Called whenever the canvas gets updated.\n    this.send_message('ack', {});\n};\n\n// A function to construct a web socket function for onmessage handling.\n// Called in the figure constructor.\nmpl.figure.prototype._make_on_message_function = function (fig) {\n    return function socket_on_message(evt) {\n        if (evt.data instanceof Blob) {\n            var img = evt.data;\n            if (img.type !== 'image/png') {\n                /* FIXME: We get \"Resource interpreted as Image but\n                 * transferred with MIME type text/plain:\" errors on\n                 * Chrome.  But how to set the MIME type?  It doesn't seem\n                 * to be part of the websocket stream */\n                img.type = 'image/png';\n            }\n\n            /* Free the memory for the previous frames */\n            if (fig.imageObj.src) {\n                (window.URL || window.webkitURL).revokeObjectURL(\n                    fig.imageObj.src\n                );\n            }\n\n            fig.imageObj.src = (window.URL || window.webkitURL).createObjectURL(\n                img\n            );\n            fig.updated_canvas_event();\n            fig.waiting = false;\n            return;\n        } else if (\n            typeof evt.data === 'string' &&\n            evt.data.slice(0, 21) === 'data:image/png;base64'\n        ) {\n            fig.imageObj.src = evt.data;\n            fig.updated_canvas_event();\n            fig.waiting = false;\n            return;\n        }\n\n        var msg = JSON.parse(evt.data);\n        var msg_type = msg['type'];\n\n        // Call the  \"handle_{type}\" callback, which takes\n        // the figure and JSON message as its only arguments.\n        try {\n            var callback = fig['handle_' + msg_type];\n        } catch (e) {\n            console.log(\n                \"No handler for the '\" + msg_type + \"' message type: \",\n                msg\n            );\n            return;\n        }\n\n        if (callback) {\n            try {\n                // console.log(\"Handling '\" + msg_type + \"' message: \", msg);\n                callback(fig, msg);\n            } catch (e) {\n                console.log(\n                    \"Exception inside the 'handler_\" + msg_type + \"' callback:\",\n                    e,\n                    e.stack,\n                    msg\n                );\n            }\n        }\n    };\n};\n\nfunction getModifiers(event) {\n    var mods = [];\n    if (event.ctrlKey) {\n        mods.push('ctrl');\n    }\n    if (event.altKey) {\n        mods.push('alt');\n    }\n    if (event.shiftKey) {\n        mods.push('shift');\n    }\n    if (event.metaKey) {\n        mods.push('meta');\n    }\n    return mods;\n}\n\n/*\n * return a copy of an object with only non-object keys\n * we need this to avoid circular references\n * https://stackoverflow.com/a/24161582/3208463\n */\nfunction simpleKeys(original) {\n    return Object.keys(original).reduce(function (obj, key) {\n        if (typeof original[key] !== 'object') {\n            obj[key] = original[key];\n        }\n        return obj;\n    }, {});\n}\n\nmpl.figure.prototype.mouse_event = function (event, name) {\n    if (name === 'button_press') {\n        this.canvas.focus();\n        this.canvas_div.focus();\n    }\n\n    // from https://stackoverflow.com/q/1114465\n    var boundingRect = this.canvas.getBoundingClientRect();\n    var x = (event.clientX - boundingRect.left) * this.ratio;\n    var y = (event.clientY - boundingRect.top) * this.ratio;\n\n    this.send_message(name, {\n        x: x,\n        y: y,\n        button: event.button,\n        step: event.step,\n        modifiers: getModifiers(event),\n        guiEvent: simpleKeys(event),\n    });\n\n    return false;\n};\n\nmpl.figure.prototype._key_event_extra = function (_event, _name) {\n    // Handle any extra behaviour associated with a key event\n};\n\nmpl.figure.prototype.key_event = function (event, name) {\n    // Prevent repeat events\n    if (name === 'key_press') {\n        if (event.key === this._key) {\n            return;\n        } else {\n            this._key = event.key;\n        }\n    }\n    if (name === 'key_release') {\n        this._key = null;\n    }\n\n    var value = '';\n    if (event.ctrlKey && event.key !== 'Control') {\n        value += 'ctrl+';\n    }\n    else if (event.altKey && event.key !== 'Alt') {\n        value += 'alt+';\n    }\n    else if (event.shiftKey && event.key !== 'Shift') {\n        value += 'shift+';\n    }\n\n    value += 'k' + event.key;\n\n    this._key_event_extra(event, name);\n\n    this.send_message(name, { key: value, guiEvent: simpleKeys(event) });\n    return false;\n};\n\nmpl.figure.prototype.toolbar_button_onclick = function (name) {\n    if (name === 'download') {\n        this.handle_save(this, null);\n    } else {\n        this.send_message('toolbar_button', { name: name });\n    }\n};\n\nmpl.figure.prototype.toolbar_button_onmouseover = function (tooltip) {\n    this.message.textContent = tooltip;\n};\n\n///////////////// REMAINING CONTENT GENERATED BY embed_js.py /////////////////\n// prettier-ignore\nvar _JSXTOOLS_RESIZE_OBSERVER=function(A){var t,i=new WeakMap,n=new WeakMap,a=new WeakMap,r=new WeakMap,o=new Set;function s(e){if(!(this instanceof s))throw new TypeError(\"Constructor requires 'new' operator\");i.set(this,e)}function h(){throw new TypeError(\"Function is not a constructor\")}function c(e,t,i,n){e=0 in arguments?Number(arguments[0]):0,t=1 in arguments?Number(arguments[1]):0,i=2 in arguments?Number(arguments[2]):0,n=3 in arguments?Number(arguments[3]):0,this.right=(this.x=this.left=e)+(this.width=i),this.bottom=(this.y=this.top=t)+(this.height=n),Object.freeze(this)}function d(){t=requestAnimationFrame(d);var s=new WeakMap,p=new Set;o.forEach((function(t){r.get(t).forEach((function(i){var r=t instanceof window.SVGElement,o=a.get(t),d=r?0:parseFloat(o.paddingTop),f=r?0:parseFloat(o.paddingRight),l=r?0:parseFloat(o.paddingBottom),u=r?0:parseFloat(o.paddingLeft),g=r?0:parseFloat(o.borderTopWidth),m=r?0:parseFloat(o.borderRightWidth),w=r?0:parseFloat(o.borderBottomWidth),b=u+f,F=d+l,v=(r?0:parseFloat(o.borderLeftWidth))+m,W=g+w,y=r?0:t.offsetHeight-W-t.clientHeight,E=r?0:t.offsetWidth-v-t.clientWidth,R=b+v,z=F+W,M=r?t.width:parseFloat(o.width)-R-E,O=r?t.height:parseFloat(o.height)-z-y;if(n.has(t)){var k=n.get(t);if(k[0]===M&&k[1]===O)return}n.set(t,[M,O]);var S=Object.create(h.prototype);S.target=t,S.contentRect=new c(u,d,M,O),s.has(i)||(s.set(i,[]),p.add(i)),s.get(i).push(S)}))})),p.forEach((function(e){i.get(e).call(e,s.get(e),e)}))}return s.prototype.observe=function(i){if(i instanceof window.Element){r.has(i)||(r.set(i,new Set),o.add(i),a.set(i,window.getComputedStyle(i)));var n=r.get(i);n.has(this)||n.add(this),cancelAnimationFrame(t),t=requestAnimationFrame(d)}},s.prototype.unobserve=function(i){if(i instanceof window.Element&&r.has(i)){var n=r.get(i);n.has(this)&&(n.delete(this),n.size||(r.delete(i),o.delete(i))),n.size||r.delete(i),o.size||cancelAnimationFrame(t)}},A.DOMRectReadOnly=c,A.ResizeObserver=s,A.ResizeObserverEntry=h,A}; // eslint-disable-line\nmpl.toolbar_items = [[\"Home\", \"Reset original view\", \"fa fa-home\", \"home\"], [\"Back\", \"Back to previous view\", \"fa fa-arrow-left\", \"back\"], [\"Forward\", \"Forward to next view\", \"fa fa-arrow-right\", \"forward\"], [\"\", \"\", \"\", \"\"], [\"Pan\", \"Left button pans, Right button zooms\\nx/y fixes axis, CTRL fixes aspect\", \"fa fa-arrows\", \"pan\"], [\"Zoom\", \"Zoom to rectangle\\nx/y fixes axis\", \"fa fa-square-o\", \"zoom\"], [\"\", \"\", \"\", \"\"], [\"Download\", \"Download plot\", \"fa fa-floppy-o\", \"download\"]];\n\nmpl.extensions = [\"eps\", \"jpeg\", \"pgf\", \"pdf\", \"png\", \"ps\", \"raw\", \"svg\", \"tif\", \"webp\"];\n\nmpl.default_extension = \"png\";/* global mpl */\n\nvar comm_websocket_adapter = function (comm) {\n    // Create a \"websocket\"-like object which calls the given IPython comm\n    // object with the appropriate methods. Currently this is a non binary\n    // socket, so there is still some room for performance tuning.\n    var ws = {};\n\n    ws.binaryType = comm.kernel.ws.binaryType;\n    ws.readyState = comm.kernel.ws.readyState;\n    function updateReadyState(_event) {\n        if (comm.kernel.ws) {\n            ws.readyState = comm.kernel.ws.readyState;\n        } else {\n            ws.readyState = 3; // Closed state.\n        }\n    }\n    comm.kernel.ws.addEventListener('open', updateReadyState);\n    comm.kernel.ws.addEventListener('close', updateReadyState);\n    comm.kernel.ws.addEventListener('error', updateReadyState);\n\n    ws.close = function () {\n        comm.close();\n    };\n    ws.send = function (m) {\n        //console.log('sending', m);\n        comm.send(m);\n    };\n    // Register the callback with on_msg.\n    comm.on_msg(function (msg) {\n        //console.log('receiving', msg['content']['data'], msg);\n        var data = msg['content']['data'];\n        if (data['blob'] !== undefined) {\n            data = {\n                data: new Blob(msg['buffers'], { type: data['blob'] }),\n            };\n        }\n        // Pass the mpl event to the overridden (by mpl) onmessage function.\n        ws.onmessage(data);\n    });\n    return ws;\n};\n\nmpl.mpl_figure_comm = function (comm, msg) {\n    // This is the function which gets called when the mpl process\n    // starts-up an IPython Comm through the \"matplotlib\" channel.\n\n    var id = msg.content.data.id;\n    // Get hold of the div created by the display call when the Comm\n    // socket was opened in Python.\n    var element = document.getElementById(id);\n    var ws_proxy = comm_websocket_adapter(comm);\n\n    function ondownload(figure, _format) {\n        window.open(figure.canvas.toDataURL());\n    }\n\n    var fig = new mpl.figure(id, ws_proxy, ondownload, element);\n\n    // Call onopen now - mpl needs it, as it is assuming we've passed it a real\n    // web socket which is closed, not our websocket->open comm proxy.\n    ws_proxy.onopen();\n\n    fig.parent_element = element;\n    fig.cell_info = mpl.find_output_cell(\"<div id='\" + id + \"'></div>\");\n    if (!fig.cell_info) {\n        console.error('Failed to find cell for figure', id, fig);\n        return;\n    }\n    fig.cell_info[0].output_area.element.on(\n        'cleared',\n        { fig: fig },\n        fig._remove_fig_handler\n    );\n};\n\nmpl.figure.prototype.handle_close = function (fig, msg) {\n    var width = fig.canvas.width / fig.ratio;\n    fig.cell_info[0].output_area.element.off(\n        'cleared',\n        fig._remove_fig_handler\n    );\n    fig.resizeObserverInstance.unobserve(fig.canvas_div);\n\n    // Update the output cell to use the data from the current canvas.\n    fig.push_to_output();\n    var dataURL = fig.canvas.toDataURL();\n    // Re-enable the keyboard manager in IPython - without this line, in FF,\n    // the notebook keyboard shortcuts fail.\n    IPython.keyboard_manager.enable();\n    fig.parent_element.innerHTML =\n        '<img src=\"' + dataURL + '\" width=\"' + width + '\">';\n    fig.close_ws(fig, msg);\n};\n\nmpl.figure.prototype.close_ws = function (fig, msg) {\n    fig.send_message('closing', msg);\n    // fig.ws.close()\n};\n\nmpl.figure.prototype.push_to_output = function (_remove_interactive) {\n    // Turn the data on the canvas into data in the output cell.\n    var width = this.canvas.width / this.ratio;\n    var dataURL = this.canvas.toDataURL();\n    this.cell_info[1]['text/html'] =\n        '<img src=\"' + dataURL + '\" width=\"' + width + '\">';\n};\n\nmpl.figure.prototype.updated_canvas_event = function () {\n    // Tell IPython that the notebook contents must change.\n    IPython.notebook.set_dirty(true);\n    this.send_message('ack', {});\n    var fig = this;\n    // Wait a second, then push the new image to the DOM so\n    // that it is saved nicely (might be nice to debounce this).\n    setTimeout(function () {\n        fig.push_to_output();\n    }, 1000);\n};\n\nmpl.figure.prototype._init_toolbar = function () {\n    var fig = this;\n\n    var toolbar = document.createElement('div');\n    toolbar.classList = 'btn-toolbar';\n    this.root.appendChild(toolbar);\n\n    function on_click_closure(name) {\n        return function (_event) {\n            return fig.toolbar_button_onclick(name);\n        };\n    }\n\n    function on_mouseover_closure(tooltip) {\n        return function (event) {\n            if (!event.currentTarget.disabled) {\n                return fig.toolbar_button_onmouseover(tooltip);\n            }\n        };\n    }\n\n    fig.buttons = {};\n    var buttonGroup = document.createElement('div');\n    buttonGroup.classList = 'btn-group';\n    var button;\n    for (var toolbar_ind in mpl.toolbar_items) {\n        var name = mpl.toolbar_items[toolbar_ind][0];\n        var tooltip = mpl.toolbar_items[toolbar_ind][1];\n        var image = mpl.toolbar_items[toolbar_ind][2];\n        var method_name = mpl.toolbar_items[toolbar_ind][3];\n\n        if (!name) {\n            /* Instead of a spacer, we start a new button group. */\n            if (buttonGroup.hasChildNodes()) {\n                toolbar.appendChild(buttonGroup);\n            }\n            buttonGroup = document.createElement('div');\n            buttonGroup.classList = 'btn-group';\n            continue;\n        }\n\n        button = fig.buttons[name] = document.createElement('button');\n        button.classList = 'btn btn-default';\n        button.href = '#';\n        button.title = name;\n        button.innerHTML = '<i class=\"fa ' + image + ' fa-lg\"></i>';\n        button.addEventListener('click', on_click_closure(method_name));\n        button.addEventListener('mouseover', on_mouseover_closure(tooltip));\n        buttonGroup.appendChild(button);\n    }\n\n    if (buttonGroup.hasChildNodes()) {\n        toolbar.appendChild(buttonGroup);\n    }\n\n    // Add the status bar.\n    var status_bar = document.createElement('span');\n    status_bar.classList = 'mpl-message pull-right';\n    toolbar.appendChild(status_bar);\n    this.message = status_bar;\n\n    // Add the close button to the window.\n    var buttongrp = document.createElement('div');\n    buttongrp.classList = 'btn-group inline pull-right';\n    button = document.createElement('button');\n    button.classList = 'btn btn-mini btn-primary';\n    button.href = '#';\n    button.title = 'Stop Interaction';\n    button.innerHTML = '<i class=\"fa fa-power-off icon-remove icon-large\"></i>';\n    button.addEventListener('click', function (_evt) {\n        fig.handle_close(fig, {});\n    });\n    button.addEventListener(\n        'mouseover',\n        on_mouseover_closure('Stop Interaction')\n    );\n    buttongrp.appendChild(button);\n    var titlebar = this.root.querySelector('.ui-dialog-titlebar');\n    titlebar.insertBefore(buttongrp, titlebar.firstChild);\n};\n\nmpl.figure.prototype._remove_fig_handler = function (event) {\n    var fig = event.data.fig;\n    if (event.target !== this) {\n        // Ignore bubbled events from children.\n        return;\n    }\n    fig.close_ws(fig, {});\n};\n\nmpl.figure.prototype._root_extra_style = function (el) {\n    el.style.boxSizing = 'content-box'; // override notebook setting of border-box.\n};\n\nmpl.figure.prototype._canvas_extra_style = function (el) {\n    // this is important to make the div 'focusable\n    el.setAttribute('tabindex', 0);\n    // reach out to IPython and tell the keyboard manager to turn it's self\n    // off when our div gets focus\n\n    // location in version 3\n    if (IPython.notebook.keyboard_manager) {\n        IPython.notebook.keyboard_manager.register_events(el);\n    } else {\n        // location in version 2\n        IPython.keyboard_manager.register_events(el);\n    }\n};\n\nmpl.figure.prototype._key_event_extra = function (event, _name) {\n    // Check for shift+enter\n    if (event.shiftKey && event.which === 13) {\n        this.canvas_div.blur();\n        // select the cell after this one\n        var index = IPython.notebook.find_cell_index(this.cell_info[0]);\n        IPython.notebook.select(index + 1);\n    }\n};\n\nmpl.figure.prototype.handle_save = function (fig, _msg) {\n    fig.ondownload(fig, null);\n};\n\nmpl.find_output_cell = function (html_output) {\n    // Return the cell and output element which can be found *uniquely* in the notebook.\n    // Note - this is a bit hacky, but it is done because the \"notebook_saving.Notebook\"\n    // IPython event is triggered only after the cells have been serialised, which for\n    // our purposes (turning an active figure into a static one), is too late.\n    var cells = IPython.notebook.get_cells();\n    var ncells = cells.length;\n    for (var i = 0; i < ncells; i++) {\n        var cell = cells[i];\n        if (cell.cell_type === 'code') {\n            for (var j = 0; j < cell.output_area.outputs.length; j++) {\n                var data = cell.output_area.outputs[j];\n                if (data.data) {\n                    // IPython >= 3 moved mimebundle to data attribute of output\n                    data = data.data;\n                }\n                if (data['text/html'] === html_output) {\n                    return [cell, data, j];\n                }\n            }\n        }\n    }\n};\n\n// Register the function which deals with the matplotlib target/channel.\n// The kernel may be null if the page has been refreshed.\nif (IPython.notebook.kernel !== null) {\n    IPython.notebook.kernel.comm_manager.register_target(\n        'matplotlib',\n        mpl.mpl_figure_comm\n    );\n}\n",
      "text/plain": [
       "<IPython.core.display.Javascript object>"
      ]
     },
     "metadata": {},
     "output_type": "display_data"
    },
    {
     "data": {
      "text/html": [
       "<div id='e901852b-1cf9-4ecc-b042-5a11ee260c3b'></div>"
      ],
      "text/plain": [
       "<IPython.core.display.HTML object>"
      ]
     },
     "metadata": {},
     "output_type": "display_data"
    }
   ],
   "source": [
    "plot_freq = 4\n",
    "\n",
    "fig, (ax1, ax2) = plt.subplots(1,2)\n",
    "fig.set_size_inches(9,4)\n",
    "fig.tight_layout(pad=3)\n",
    "\n",
    "umin = u.min() \n",
    "umax = u.max()\n",
    "ymin1 = umin - 0.1*abs(umax-umin)\n",
    "ymax1 = umax + 0.1*abs(umax-umin)\n",
    "rhomin = rho.min() \n",
    "rhomax = rho.max()\n",
    "ymin2 = rhomin - 0.1*abs(rhomax-rhomin)\n",
    "ymax2 = rhomax + 0.1*abs(rhomax-rhomin)\n",
    "\n",
    "def animate(i):\n",
    "    ax1.clear()\n",
    "    ax2.clear()\n",
    "    ax1.title.set_text(\"Evolution du profil de vitesse u\")\n",
    "    ax2.title.set_text(\"Evolution de la masse volumique rho\")\n",
    "    ax1.set_xlim(left=-xmin, right=0)\n",
    "    ax1.set_ylim(bottom=ymin1, top=ymax1)\n",
    "    ax2.set_xlim(left=-xmin, right=0)\n",
    "    ax2.set_ylim(bottom=ymin2, top=ymax2)\n",
    "    ax1.plot(-dx*range(ncells),u[:,i*plot_freq])\n",
    "    ax2.plot(-dx*range(ncells),rho[:,i*plot_freq])\n",
    "\n",
    "ani = animation.FuncAnimation(fig, animate, frames=int(nite/plot_freq),repeat=False, interval=1)"
   ]
  },
  {
   "cell_type": "code",
   "execution_count": null,
   "metadata": {},
   "outputs": [],
   "source": []
  }
 ],
 "metadata": {
  "kernelspec": {
   "display_name": "BasicEnv",
   "language": "python",
   "name": "basicenv"
  },
  "language_info": {
   "codemirror_mode": {
    "name": "ipython",
    "version": 3
   },
   "file_extension": ".py",
   "mimetype": "text/x-python",
   "name": "python",
   "nbconvert_exporter": "python",
   "pygments_lexer": "ipython3",
   "version": "3.11.3"
  },
  "toc": {
   "base_numbering": 1,
   "nav_menu": {},
   "number_sections": true,
   "sideBar": true,
   "skip_h1_title": false,
   "title_cell": "Table of Contents",
   "title_sidebar": "Contents",
   "toc_cell": false,
   "toc_position": {},
   "toc_section_display": true,
   "toc_window_display": false
  },
  "vscode": {
   "interpreter": {
    "hash": "bacb6a13c211bae8be83f7d49e8426a638baa8d39738542db834f0c995aadfcc"
   }
  }
 },
 "nbformat": 4,
 "nbformat_minor": 2
}
